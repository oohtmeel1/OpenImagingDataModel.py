{
 "cells": [
  {
   "cell_type": "code",
   "execution_count": 5,
   "metadata": {},
   "outputs": [],
   "source": [
    "import random\n",
    "from openai import AsyncOpenAI\n",
    "import motor.motor_asyncio\n",
    "from dotenv import dotenv_values\n",
    "from openimagingdatamodel.ontology_tools.snomedct_concept import SnomedCTConcept"
   ]
  },
  {
   "cell_type": "markdown",
   "metadata": {},
   "source": [
    "Load Env and Database\n"
   ]
  },
  {
   "cell_type": "code",
   "execution_count": 2,
   "metadata": {},
   "outputs": [
    {
     "name": "stdout",
     "output_type": "stream",
     "text": [
      "{'version': '7.0.11', 'gitVersion': 'f451220f0df2b9dfe073f1521837f8ec5c208a8c', 'modules': ['enterprise'], 'allocator': 'tcmalloc', 'javascriptEngine': 'mozjs', 'sysInfo': 'deprecated', 'versionArray': [7, 0, 11, 0], 'bits': 64, 'debug': False, 'maxBsonObjectSize': 16777216, 'storageEngines': ['devnull', 'inMemory', 'queryable_wt', 'wiredTiger'], 'ok': 1.0, '$clusterTime': {'clusterTime': Timestamp(1717764150, 6), 'signature': {'hash': b'\\x1d3\\xce?\\xb6\\xd3P\\xd9x\\x94\\xc0\\x0b\\n\\xf1\\x17y\\xec!L\\x96', 'keyId': 7327016299177967635}}, 'operationTime': Timestamp(1717764150, 6)}\n"
     ]
    }
   ],
   "source": [
    "config = dotenv_values(\".env\")\n",
    "client = motor.motor_asyncio.AsyncIOMotorClient(config[\"ATLAS_DSN\"])\n",
    "# Ping the client to confirm\n",
    "print(await client.server_info())  #"
   ]
  },
  {
   "cell_type": "code",
   "execution_count": 10,
   "metadata": {},
   "outputs": [
    {
     "name": "stdout",
     "output_type": "stream",
     "text": [
      "SNOMED CT COUNT: 508540\n"
     ]
    }
   ],
   "source": [
    "db = client[\"ontologies\"]\n",
    "snomedct_collection = db[\"snomedct\"]\n",
    "SNOMED_CONCEPT_COUNT = await snomedct_collection.count_documents({})\n",
    "print(f\"SNOMED CT COUNT: {SNOMED_CONCEPT_COUNT}\")"
   ]
  },
  {
   "cell_type": "markdown",
   "metadata": {},
   "source": [
    "Generate Embedding\n"
   ]
  },
  {
   "cell_type": "code",
   "execution_count": 7,
   "metadata": {},
   "outputs": [],
   "source": [
    "openai_client = AsyncOpenAI(api_key=config[\"OPENAI_API_KEY\"])"
   ]
  },
  {
   "cell_type": "code",
   "execution_count": 8,
   "metadata": {},
   "outputs": [],
   "source": [
    "async def get_embedding(text, model=\"text-embedding-3-large\", dimensions: int = 1024):\n",
    "    text = text.replace(\"\\n\", \" \")\n",
    "    response = await openai_client.embeddings.create(input=[text], model=model, dimensions=dimensions)\n",
    "    return response.data[0].embedding"
   ]
  },
  {
   "cell_type": "markdown",
   "metadata": {},
   "source": [
    "Get Sonomed Combined Text\n"
   ]
  },
  {
   "cell_type": "code",
   "execution_count": 9,
   "metadata": {},
   "outputs": [],
   "source": [
    "def text_for_embedding(document):\n",
    "    \"\"\"\n",
    "    Combine preferred term, alternate terms, and definition into a single text string.\n",
    "\n",
    "    \"\"\"\n",
    "    # Combine the terms and definition into a single string\n",
    "    # Alternate terms are joined by a comma and a space\n",
    "    text_components = []\n",
    "\n",
    "    # Add the preferred term if it exists\n",
    "    if \"preferredTerm\" in document and document[\"preferredTerm\"]:\n",
    "        text_components.append(f\"Preferred term: {document['preferredTerm']}\")\n",
    "\n",
    "    # Add the alternate terms if they exist\n",
    "    if \"terms\" in document and document[\"terms\"]:\n",
    "        text_components.append(\"Other terms: \" + \", \".join(document[\"terms\"]))\n",
    "\n",
    "    # Add the definition if it exists\n",
    "    if \"definitions\" in document and document[\"definitions\"]:\n",
    "        text_components.append(\"Definition: \" + \" \".join(document[\"definitions\"]))\n",
    "\n",
    "    # Combine the available fields into a single string for embedding\n",
    "    return \"; \".join(text_components)"
   ]
  },
  {
   "cell_type": "code",
   "execution_count": 13,
   "metadata": {},
   "outputs": [
    {
     "name": "stdout",
     "output_type": "stream",
     "text": [
      "Preferred term: Family history: Mother; Other terms: Family history with explicit context pertaining to mother, Family history with explicit context pertaining to mother (situation), FH: Mother\n",
      "Got vector length  1024\n",
      "Preferred term: Family history: Mother alive and well; Other terms: FH: Mother alive and well\n",
      "Got vector length  1024\n",
      "Preferred term: Family history: Mother alive with problem; Other terms: FH: Mother alive with problem\n",
      "Got vector length  1024\n",
      "Preferred term: Mother deceased; Other terms: Family history: Mother dead (situation), Family history: Mother dead (context-dependent category), FH: Mother dead, Family history: Mother dead\n",
      "Got vector length  1024\n",
      "Preferred term: Leishmania donovani donovani\n",
      "Got vector length  1024\n",
      "Preferred term: Family history: Mother unwell; Other terms: FH: Mother unwell\n",
      "Got vector length  1024\n",
      "Preferred term: Family history: Mother NOS; Other terms: FH: Mother NOS\n",
      "Got vector length  1024\n",
      "Preferred term: Family history: Father; Other terms: Family history with explicit context pertaining to father (situation), FH: Father, Paternal history, Family history with explicit context pertaining to father\n",
      "Got vector length  1024\n",
      "Preferred term: Family history: Father alive and well; Other terms: FH: Father alive and well\n",
      "Got vector length  1024\n",
      "Preferred term: Family history: Father alive with problem; Other terms: FH: Father alive with problem\n",
      "Got vector length  1024\n",
      "Preferred term: Father deceased; Other terms: FH: Father dead, Family history: Father dead (context-dependent category), Family history: Father dead, Father dead, Family history: Father dead (situation)\n",
      "Got vector length  1024\n",
      "Preferred term: Family history: Father deaf; Other terms: FH: Father deaf\n",
      "Got vector length  1024\n",
      "Preferred term: Family history: Father NOS; Other terms: FH: Father NOS\n",
      "Got vector length  1024\n",
      "Preferred term: Family history: Sister; Other terms: Family history with explicit context pertaining to sister (situation), Family history with explicit context pertaining to sister, FH: Sister\n",
      "Got vector length  1024\n",
      "Preferred term: Other complication of anesthesia or sedation in labor and delivery, NEC; Other terms: Other complication of anaesthesia or sedation in labour and delivery, NEC -RETIRED-, Other complication of anesthesia or sedation in labor and delivery, NEC -RETIRED-, Other complication of anaesthesia or sedation in labour and delivery, NEC\n",
      "Got vector length  1024\n"
     ]
    }
   ],
   "source": [
    "cursor = (\n",
    "    snomedct_collection.find({}, {\"preferredTerm\": 1, \"terms\": 1, \"definitions\": 1})\n",
    "    .limit(15)\n",
    "    .skip(random.randint(0, SNOMED_CONCEPT_COUNT - 15))\n",
    ")\n",
    "\n",
    "# Get the combined text for embedding\n",
    "async for document in cursor:\n",
    "    embedding_text = text_for_embedding(document)\n",
    "    print(embedding_text)\n",
    "    vector = await get_embedding(embedding_text)\n",
    "    print(\"Got vector length \", len(vector))"
   ]
  },
  {
   "cell_type": "code",
   "execution_count": null,
   "metadata": {},
   "outputs": [],
   "source": []
  }
 ],
 "metadata": {
  "kernelspec": {
   "display_name": ".venv",
   "language": "python",
   "name": "python3"
  },
  "language_info": {
   "codemirror_mode": {
    "name": "ipython",
    "version": 3
   },
   "file_extension": ".py",
   "mimetype": "text/x-python",
   "name": "python",
   "nbconvert_exporter": "python",
   "pygments_lexer": "ipython3",
   "version": "3.11.9"
  }
 },
 "nbformat": 4,
 "nbformat_minor": 2
}
