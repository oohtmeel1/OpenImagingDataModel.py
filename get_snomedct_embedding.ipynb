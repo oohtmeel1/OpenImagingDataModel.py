{
 "cells": [
  {
   "cell_type": "code",
   "execution_count": null,
   "metadata": {},
   "outputs": [],
   "source": [
    "import motor.motor_asyncio\n",
    "import pymongo\n",
    "from dotenv import dotenv_values\n",
    "from openai import AsyncOpenAI, OpenAI\n",
    "from openimagingdatamodel.ontology_tools.embedding_creator import AsyncEmbeddingCreator, EmbeddingCreator\n",
    "from openimagingdatamodel.ontology_tools.snomedct_concept import SnomedCTConcept\n",
    "from openimagingdatamodel.ontology_tools.snomedct_concept_repo import AsyncSnomedCTConceptRepo, SnomedCTConceptRepo"
   ]
  },
  {
   "cell_type": "code",
   "execution_count": null,
   "metadata": {},
   "outputs": [],
   "source": [
    "config = dotenv_values(\".env\")"
   ]
  },
  {
   "cell_type": "markdown",
   "metadata": {},
   "source": [
    "## Asynchronous\n"
   ]
  },
  {
   "cell_type": "markdown",
   "metadata": {},
   "source": [
    "### Load Env and Database\n"
   ]
  },
  {
   "cell_type": "code",
   "execution_count": null,
   "metadata": {},
   "outputs": [],
   "source": [
    "client = motor.motor_asyncio.AsyncIOMotorClient(config[\"ATLAS_DSN\"])\n",
    "# Ping the client to confirm\n",
    "print(await client.server_info())"
   ]
  },
  {
   "cell_type": "code",
   "execution_count": null,
   "metadata": {},
   "outputs": [],
   "source": [
    "db = client[\"ontologies\"]\n",
    "snomedct_collection = db[\"snomedct\"]\n",
    "snomed_concept_repo = AsyncSnomedCTConceptRepo(snomedct_collection)\n",
    "SNOMED_CONCEPT_COUNT = await snomed_concept_repo.get_count()\n",
    "print(f\"SNOMED CT COUNT: {SNOMED_CONCEPT_COUNT}\")"
   ]
  },
  {
   "cell_type": "markdown",
   "metadata": {},
   "source": [
    "Initialize SnomedCTConcept\n"
   ]
  },
  {
   "cell_type": "code",
   "execution_count": null,
   "metadata": {},
   "outputs": [],
   "source": [
    "concept: SnomedCTConcept = (await snomed_concept_repo.get_random_concepts(1))[0]\n",
    "print(concept)"
   ]
  },
  {
   "cell_type": "markdown",
   "metadata": {},
   "source": [
    "Asynchronous Generate Embedding Creator\n"
   ]
  },
  {
   "cell_type": "code",
   "execution_count": null,
   "metadata": {},
   "outputs": [],
   "source": [
    "async_openai_client = AsyncOpenAI(api_key=config[\"OPENAI_API_KEY\"])\n",
    "async_embedding_creator = AsyncEmbeddingCreator(async_openai_client)\n",
    "repo = AsyncSnomedCTConceptRepo(snomedct_collection)\n",
    "embedding_creator = AsyncEmbeddingCreator(async_openai_client)\n",
    "# embedding_vector = await async_embedding_creator.create_embedding_for_snomedctconcept(concept)\n",
    "# print(embedding_vector)"
   ]
  },
  {
   "cell_type": "markdown",
   "metadata": {},
   "source": [
    "Get SnomedCT Count\n"
   ]
  },
  {
   "cell_type": "code",
   "execution_count": null,
   "metadata": {},
   "outputs": [],
   "source": [
    "count = await repo.get_count()\n",
    "print(f\"Count: {count}\")"
   ]
  },
  {
   "cell_type": "code",
   "execution_count": null,
   "metadata": {},
   "outputs": [],
   "source": [
    "snomed_concepts = [SnomedCTConcept(**concept) async for concept in snomedct_collection.find({'embedding_vector': { '$exists': False }})]\n",
    "print(snomed_concepts[101])"
   ]
  },
  {
   "cell_type": "code",
   "execution_count": null,
   "metadata": {},
   "outputs": [],
   "source": [
    "snomed_concepts[101].text_for_embedding()"
   ]
  },
  {
   "cell_type": "code",
   "execution_count": null,
   "metadata": {},
   "outputs": [],
   "source": [
    "repo = AsyncSnomedCTConceptRepo(snomedct_collection)\n",
    "BATCH_SIZE = 50\n",
    "for i in range(50, len(snomed_concepts), BATCH_SIZE):\n",
    "    batch = snomed_concepts[i : i + BATCH_SIZE]\n",
    "    vectors = await embedding_creator.create_embeddings_for_concepts(batch)\n",
    "    if await repo.bulk_write_embedding_vectors(batch, vectors):\n",
    "        print(f\"Batch {i} done\")\n",
    "    else:\n",
    "        print(f\"Batch {i} failed\")"
   ]
  },
  {
   "cell_type": "markdown",
   "metadata": {},
   "source": [
    "## Synchronous\n"
   ]
  },
  {
   "cell_type": "markdown",
   "metadata": {},
   "source": [
    "Setup Database/Repo\n"
   ]
  },
  {
   "cell_type": "code",
   "execution_count": null,
   "metadata": {},
   "outputs": [],
   "source": [
    "# Set up a pymongo client, not a motor client\n",
    "client = pymongo.MongoClient(config[\"ATLAS_DSN\"])\n",
    "# Ping the client to confirm\n",
    "print(client.server_info())"
   ]
  },
  {
   "cell_type": "code",
   "execution_count": null,
   "metadata": {},
   "outputs": [],
   "source": [
    "llm = OpenAI(api_key=config[\"OPENAI_API_KEY\"])\n",
    "db = client[\"ontologies\"]\n",
    "collection = db[\"snomedct\"]\n",
    "repo = SnomedCTConceptRepo(collection)\n",
    "embedding_creator = EmbeddingCreator(llm)"
   ]
  },
  {
   "cell_type": "code",
   "execution_count": null,
   "metadata": {},
   "outputs": [],
   "source": [
    "count = repo.get_count()\n",
    "print(f\"Count: {count}\")"
   ]
  },
  {
   "cell_type": "code",
   "execution_count": null,
   "metadata": {},
   "outputs": [],
   "source": [
    "snomed_concepts = [SnomedCTConcept(**concept) for concept in collection.find({})]\n",
    "print(snomed_concepts[101])"
   ]
  },
  {
   "cell_type": "code",
   "execution_count": null,
   "metadata": {},
   "outputs": [],
   "source": [
    "snomed_concepts[101].text_for_embedding()"
   ]
  },
  {
   "cell_type": "code",
   "execution_count": null,
   "metadata": {},
   "outputs": [],
   "source": [
    "repo = SnomedCTConceptRepo(collection)\n",
    "BATCH_SIZE = 50\n",
    "for i in range(50, len(snomed_concepts), BATCH_SIZE):\n",
    "    batch = snomed_concepts[i : i + BATCH_SIZE]\n",
    "    vectors = embedding_creator.create_embeddings_for_concepts(batch)\n",
    "    if repo.bulk_write_embedding_vectors(batch, vectors):\n",
    "        print(f\"Batch {i} done\")\n",
    "    else:\n",
    "        print(f\"Batch {i} failed\")\n",
    "        "
   ]
  },
  {
   "cell_type": "code",
   "execution_count": null,
   "metadata": {},
   "outputs": [],
   "source": [
    "first_batch = snomed_concepts[:50]\n",
    "result = embedding_creator.create_embeddings_for_concepts(first_batch)"
   ]
  },
  {
   "cell_type": "code",
   "execution_count": null,
   "metadata": {},
   "outputs": [],
   "source": [
    "empty_snomedct = list(collection.find({'embedding_vector': { '$exists': False }}))\n",
    "print(len(empty_snomedct))"
   ]
  }
 ],
 "metadata": {
  "kernelspec": {
   "display_name": ".venv",
   "language": "python",
   "name": "python3"
  },
  "language_info": {
   "codemirror_mode": {
    "name": "ipython",
    "version": 3
   },
   "file_extension": ".py",
   "mimetype": "text/x-python",
   "name": "python",
   "nbconvert_exporter": "python",
   "pygments_lexer": "ipython3",
   "version": "3.12.3"
  }
 },
 "nbformat": 4,
 "nbformat_minor": 2
}
