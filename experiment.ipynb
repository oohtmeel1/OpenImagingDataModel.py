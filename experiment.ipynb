{
 "cells": [
  {
   "cell_type": "code",
   "execution_count": 11,
   "metadata": {},
   "outputs": [],
   "source": [
    "from openimagingdatamodel.cde_set import SetFactory"
   ]
  },
  {
   "cell_type": "code",
   "execution_count": 12,
   "metadata": {},
   "outputs": [],
   "source": [
    "set = SetFactory.create_set_scaffold(\"healed rib fracture\", add_presence_element=True)"
   ]
  },
  {
   "cell_type": "code",
   "execution_count": 13,
   "metadata": {},
   "outputs": [
    {
     "name": "stdout",
     "output_type": "stream",
     "text": [
      "{\n",
      "  \"id\": \"TO_BE_DETERMINED1596\",\n",
      "  \"name\": \"healed rib fracture\",\n",
      "  \"description\": \"Description for healed rib fracture\",\n",
      "  \"set_version\": {\n",
      "    \"number\": 1,\n",
      "    \"date\": \"2024-03-29\"\n",
      "  },\n",
      "  \"schema_version\": \"1.0.0\",\n",
      "  \"status\": {\n",
      "    \"date\": \"2024-03-29\",\n",
      "    \"name\": \"Proposed\"\n",
      "  },\n",
      "  \"index_codes\": [],\n",
      "  \"history\": [\n",
      "    {\n",
      "      \"date\": \"2024-03-29\",\n",
      "      \"status\": {\n",
      "        \"date\": \"2024-03-29\",\n",
      "        \"name\": \"Proposed\"\n",
      "      }\n",
      "    }\n",
      "  ],\n",
      "  \"specialties\": [],\n",
      "  \"elements\": [\n",
      "    {\n",
      "      \"id\": \"TO_BE_DETERMINED2356\",\n",
      "      \"name\": \"Presence\",\n",
      "      \"definition\": \"Presence of healed rib fracture\",\n",
      "      \"question\": \"Is the healed rib fracture present?\",\n",
      "      \"element_version\": {\n",
      "        \"number\": 1,\n",
      "        \"date\": \"2024-03-29\"\n",
      "      },\n",
      "      \"schema_version\": \"1.0.0\",\n",
      "      \"status\": {\n",
      "        \"date\": \"2024-03-29\",\n",
      "        \"name\": \"Proposed\"\n",
      "      },\n",
      "      \"value_set\": {\n",
      "        \"min_cardinality\": 0,\n",
      "        \"max_cardinality\": 1,\n",
      "        \"values\": [\n",
      "          {\n",
      "            \"code\": \"TO_BE_DETERMINED2356.0\",\n",
      "            \"value\": \"absent\",\n",
      "            \"name\": \"Absent\"\n",
      "          },\n",
      "          {\n",
      "            \"code\": \"TO_BE_DETERMINED2356.1\",\n",
      "            \"value\": \"present\",\n",
      "            \"name\": \"Present\"\n",
      "          },\n",
      "          {\n",
      "            \"code\": \"TO_BE_DETERMINED2356.2\",\n",
      "            \"value\": \"unknown\",\n",
      "            \"name\": \"Unknown\"\n",
      "          },\n",
      "          {\n",
      "            \"code\": \"TO_BE_DETERMINED2356.3\",\n",
      "            \"value\": \"indetermiante\",\n",
      "            \"name\": \"indetermiante\"\n",
      "          }\n",
      "        ]\n",
      "      }\n",
      "    }\n",
      "  ]\n",
      "}\n"
     ]
    }
   ],
   "source": [
    "print(set.model_dump_json(exclude_none=True, indent=2))"
   ]
  },
  {
   "cell_type": "code",
   "execution_count": 6,
   "metadata": {},
   "outputs": [],
   "source": [
    "v = Version(date=\"2021-01-01\", number=1)"
   ]
  },
  {
   "cell_type": "code",
   "execution_count": null,
   "metadata": {},
   "outputs": [],
   "source": []
  }
 ],
 "metadata": {
  "kernelspec": {
   "display_name": ".venv",
   "language": "python",
   "name": "python3"
  },
  "language_info": {
   "codemirror_mode": {
    "name": "ipython",
    "version": 3
   },
   "file_extension": ".py",
   "mimetype": "text/x-python",
   "name": "python",
   "nbconvert_exporter": "python",
   "pygments_lexer": "ipython3",
   "version": "3.11.8"
  }
 },
 "nbformat": 4,
 "nbformat_minor": 2
}
