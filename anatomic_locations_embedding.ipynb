{
 "cells": [
  {
   "cell_type": "code",
   "execution_count": 1,
   "metadata": {},
   "outputs": [],
   "source": [
    "import asyncio\n",
    "from pprint import pprint\n",
    "\n",
    "from dotenv import dotenv_values\n",
    "from motor.motor_asyncio import AsyncIOMotorClient\n",
    "from openai import AsyncOpenAI, OpenAI\n",
    "from openimagingdatamodel.ontology_tools.anatomic_location import AnatomicLocation\n",
    "from openimagingdatamodel.ontology_tools.anatomic_location_repo import AnatomicLocationRepo, AsyncAnatomicLocationRepo\n",
    "from openimagingdatamodel.ontology_tools.embedding_creator import AsyncEmbeddingCreator, EmbeddingCreator\n",
    "from pymongo import MongoClient"
   ]
  },
  {
   "cell_type": "code",
   "execution_count": 2,
   "metadata": {},
   "outputs": [],
   "source": [
    "config = dotenv_values(\".env\")"
   ]
  },
  {
   "cell_type": "markdown",
   "metadata": {},
   "source": [
    "### Common Definitions\n"
   ]
  },
  {
   "cell_type": "code",
   "execution_count": 3,
   "metadata": {},
   "outputs": [],
   "source": [
    "def combine_text_vector_results(text_results, vector_results):\n",
    "    combined_results = {}\n",
    "    for result in vector_results:\n",
    "        combined_results[(result.system, result.code)] = {\n",
    "            \"display\": result.display,\n",
    "            \"vector_score\": result.score,\n",
    "        }\n",
    "    for result in text_results:\n",
    "        if (result.system, result.code) in combined_results:\n",
    "            combined_results[(result.system, result.code)][\"text_score\"] = result.score\n",
    "        else:\n",
    "            combined_results[(result.system, result.code)] = {\n",
    "                \"display\": result.display,\n",
    "                \"text_score\": result.score,\n",
    "            }\n",
    "    return combined_results"
   ]
  },
  {
   "cell_type": "markdown",
   "metadata": {},
   "source": [
    "## Synchronous\n"
   ]
  },
  {
   "cell_type": "code",
   "execution_count": 4,
   "metadata": {},
   "outputs": [],
   "source": [
    "llm = OpenAI(api_key=config[\"OPENAI_API_KEY\"])\n",
    "client = MongoClient(config[\"ATLAS_DSN\"])\n",
    "db = client[\"ontologies\"]\n",
    "collection = db[\"anatomic_locations\"]\n",
    "embedding_creator = EmbeddingCreator(llm)\n",
    "repo = AnatomicLocationRepo(collection, embedding_creator)"
   ]
  },
  {
   "cell_type": "code",
   "execution_count": 4,
   "metadata": {},
   "outputs": [
    {
     "name": "stdout",
     "output_type": "stream",
     "text": [
      "Count: 2901\n"
     ]
    }
   ],
   "source": [
    "count = repo.get_count()\n",
    "print(f\"Count: {count}\")"
   ]
  },
  {
   "cell_type": "markdown",
   "metadata": {},
   "source": [
    "### Creating Embeddings\n"
   ]
  },
  {
   "cell_type": "code",
   "execution_count": 4,
   "metadata": {},
   "outputs": [],
   "source": [
    "locations = [AnatomicLocation(**location) for location in collection.find({})]"
   ]
  },
  {
   "cell_type": "code",
   "execution_count": 5,
   "metadata": {},
   "outputs": [
    {
     "data": {
      "text/plain": [
       "'gastroduodenal artery (synonyms: arteria gastroduodenalis; arteria gastroduodenalis)'"
      ]
     },
     "execution_count": 5,
     "metadata": {},
     "output_type": "execute_result"
    }
   ],
   "source": [
    "locations[101].text_for_embedding()"
   ]
  },
  {
   "cell_type": "code",
   "execution_count": 6,
   "metadata": {},
   "outputs": [
    {
     "name": "stdout",
     "output_type": "stream",
     "text": [
      "Batch 50 done\n",
      "Batch 100 done\n",
      "Batch 150 done\n",
      "Batch 200 done\n",
      "Batch 250 done\n",
      "Batch 300 done\n",
      "Batch 350 done\n",
      "Batch 400 done\n",
      "Batch 450 done\n",
      "Batch 500 done\n",
      "Batch 550 done\n",
      "Batch 600 done\n",
      "Batch 650 done\n",
      "Batch 700 done\n",
      "Batch 750 done\n",
      "Batch 800 done\n",
      "Batch 850 done\n",
      "Batch 900 done\n",
      "Batch 950 done\n",
      "Batch 1000 done\n",
      "Batch 1050 done\n",
      "Batch 1100 done\n",
      "Batch 1150 done\n",
      "Batch 1200 done\n",
      "Batch 1250 done\n",
      "Batch 1300 done\n",
      "Batch 1350 done\n",
      "Batch 1400 done\n",
      "Batch 1450 done\n",
      "Batch 1500 done\n",
      "Batch 1550 done\n",
      "Batch 1600 done\n",
      "Batch 1650 done\n",
      "Batch 1700 done\n",
      "Batch 1750 done\n",
      "Batch 1800 done\n",
      "Batch 1850 done\n",
      "Batch 1900 done\n",
      "Batch 1950 done\n",
      "Batch 2000 done\n",
      "Batch 2050 done\n",
      "Batch 2100 done\n",
      "Batch 2150 done\n",
      "Batch 2200 done\n",
      "Batch 2250 done\n",
      "Batch 2300 done\n",
      "Batch 2350 done\n",
      "Batch 2400 done\n",
      "Batch 2450 done\n",
      "Batch 2500 done\n",
      "Batch 2550 done\n",
      "Batch 2600 done\n",
      "Batch 2650 done\n",
      "Batch 2700 done\n",
      "Batch 2750 done\n",
      "Batch 2800 done\n",
      "Batch 2850 done\n",
      "Batch 2900 done\n"
     ]
    }
   ],
   "source": [
    "BATCH_SIZE = 50\n",
    "for i in range(50, len(locations), BATCH_SIZE):\n",
    "    batch = locations[i : i + BATCH_SIZE]\n",
    "    vectors = embedding_creator.create_embeddings_for_concepts(batch)\n",
    "    if repo.bulk_write_embedding_vectors(batch, vectors):\n",
    "        print(f\"Batch {i} done\")\n",
    "    else:\n",
    "        print(f\"Batch {i} failed\")\n",
    "        break"
   ]
  },
  {
   "cell_type": "code",
   "execution_count": 7,
   "metadata": {},
   "outputs": [],
   "source": [
    "first_batch = locations[:50]\n",
    "result = embedding_creator.create_embeddings_for_concepts(first_batch)"
   ]
  },
  {
   "cell_type": "markdown",
   "metadata": {},
   "source": [
    "### Testing Vector Search\n"
   ]
  },
  {
   "cell_type": "code",
   "execution_count": 35,
   "metadata": {},
   "outputs": [],
   "source": [
    "vector_results = repo.vector_search(\"right kidney\", 10)"
   ]
  },
  {
   "cell_type": "code",
   "execution_count": 36,
   "metadata": {},
   "outputs": [],
   "source": [
    "text_results = repo.text_search(\"right kidney\", 10)"
   ]
  },
  {
   "cell_type": "code",
   "execution_count": 37,
   "metadata": {},
   "outputs": [
    {
     "name": "stdout",
     "output_type": "stream",
     "text": [
      "{('ANTOMICLOCATIONS', 'RID1302'): {'display': 'right lung',\n",
      "                                   'text_score': 5.479655742645264},\n",
      " ('ANTOMICLOCATIONS', 'RID205'): {'display': 'kidney',\n",
      "                                  'text_score': 16.591510772705078},\n",
      " ('ANTOMICLOCATIONS', 'RID211'): {'display': 'cortex of kidney',\n",
      "                                  'text_score': 17.129283905029297},\n",
      " ('ANTOMICLOCATIONS', 'RID228'): {'display': 'renal pelvis',\n",
      "                                  'text_score': 5.765583038330078},\n",
      " ('ANTOMICLOCATIONS', 'RID2639_RID5825'): {'display': 'right hip',\n",
      "                                           'vector_score': 0.8282985687255859},\n",
      " ('ANTOMICLOCATIONS', 'RID29662'): {'display': 'right kidney',\n",
      "                                    'text_score': 23.062929153442383,\n",
      "                                    'vector_score': 0.8300362825393677},\n",
      " ('ANTOMICLOCATIONS', 'RID29663'): {'display': 'left kidney',\n",
      "                                    'text_score': 19.24749183654785},\n",
      " ('ANTOMICLOCATIONS', 'RID30324'): {'display': 'right adrenal gland',\n",
      "                                    'vector_score': 0.8433035612106323},\n",
      " ('ANTOMICLOCATIONS', 'RID30844'): {'display': 'right ureter',\n",
      "                                    'vector_score': 0.8610903024673462},\n",
      " ('ANTOMICLOCATIONS', 'RID31608'): {'display': 'right quadratus lumborum',\n",
      "                                    'vector_score': 0.811934232711792},\n",
      " ('ANTOMICLOCATIONS', 'RID31789'): {'display': 'cortex of right kidney',\n",
      "                                    'text_score': 10.94308853149414},\n",
      " ('ANTOMICLOCATIONS', 'RID31790'): {'display': 'cortex of left kidney',\n",
      "                                    'text_score': 10.874687194824219},\n",
      " ('ANTOMICLOCATIONS', 'RID32829'): {'display': 'right ovary',\n",
      "                                    'vector_score': 0.8290228843688965},\n",
      " ('ANTOMICLOCATIONS', 'RID371_RID5825'): {'display': 'right epididymis',\n",
      "                                          'vector_score': 0.8226432800292969},\n",
      " ('ANTOMICLOCATIONS', 'RID37859'): {'display': 'right renal artery',\n",
      "                                    'vector_score': 0.854743480682373},\n",
      " ('ANTOMICLOCATIONS', 'RID37993'): {'display': 'right renal vein',\n",
      "                                    'vector_score': 0.8559300899505615},\n",
      " ('ANTOMICLOCATIONS', 'RID41795'): {'display': 'diaphysis of right ulna',\n",
      "                                    'text_score': 4.308671474456787},\n",
      " ('ANTOMICLOCATIONS', 'RID49359'): {'display': 'right knee',\n",
      "                                    'vector_score': 0.8145904541015625},\n",
      " ('ANTOMICLOCATIONS', 'RID74'): {'display': 'right lobe of liver',\n",
      "                                 'text_score': 4.336817741394043}}\n"
     ]
    }
   ],
   "source": [
    "combined_results = combine_text_vector_results(text_results, vector_results)\n",
    "pprint(combined_results)"
   ]
  },
  {
   "cell_type": "markdown",
   "metadata": {},
   "source": [
    "## Asynchronous\n"
   ]
  },
  {
   "cell_type": "code",
   "execution_count": 5,
   "metadata": {},
   "outputs": [],
   "source": [
    "async_llm = AsyncOpenAI(api_key=config[\"OPENAI_API_KEY\"])\n",
    "async_client = AsyncIOMotorClient(config[\"ATLAS_DSN\"])\n",
    "async_db = async_client[\"ontologies\"]\n",
    "async_collection = async_db[\"anatomic_locations\"]\n",
    "async_embedding_creator = AsyncEmbeddingCreator(async_llm)\n",
    "async_repo = AsyncAnatomicLocationRepo(async_collection, async_embedding_creator)"
   ]
  },
  {
   "cell_type": "code",
   "execution_count": 6,
   "metadata": {},
   "outputs": [
    {
     "name": "stdout",
     "output_type": "stream",
     "text": [
      "Count: 2901\n"
     ]
    }
   ],
   "source": [
    "count = await async_repo.get_count()\n",
    "print(f\"Count: {count}\")"
   ]
  },
  {
   "cell_type": "code",
   "execution_count": 7,
   "metadata": {},
   "outputs": [
    {
     "name": "stdout",
     "output_type": "stream",
     "text": [
      "{('ANTOMICLOCATIONS', 'RID1302'): {'display': 'right lung',\n",
      "                                   'text_score': 5.479655742645264},\n",
      " ('ANTOMICLOCATIONS', 'RID205'): {'display': 'kidney',\n",
      "                                  'text_score': 16.591510772705078},\n",
      " ('ANTOMICLOCATIONS', 'RID211'): {'display': 'cortex of kidney',\n",
      "                                  'text_score': 17.129283905029297},\n",
      " ('ANTOMICLOCATIONS', 'RID228'): {'display': 'renal pelvis',\n",
      "                                  'text_score': 5.765583038330078},\n",
      " ('ANTOMICLOCATIONS', 'RID2639_RID5825'): {'display': 'right hip',\n",
      "                                           'vector_score': 0.8282985687255859},\n",
      " ('ANTOMICLOCATIONS', 'RID29662'): {'display': 'right kidney',\n",
      "                                    'text_score': 23.062929153442383,\n",
      "                                    'vector_score': 0.8300362825393677},\n",
      " ('ANTOMICLOCATIONS', 'RID29663'): {'display': 'left kidney',\n",
      "                                    'text_score': 19.24749183654785},\n",
      " ('ANTOMICLOCATIONS', 'RID30324'): {'display': 'right adrenal gland',\n",
      "                                    'vector_score': 0.8433035612106323},\n",
      " ('ANTOMICLOCATIONS', 'RID30844'): {'display': 'right ureter',\n",
      "                                    'vector_score': 0.8610903024673462},\n",
      " ('ANTOMICLOCATIONS', 'RID31608'): {'display': 'right quadratus lumborum',\n",
      "                                    'vector_score': 0.811934232711792},\n",
      " ('ANTOMICLOCATIONS', 'RID31789'): {'display': 'cortex of right kidney',\n",
      "                                    'text_score': 10.94308853149414},\n",
      " ('ANTOMICLOCATIONS', 'RID31790'): {'display': 'cortex of left kidney',\n",
      "                                    'text_score': 10.874687194824219},\n",
      " ('ANTOMICLOCATIONS', 'RID32829'): {'display': 'right ovary',\n",
      "                                    'vector_score': 0.8290228843688965},\n",
      " ('ANTOMICLOCATIONS', 'RID371_RID5825'): {'display': 'right epididymis',\n",
      "                                          'vector_score': 0.8226432800292969},\n",
      " ('ANTOMICLOCATIONS', 'RID37859'): {'display': 'right renal artery',\n",
      "                                    'vector_score': 0.854743480682373},\n",
      " ('ANTOMICLOCATIONS', 'RID37993'): {'display': 'right renal vein',\n",
      "                                    'vector_score': 0.8559300899505615},\n",
      " ('ANTOMICLOCATIONS', 'RID41795'): {'display': 'diaphysis of right ulna',\n",
      "                                    'text_score': 4.308671474456787},\n",
      " ('ANTOMICLOCATIONS', 'RID49359'): {'display': 'right knee',\n",
      "                                    'vector_score': 0.8145904541015625},\n",
      " ('ANTOMICLOCATIONS', 'RID74'): {'display': 'right lobe of liver',\n",
      "                                 'text_score': 4.336817741394043}}\n"
     ]
    }
   ],
   "source": [
    "# Do the text and vector searches in parallel and gather the results\n",
    "text_results, vector_results = await asyncio.gather(\n",
    "    async_repo.text_search(\"right kidney\", 10), async_repo.vector_search(\"right kidney\", 10)\n",
    ")\n",
    "combined_results = combine_text_vector_results(text_results, vector_results)\n",
    "pprint(combined_results)"
   ]
  },
  {
   "cell_type": "code",
   "execution_count": null,
   "metadata": {},
   "outputs": [],
   "source": []
  }
 ],
 "metadata": {
  "kernelspec": {
   "display_name": ".venv",
   "language": "python",
   "name": "python3"
  },
  "language_info": {
   "codemirror_mode": {
    "name": "ipython",
    "version": 3
   },
   "file_extension": ".py",
   "mimetype": "text/x-python",
   "name": "python",
   "nbconvert_exporter": "python",
   "pygments_lexer": "ipython3",
   "version": "3.11.8"
  }
 },
 "nbformat": 4,
 "nbformat_minor": 2
}
