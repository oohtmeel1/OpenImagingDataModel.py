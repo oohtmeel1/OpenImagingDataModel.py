{
 "cells": [
  {
   "cell_type": "code",
   "execution_count": 1,
   "metadata": {},
   "outputs": [],
   "source": [
    "from dotenv import dotenv_values\n",
    "from openai import OpenAI\n",
    "from openimagingdatamodel.ontology_tools.anatomic_location import AnatomicLocation\n",
    "from openimagingdatamodel.ontology_tools.anatomic_location_repo import AnatomicLocationRepo\n",
    "from openimagingdatamodel.ontology_tools.embedding_creator import EmbeddingCreator\n",
    "from pymongo import MongoClient"
   ]
  },
  {
   "cell_type": "code",
   "execution_count": 2,
   "metadata": {},
   "outputs": [],
   "source": [
    "config = dotenv_values(\".env\")\n",
    "llm = OpenAI(api_key=config[\"OPENAI_API_KEY\"])\n",
    "client = MongoClient(config[\"ATLAS_DSN\"])\n",
    "db = client[\"ontologies\"]\n",
    "collection = db[\"anatomic_locations\"]\n",
    "repo = AnatomicLocationRepo(collection)\n",
    "embedding_creator = EmbeddingCreator(llm)"
   ]
  },
  {
   "cell_type": "code",
   "execution_count": 3,
   "metadata": {},
   "outputs": [
    {
     "name": "stdout",
     "output_type": "stream",
     "text": [
      "Count: 2901\n"
     ]
    }
   ],
   "source": [
    "count = repo.get_count()\n",
    "print(f\"Count: {count}\")"
   ]
  },
  {
   "cell_type": "code",
   "execution_count": 4,
   "metadata": {},
   "outputs": [],
   "source": [
    "locations = [AnatomicLocation(**location) for location in collection.find({})]"
   ]
  },
  {
   "cell_type": "code",
   "execution_count": 5,
   "metadata": {},
   "outputs": [
    {
     "data": {
      "text/plain": [
       "'gastroduodenal artery (synonyms: arteria gastroduodenalis; arteria gastroduodenalis)'"
      ]
     },
     "execution_count": 5,
     "metadata": {},
     "output_type": "execute_result"
    }
   ],
   "source": [
    "locations[101].text_for_embedding()"
   ]
  },
  {
   "cell_type": "code",
   "execution_count": 6,
   "metadata": {},
   "outputs": [
    {
     "name": "stdout",
     "output_type": "stream",
     "text": [
      "Batch 50 done\n",
      "Batch 100 done\n",
      "Batch 150 done\n",
      "Batch 200 done\n",
      "Batch 250 done\n",
      "Batch 300 done\n",
      "Batch 350 done\n",
      "Batch 400 done\n",
      "Batch 450 done\n",
      "Batch 500 done\n",
      "Batch 550 done\n",
      "Batch 600 done\n",
      "Batch 650 done\n",
      "Batch 700 done\n",
      "Batch 750 done\n",
      "Batch 800 done\n",
      "Batch 850 done\n",
      "Batch 900 done\n",
      "Batch 950 done\n",
      "Batch 1000 done\n",
      "Batch 1050 done\n",
      "Batch 1100 done\n",
      "Batch 1150 done\n",
      "Batch 1200 done\n",
      "Batch 1250 done\n",
      "Batch 1300 done\n",
      "Batch 1350 done\n",
      "Batch 1400 done\n",
      "Batch 1450 done\n",
      "Batch 1500 done\n",
      "Batch 1550 done\n",
      "Batch 1600 done\n",
      "Batch 1650 done\n",
      "Batch 1700 done\n",
      "Batch 1750 done\n",
      "Batch 1800 done\n",
      "Batch 1850 done\n",
      "Batch 1900 done\n",
      "Batch 1950 done\n",
      "Batch 2000 done\n",
      "Batch 2050 done\n",
      "Batch 2100 done\n",
      "Batch 2150 done\n",
      "Batch 2200 done\n",
      "Batch 2250 done\n",
      "Batch 2300 done\n",
      "Batch 2350 done\n",
      "Batch 2400 done\n",
      "Batch 2450 done\n",
      "Batch 2500 done\n",
      "Batch 2550 done\n",
      "Batch 2600 done\n",
      "Batch 2650 done\n",
      "Batch 2700 done\n",
      "Batch 2750 done\n",
      "Batch 2800 done\n",
      "Batch 2850 done\n",
      "Batch 2900 done\n"
     ]
    }
   ],
   "source": [
    "BATCH_SIZE = 50\n",
    "for i in range(50, len(locations), BATCH_SIZE):\n",
    "    batch = locations[i : i + BATCH_SIZE]\n",
    "    vectors = embedding_creator.create_embeddings_for_concepts(batch)\n",
    "    if repo.bulk_write_embedding_vectors(batch, vectors):\n",
    "        print(f\"Batch {i} done\")\n",
    "    else:\n",
    "        print(f\"Batch {i} failed\")\n",
    "        break"
   ]
  },
  {
   "cell_type": "code",
   "execution_count": 7,
   "metadata": {},
   "outputs": [],
   "source": [
    "first_batch = locations[:50]\n",
    "result = embedding_creator.create_embeddings_for_concepts(first_batch)"
   ]
  }
 ],
 "metadata": {
  "kernelspec": {
   "display_name": ".venv",
   "language": "python",
   "name": "python3"
  },
  "language_info": {
   "codemirror_mode": {
    "name": "ipython",
    "version": 3
   },
   "file_extension": ".py",
   "mimetype": "text/x-python",
   "name": "python",
   "nbconvert_exporter": "python",
   "pygments_lexer": "ipython3",
   "version": "3.11.9"
  }
 },
 "nbformat": 4,
 "nbformat_minor": 2
}
