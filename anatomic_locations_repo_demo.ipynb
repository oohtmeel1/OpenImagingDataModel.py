{
 "cells": [
  {
   "cell_type": "code",
   "execution_count": 1,
   "metadata": {},
   "outputs": [],
   "source": [
    "from pprint import pprint\n",
    "\n",
    "from dotenv import dotenv_values\n",
    "from motor.motor_asyncio import AsyncIOMotorClient\n",
    "from openimagingdatamodel.ontology_tools.anatomic_location import AnatomicLocation\n",
    "from openimagingdatamodel.ontology_tools.anatomic_location_repo import AnatomicLocationRepo, AsyncAnatomicLocationRepo\n",
    "from pymongo import MongoClient"
   ]
  },
  {
   "cell_type": "code",
   "execution_count": 2,
   "metadata": {},
   "outputs": [],
   "source": [
    "config = dotenv_values(\".env\")"
   ]
  },
  {
   "cell_type": "markdown",
   "metadata": {},
   "source": [
    "## Asynchronous\n"
   ]
  },
  {
   "cell_type": "code",
   "execution_count": 3,
   "metadata": {},
   "outputs": [
    {
     "name": "stdout",
     "output_type": "stream",
     "text": [
      "{'version': '7.0.11', 'gitVersion': 'f451220f0df2b9dfe073f1521837f8ec5c208a8c', 'modules': ['enterprise'], 'allocator': 'tcmalloc', 'javascriptEngine': 'mozjs', 'sysInfo': 'deprecated', 'versionArray': [7, 0, 11, 0], 'openssl': {'running': 'OpenSSL 1.0.2k-fips  26 Jan 2017', 'compiled': 'OpenSSL 1.0.2k-fips  26 Jan 2017'}, 'buildEnvironment': {'distmod': 'amazon2', 'distarch': 'x86_64', 'cc': '/opt/mongodbtoolchain/v4/bin/gcc: gcc (GCC) 11.3.0', 'ccflags': '-Werror -include mongo/platform/basic.h -ffp-contract=off -fasynchronous-unwind-tables -g2 -Wall -Wsign-compare -Wno-unknown-pragmas -Winvalid-pch -gdwarf-5 -fno-omit-frame-pointer -fno-strict-aliasing -O2 -march=sandybridge -mtune=generic -mprefer-vector-width=128 -Wno-unused-local-typedefs -Wno-unused-function -Wno-deprecated-declarations -Wno-unused-const-variable -Wno-unused-but-set-variable -Wno-missing-braces -fstack-protector-strong -gdwarf64 -Wa,--nocompress-debug-sections -fno-builtin-memcmp -Wimplicit-fallthrough=5', 'cxx': '/opt/mongodbtoolchain/v4/bin/g++: g++ (GCC) 11.3.0', 'cxxflags': '-Woverloaded-virtual -Wpessimizing-move -Wno-maybe-uninitialized -fsized-deallocation -Wno-deprecated -std=c++20', 'linkflags': '-Wl,--fatal-warnings -B/opt/mongodbtoolchain/v4/bin -gdwarf-5 -pthread -Wl,-z,now -fuse-ld=lld -fstack-protector-strong -gdwarf64 -Wl,--build-id -Wl,--hash-style=gnu -Wl,-z,noexecstack -Wl,--warn-execstack -Wl,-z,relro -Wl,--compress-debug-sections=none -Wl,-z,origin -Wl,--enable-new-dtags', 'target_arch': 'x86_64', 'target_os': 'linux', 'cppdefines': 'SAFEINT_USE_INTRINSICS 0 PCRE2_STATIC NDEBUG _XOPEN_SOURCE 700 _GNU_SOURCE _FORTIFY_SOURCE 2 ABSL_FORCE_ALIGNED_ACCESS BOOST_ENABLE_ASSERT_DEBUG_HANDLER BOOST_FILESYSTEM_NO_CXX20_ATOMIC_REF BOOST_LOG_NO_SHORTHAND_NAMES BOOST_LOG_USE_NATIVE_SYSLOG BOOST_LOG_WITHOUT_THREAD_ATTR BOOST_MATH_NO_LONG_DOUBLE_MATH_FUNCTIONS BOOST_SYSTEM_NO_DEPRECATED BOOST_THREAD_USES_DATETIME BOOST_THREAD_VERSION 5'}, 'bits': 64, 'debug': False, 'maxBsonObjectSize': 16777216, 'storageEngines': ['devnull', 'inMemory', 'queryable_wt', 'wiredTiger'], 'ok': 1.0, '$clusterTime': {'clusterTime': Timestamp(1718547187, 15), 'signature': {'hash': b'\\x1eg*&\\xcd\\xcfZ\\xb7r\\xd9\\x80\\xb1\\x13\\x97\\x8e\\xb6\\xc7\\xc9\\xb42', 'keyId': 7380836010378133509}}, 'operationTime': Timestamp(1718547187, 15)}\n"
     ]
    }
   ],
   "source": [
    "motor_client = AsyncIOMotorClient(config[\"ATLAS_DSN\"])\n",
    "print(await motor_client.server_info())"
   ]
  },
  {
   "cell_type": "code",
   "execution_count": 4,
   "metadata": {},
   "outputs": [],
   "source": [
    "async_db = motor_client[\"ontologies\"]\n",
    "async_collection = async_db[\"anatomic_locations\"]\n",
    "async_repo = AsyncAnatomicLocationRepo(async_collection)"
   ]
  },
  {
   "cell_type": "code",
   "execution_count": 5,
   "metadata": {},
   "outputs": [
    {
     "data": {
      "text/plain": [
       "2901"
      ]
     },
     "execution_count": 5,
     "metadata": {},
     "output_type": "execute_result"
    }
   ],
   "source": [
    "count = await async_repo.get_count()\n",
    "count"
   ]
  },
  {
   "cell_type": "code",
   "execution_count": 6,
   "metadata": {},
   "outputs": [
    {
     "name": "stdout",
     "output_type": "stream",
     "text": [
      "{'acr_common_id': '4013402',\n",
      " 'codes': [{'code': 'C0003483', 'system': 'UMLS'}],\n",
      " 'contained_by_ref': {'display': 'whole body', 'id': 'RID39569'},\n",
      " 'description': 'aorta',\n",
      " 'has_parts_refs': [{'display': 'abdominal aorta', 'id': 'RID905'},\n",
      "                    {'display': 'sinotubular junction', 'id': 'RID579'},\n",
      "                    {'display': 'thoracic aorta', 'id': 'RID879'}],\n",
      " 'id': 'RID480',\n",
      " 'region': 'Body',\n",
      " 'snomed_display': 'Aortic structure',\n",
      " 'snomed_id': '15825003'}\n",
      "{'acr_common_id': '4014153',\n",
      " 'codes': [{'code': '38502', 'system': 'FMA'}],\n",
      " 'contained_by_ref': {'display': 'left forearm', 'id': 'RID2107_RID5824'},\n",
      " 'description': 'left extensor digitorum muscle',\n",
      " 'has_parts_refs': [{'display': 'tendon of left extensor digitorum to left '\n",
      "                                'index finger',\n",
      "                     'id': 'RID41596'},\n",
      "                    {'display': 'tendon of left extensor digitorum to left '\n",
      "                                'middle finger',\n",
      "                     'id': 'RID41599'},\n",
      "                    {'display': 'tendon of left extensor digitorum to left '\n",
      "                                'ring finger',\n",
      "                     'id': 'RID41601'},\n",
      "                    {'display': 'tendon of left extensor digitorum to left '\n",
      "                                'little finger',\n",
      "                     'id': 'RID41604'}],\n",
      " 'id': 'RID43116',\n",
      " 'region': 'Upper Extremity',\n",
      " 'right_ref': {'display': 'right extensor digitorum muscle', 'id': 'RID43115'},\n",
      " 'synonyms': ['left extensor digitorum'],\n",
      " 'unsided_ref': {'display': 'extensor digitorum muscle', 'id': 'RID43114'}}\n",
      "{'contained_by_ref': {'display': 'right wrist joint', 'id': 'RID2202_RID5825'},\n",
      " 'description': 'right head of ulna',\n",
      " 'id': 'RID42286_RID5825',\n",
      " 'left_ref': {'display': 'left head of ulna', 'id': 'RID42286_RID5824'},\n",
      " 'part_of_ref': {'display': 'right ulna', 'id': 'RID42720'},\n",
      " 'region': 'Upper Extremity',\n",
      " 'unsided_ref': {'display': 'head of ulna', 'id': 'RID42286'}}\n",
      "{'acr_common_id': '4015053',\n",
      " 'codes': [{'code': '32534', 'system': 'FMA'}],\n",
      " 'contained_by_ref': {'display': 'neck', 'id': 'RID7488'},\n",
      " 'description': 'right obliquus capitis superior',\n",
      " 'id': 'RID32315',\n",
      " 'left_ref': {'display': 'left obliquus capitis superior', 'id': 'RID32316'},\n",
      " 'part_of_ref': {'display': 'muscle of neck', 'id': 'RID7489'},\n",
      " 'region': 'Neck',\n",
      " 'unsided_ref': {'display': 'obliquus capitis superior', 'id': 'RID32314'}}\n",
      "{'contained_by_ref': {'display': 'anterior abdominal wall', 'id': 'RID30008'},\n",
      " 'description': 'left inferior epigastric artery',\n",
      " 'id': 'RID13091_RID5824',\n",
      " 'part_of_ref': {'display': 'set of visceral vessels', 'id': 'RID50378'},\n",
      " 'region': 'Abdomen',\n",
      " 'right_ref': {'display': 'right inferior epigastric artery',\n",
      "               'id': 'RID13091_RID5825'},\n",
      " 'unsided_ref': {'display': 'inferior epigastric artery', 'id': 'RID13091'}}\n",
      "{'contained_by_ref': {'display': 'right orbit', 'id': 'RID9573_RID5825'},\n",
      " 'description': 'right trochlea of superior oblique muscle',\n",
      " 'id': 'RID9707_RID5825',\n",
      " 'left_ref': {'display': 'left trochlea of superior oblique muscle',\n",
      "              'id': 'RID9707_RID5824'},\n",
      " 'region': 'Head',\n",
      " 'unsided_ref': {'display': 'trochlea of superior oblique muscle',\n",
      "                 'id': 'RID9707'}}\n",
      "{'contained_by_ref': {'display': 'larynx', 'id': 'RID7589'},\n",
      " 'description': 'right lateral cricoarytenoid muscle',\n",
      " 'has_parts_refs': [{'display': 'right lateral cricoarytenoid muscle',\n",
      "                     'id': 'RID7645_RID5825'}],\n",
      " 'id': 'RID7645_RID5825',\n",
      " 'left_ref': {'display': 'left lateral cricoarytenoid muscle',\n",
      "              'id': 'RID7645_RID5824'},\n",
      " 'part_of_ref': {'display': 'right lateral cricoarytenoid muscle',\n",
      "                 'id': 'RID7645_RID5825'},\n",
      " 'region': 'Neck',\n",
      " 'unsided_ref': {'display': 'lateral cricoarytenoid muscle', 'id': 'RID7645'}}\n",
      "{'contained_by_ref': {'display': 'right ankle joint', 'id': 'RID3004_RID5825'},\n",
      " 'description': 'right talus',\n",
      " 'has_parts_refs': [{'display': 'right sulcus tali', 'id': 'RID2957_RID5825'},\n",
      "                    {'display': 'right medial tubercle',\n",
      "                     'id': 'RID2952_RID5825'}],\n",
      " 'id': 'RID2949_RID5825',\n",
      " 'left_ref': {'display': 'left talus', 'id': 'RID2949_RID5824'},\n",
      " 'region': 'Lower Extremity',\n",
      " 'snomed_display': 'Structure of right talus bone',\n",
      " 'snomed_id': '737406006',\n",
      " 'unsided_ref': {'display': 'talus', 'id': 'RID2949'}}\n",
      "{'acr_common_id': '4013485',\n",
      " 'codes': [{'code': '52767', 'system': 'FMA'}],\n",
      " 'contained_by_ref': {'display': 'middle ear', 'id': 'RID13303'},\n",
      " 'description': 'anterior limb of stapes',\n",
      " 'id': 'RID10154',\n",
      " 'left_ref': {'display': 'left anterior limb of stapes',\n",
      "              'id': 'RID10154_RID5824'},\n",
      " 'part_of_ref': {'display': 'stapes', 'id': 'RID10151'},\n",
      " 'region': 'Head',\n",
      " 'right_ref': {'display': 'right anterior limb of stapes',\n",
      "               'id': 'RID10154_RID5825'},\n",
      " 'snomed_display': 'Structure of anterior limb of stapes',\n",
      " 'snomed_id': '90759000',\n",
      " 'synonyms': ['Crus anterior stapedis']}\n",
      "{'acr_common_id': '4015172',\n",
      " 'codes': [{'code': '14759', 'system': 'FMA'}],\n",
      " 'contained_by_ref': {'display': 'pelvis', 'id': 'RID2507'},\n",
      " 'description': 'right testicular artery',\n",
      " 'id': 'RID38035',\n",
      " 'left_ref': {'display': 'left testicular artery', 'id': 'RID38036'},\n",
      " 'region': 'Pelvis',\n",
      " 'sex_specific': 'Male',\n",
      " 'unsided_ref': {'display': 'testicular artery', 'id': 'RID38034'}}\n"
     ]
    }
   ],
   "source": [
    "random_locations = await async_repo.get_random_concepts(10)\n",
    "for location in random_locations:\n",
    "    pprint(location.model_dump(exclude_none=True))"
   ]
  },
  {
   "cell_type": "code",
   "execution_count": 7,
   "metadata": {},
   "outputs": [
    {
     "name": "stdout",
     "output_type": "stream",
     "text": [
      "{'code': 'RID205',\n",
      " 'display': 'kidney',\n",
      " 'score': 16.455778121948242,\n",
      " 'system': 'ANTOMICLOCATIONS'}\n",
      "{'code': 'RID29662',\n",
      " 'display': 'right kidney',\n",
      " 'score': 16.416847229003906,\n",
      " 'system': 'ANTOMICLOCATIONS'}\n",
      "{'code': 'RID29663',\n",
      " 'display': 'left kidney',\n",
      " 'score': 16.416847229003906,\n",
      " 'system': 'ANTOMICLOCATIONS'}\n",
      "{'code': 'RID211',\n",
      " 'display': 'cortex of kidney',\n",
      " 'score': 14.383835792541504,\n",
      " 'system': 'ANTOMICLOCATIONS'}\n",
      "{'code': 'RID31790',\n",
      " 'display': 'cortex of left kidney',\n",
      " 'score': 10.782598495483398,\n",
      " 'system': 'ANTOMICLOCATIONS'}\n",
      "{'code': 'RID31789',\n",
      " 'display': 'cortex of right kidney',\n",
      " 'score': 8.092062950134277,\n",
      " 'system': 'ANTOMICLOCATIONS'}\n",
      "{'code': 'RID225',\n",
      " 'display': 'calyx of renal collecting system',\n",
      " 'score': 3.2740674018859863,\n",
      " 'system': 'ANTOMICLOCATIONS'}\n",
      "{'code': 'RID228',\n",
      " 'display': 'renal pelvis',\n",
      " 'score': 3.2740674018859863,\n",
      " 'system': 'ANTOMICLOCATIONS'}\n",
      "{'code': 'RID204',\n",
      " 'display': 'urinary tract',\n",
      " 'score': 3.092905282974243,\n",
      " 'system': 'ANTOMICLOCATIONS'}\n",
      "{'code': 'RID431',\n",
      " 'display': 'retroperitoneum',\n",
      " 'score': 3.0561447143554688,\n",
      " 'system': 'ANTOMICLOCATIONS'}\n"
     ]
    }
   ],
   "source": [
    "results = await async_repo.get_search_results(\"kidney\", 10)\n",
    "for location in results:\n",
    "    pprint(location.model_dump(exclude_none=True))"
   ]
  },
  {
   "cell_type": "markdown",
   "metadata": {},
   "source": [
    "## Synchronous\n"
   ]
  },
  {
   "cell_type": "code",
   "execution_count": 3,
   "metadata": {},
   "outputs": [
    {
     "name": "stdout",
     "output_type": "stream",
     "text": [
      "{'version': '7.0.11', 'gitVersion': 'f451220f0df2b9dfe073f1521837f8ec5c208a8c', 'modules': ['enterprise'], 'allocator': 'tcmalloc', 'javascriptEngine': 'mozjs', 'sysInfo': 'deprecated', 'versionArray': [7, 0, 11, 0], 'openssl': {'running': 'OpenSSL 1.0.2k-fips  26 Jan 2017', 'compiled': 'OpenSSL 1.0.2k-fips  26 Jan 2017'}, 'buildEnvironment': {'distmod': 'amazon2', 'distarch': 'x86_64', 'cc': '/opt/mongodbtoolchain/v4/bin/gcc: gcc (GCC) 11.3.0', 'ccflags': '-Werror -include mongo/platform/basic.h -ffp-contract=off -fasynchronous-unwind-tables -g2 -Wall -Wsign-compare -Wno-unknown-pragmas -Winvalid-pch -gdwarf-5 -fno-omit-frame-pointer -fno-strict-aliasing -O2 -march=sandybridge -mtune=generic -mprefer-vector-width=128 -Wno-unused-local-typedefs -Wno-unused-function -Wno-deprecated-declarations -Wno-unused-const-variable -Wno-unused-but-set-variable -Wno-missing-braces -fstack-protector-strong -gdwarf64 -Wa,--nocompress-debug-sections -fno-builtin-memcmp -Wimplicit-fallthrough=5', 'cxx': '/opt/mongodbtoolchain/v4/bin/g++: g++ (GCC) 11.3.0', 'cxxflags': '-Woverloaded-virtual -Wpessimizing-move -Wno-maybe-uninitialized -fsized-deallocation -Wno-deprecated -std=c++20', 'linkflags': '-Wl,--fatal-warnings -B/opt/mongodbtoolchain/v4/bin -gdwarf-5 -pthread -Wl,-z,now -fuse-ld=lld -fstack-protector-strong -gdwarf64 -Wl,--build-id -Wl,--hash-style=gnu -Wl,-z,noexecstack -Wl,--warn-execstack -Wl,-z,relro -Wl,--compress-debug-sections=none -Wl,-z,origin -Wl,--enable-new-dtags', 'target_arch': 'x86_64', 'target_os': 'linux', 'cppdefines': 'SAFEINT_USE_INTRINSICS 0 PCRE2_STATIC NDEBUG _XOPEN_SOURCE 700 _GNU_SOURCE _FORTIFY_SOURCE 2 ABSL_FORCE_ALIGNED_ACCESS BOOST_ENABLE_ASSERT_DEBUG_HANDLER BOOST_FILESYSTEM_NO_CXX20_ATOMIC_REF BOOST_LOG_NO_SHORTHAND_NAMES BOOST_LOG_USE_NATIVE_SYSLOG BOOST_LOG_WITHOUT_THREAD_ATTR BOOST_MATH_NO_LONG_DOUBLE_MATH_FUNCTIONS BOOST_SYSTEM_NO_DEPRECATED BOOST_THREAD_USES_DATETIME BOOST_THREAD_VERSION 5'}, 'bits': 64, 'debug': False, 'maxBsonObjectSize': 16777216, 'storageEngines': ['devnull', 'inMemory', 'queryable_wt', 'wiredTiger'], 'ok': 1.0, '$clusterTime': {'clusterTime': Timestamp(1718547801, 1), 'signature': {'hash': b'\\x8caST\\x82\\x17\\x97\\n\\xd6z\\xa0\\xcbXT\\x87\\x12\\xdc\\xf4\\x93\\x0e', 'keyId': 7380836010378133509}}, 'operationTime': Timestamp(1718547801, 1)}\n"
     ]
    }
   ],
   "source": [
    "client = MongoClient(config[\"ATLAS_DSN\"])\n",
    "print(client.server_info())"
   ]
  },
  {
   "cell_type": "code",
   "execution_count": 4,
   "metadata": {},
   "outputs": [],
   "source": [
    "db = client[\"ontologies\"]\n",
    "collection = db[\"anatomic_locations\"]\n",
    "repo = AnatomicLocationRepo(collection)"
   ]
  },
  {
   "cell_type": "code",
   "execution_count": 5,
   "metadata": {},
   "outputs": [
    {
     "data": {
      "text/plain": [
       "2901"
      ]
     },
     "execution_count": 5,
     "metadata": {},
     "output_type": "execute_result"
    }
   ],
   "source": [
    "count = repo.get_count()\n",
    "count"
   ]
  },
  {
   "cell_type": "code",
   "execution_count": 12,
   "metadata": {},
   "outputs": [
    {
     "name": "stdout",
     "output_type": "stream",
     "text": [
      "{'acr_common_id': '4013773',\n",
      " 'contained_by_ref': {'display': 'mediastinum', 'id': 'RID1384'},\n",
      " 'description': 'esophagus',\n",
      " 'id': 'RID95',\n",
      " 'part_of_ref': {'display': 'gastrointestinal tract', 'id': 'RID94'},\n",
      " 'region': 'Thorax',\n",
      " 'snomed_display': 'Esophageal structure',\n",
      " 'snomed_id': '32849002',\n",
      " 'synonyms': ['GI tract',\n",
      "              'gastro-intestinal system',\n",
      "              'gastrointestinal system']}\n",
      "{'acr_common_id': '4013589',\n",
      " 'codes': [{'code': '13365', 'system': 'FMA'},\n",
      "           {'code': 'C0227489', 'system': 'UMLS'}],\n",
      " 'contained_by_ref': {'display': 'liver', 'id': 'RID58'},\n",
      " 'description': 'caudate lobe of liver',\n",
      " 'id': 'RID77',\n",
      " 'part_of_ref': {'display': 'right lobe of liver', 'id': 'RID74'},\n",
      " 'region': 'Abdomen',\n",
      " 'snomed_display': 'Structure of caudate lobe of liver',\n",
      " 'snomed_id': '71133005',\n",
      " 'synonyms': ['segment I of liver',\n",
      "              'couinaud hepatic segment I',\n",
      "              'posterior liver',\n",
      "              'segmentum hepatis I',\n",
      "              'lobus caudatus hepatis',\n",
      "              'pars posterior hepatis',\n",
      "              'spiegelian lobe',\n",
      "              'Couinaud hepatic segment I',\n",
      "              'Couinaud hepatic segment 1',\n",
      "              'posterior part of liver',\n",
      "              'posterior hepatic segment I',\n",
      "              'pars posterior hepatis',\n",
      "              'segmentum hepatis I']}\n",
      "{'acr_common_id': '4014881',\n",
      " 'codes': [{'code': '50991', 'system': 'FMA'}],\n",
      " 'contained_by_ref': {'display': 'infratentorial brain',\n",
      "                      'id': 'RID6381_RID6434'},\n",
      " 'description': 'right basal vein',\n",
      " 'id': 'RID36159',\n",
      " 'left_ref': {'display': 'left basal vein', 'id': 'RID36160'},\n",
      " 'region': 'Head',\n",
      " 'unsided_ref': {'display': 'basal vein', 'id': 'RID1152'}}\n",
      "{'acr_common_id': '4014472',\n",
      " 'contained_by_ref': {'display': 'pleural space', 'id': 'RID1363'},\n",
      " 'contains_refs': [{'display': 'oblique fissure', 'id': 'RID43260'},\n",
      "                   {'display': 'apex of lung', 'id': 'RID28584'},\n",
      "                   {'display': 'bronchopulmonary lymph node', 'id': 'RID1497'},\n",
      "                   {'display': 'right bronchopulmonary lymph node',\n",
      "                    'id': 'RID1499'},\n",
      "                   {'display': 'left bronchopulmonary lymph node',\n",
      "                    'id': 'RID1501'}],\n",
      " 'description': 'lung',\n",
      " 'has_parts_refs': [{'display': 'oblique fissure', 'id': 'RID43260'},\n",
      "                    {'display': 'coronary sinus', 'id': 'RID1216'}],\n",
      " 'id': 'RID1301',\n",
      " 'left_ref': {'display': 'left lung', 'id': 'RID1326'},\n",
      " 'region': 'Thorax',\n",
      " 'right_ref': {'display': 'right lung', 'id': 'RID1302'},\n",
      " 'snomed_display': 'Lung structure',\n",
      " 'snomed_id': '39607008',\n",
      " 'synonyms': ['pulmo', 'pulmo']}\n",
      "{'contained_by_ref': {'display': 'face', 'id': 'RID13284'},\n",
      " 'description': 'left nasalis muscle',\n",
      " 'id': 'RID9869_RID5824',\n",
      " 'region': 'Head',\n",
      " 'right_ref': {'display': 'right nasalis muscle', 'id': 'RID9869_RID5825'},\n",
      " 'unsided_ref': {'display': 'nasalis muscle', 'id': 'RID9869'}}\n",
      "{'acr_common_id': '4015315',\n",
      " 'codes': [{'code': '49650', 'system': 'FMA'},\n",
      "           {'code': 'C0226130', 'system': 'UMLS'}],\n",
      " 'contained_by_ref': {'display': 'face', 'id': 'RID13284'},\n",
      " 'description': 'superficial temporal artery',\n",
      " 'id': 'RID726',\n",
      " 'left_ref': {'display': 'left superficial temporal artery',\n",
      "              'id': 'RID726_RID5824'},\n",
      " 'region': 'Head',\n",
      " 'right_ref': {'display': 'right superficial temporal artery',\n",
      "               'id': 'RID726_RID5825'},\n",
      " 'snomed_display': 'Structure of superficial temporal artery',\n",
      " 'snomed_id': '15672000'}\n",
      "{'contained_by_ref': {'display': 'pelvis', 'id': 'RID2507'},\n",
      " 'description': 'right levator ani',\n",
      " 'id': 'RID39500_RID5825',\n",
      " 'left_ref': {'display': 'left levator ani', 'id': 'RID39500_RID5824'},\n",
      " 'part_of_ref': {'display': 'musculature of perineum', 'id': 'RID32793'},\n",
      " 'region': 'Pelvis',\n",
      " 'unsided_ref': {'display': 'levator ani', 'id': 'RID39500'}}\n",
      "{'acr_common_id': '4013425',\n",
      " 'codes': [{'code': '37382', 'system': 'FMA'}],\n",
      " 'contained_by_ref': {'display': 'hand', 'id': 'RID2318'},\n",
      " 'description': 'abductor digiti minimi muscle of hand',\n",
      " 'id': 'RID2358',\n",
      " 'left_ref': {'display': 'abductor digiti minimi of left hand',\n",
      "              'id': 'RID43144'},\n",
      " 'region': 'Upper Extremity',\n",
      " 'right_ref': {'display': 'abductor digiti minimi of right hand',\n",
      "               'id': 'RID43143'},\n",
      " 'snomed_display': 'Structure of abductor digiti minimi muscle of hand',\n",
      " 'snomed_id': '115982000',\n",
      " 'synonyms': ['abductor digiti quinti muscle']}\n",
      "{'acr_common_id': '4015297',\n",
      " 'codes': [{'code': '236655', 'system': 'FMA'}],\n",
      " 'contained_by_ref': {'display': 'left female breast', 'id': 'RID29897'},\n",
      " 'description': 'subareolar region of left breast',\n",
      " 'id': 'RID29954',\n",
      " 'region': 'Breast',\n",
      " 'right_ref': {'display': 'subareolar region of right breast',\n",
      "               'id': 'RID29953'},\n",
      " 'sex_specific': 'Female',\n",
      " 'snomed_display': 'Structure of left subareolar region',\n",
      " 'snomed_id': '788497007',\n",
      " 'unsided_ref': {'display': 'subareolar region of breast', 'id': 'RID29952'}}\n",
      "{'acr_common_id': '4015266',\n",
      " 'codes': [{'code': '50776', 'system': 'FMA'}],\n",
      " 'contained_by_ref': {'display': 'temporal brain region', 'id': 'RID6392'},\n",
      " 'description': 'sphenoparietal sinus',\n",
      " 'id': 'RID1119',\n",
      " 'left_ref': {'display': 'left sphenoparietal sinus', 'id': 'RID1119_RID5824'},\n",
      " 'region': 'Head',\n",
      " 'right_ref': {'display': 'right sphenoparietal sinus',\n",
      "               'id': 'RID1119_RID5825'},\n",
      " 'snomed_display': 'Structure of sphenoparietal sinus',\n",
      " 'snomed_id': '6608009'}\n"
     ]
    }
   ],
   "source": [
    "random_locations = repo.get_random_concepts(10)\n",
    "for location in random_locations:\n",
    "    pprint(location.model_dump(exclude_none=True))"
   ]
  },
  {
   "cell_type": "code",
   "execution_count": 13,
   "metadata": {},
   "outputs": [
    {
     "name": "stdout",
     "output_type": "stream",
     "text": [
      "{'code': 'RID205',\n",
      " 'display': 'kidney',\n",
      " 'score': 16.455778121948242,\n",
      " 'system': 'ANTOMICLOCATIONS'}\n",
      "{'code': 'RID29662',\n",
      " 'display': 'right kidney',\n",
      " 'score': 16.416847229003906,\n",
      " 'system': 'ANTOMICLOCATIONS'}\n",
      "{'code': 'RID29663',\n",
      " 'display': 'left kidney',\n",
      " 'score': 16.416847229003906,\n",
      " 'system': 'ANTOMICLOCATIONS'}\n",
      "{'code': 'RID211',\n",
      " 'display': 'cortex of kidney',\n",
      " 'score': 14.383835792541504,\n",
      " 'system': 'ANTOMICLOCATIONS'}\n",
      "{'code': 'RID31790',\n",
      " 'display': 'cortex of left kidney',\n",
      " 'score': 10.782598495483398,\n",
      " 'system': 'ANTOMICLOCATIONS'}\n",
      "{'code': 'RID31789',\n",
      " 'display': 'cortex of right kidney',\n",
      " 'score': 8.092062950134277,\n",
      " 'system': 'ANTOMICLOCATIONS'}\n",
      "{'code': 'RID225',\n",
      " 'display': 'calyx of renal collecting system',\n",
      " 'score': 3.2740674018859863,\n",
      " 'system': 'ANTOMICLOCATIONS'}\n",
      "{'code': 'RID228',\n",
      " 'display': 'renal pelvis',\n",
      " 'score': 3.2740674018859863,\n",
      " 'system': 'ANTOMICLOCATIONS'}\n",
      "{'code': 'RID204',\n",
      " 'display': 'urinary tract',\n",
      " 'score': 3.092905282974243,\n",
      " 'system': 'ANTOMICLOCATIONS'}\n",
      "{'code': 'RID431',\n",
      " 'display': 'retroperitoneum',\n",
      " 'score': 3.0561447143554688,\n",
      " 'system': 'ANTOMICLOCATIONS'}\n"
     ]
    }
   ],
   "source": [
    "results = repo.get_search_results(\"kidney\", 10)\n",
    "for location in results:\n",
    "    pprint(location.model_dump(exclude_none=True))"
   ]
  }
 ],
 "metadata": {
  "kernelspec": {
   "display_name": ".venv",
   "language": "python",
   "name": "python3"
  },
  "language_info": {
   "codemirror_mode": {
    "name": "ipython",
    "version": 3
   },
   "file_extension": ".py",
   "mimetype": "text/x-python",
   "name": "python",
   "nbconvert_exporter": "python",
   "pygments_lexer": "ipython3",
   "version": "3.11.9"
  }
 },
 "nbformat": 4,
 "nbformat_minor": 2
}
