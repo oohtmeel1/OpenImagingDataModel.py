{
 "cells": [
  {
   "cell_type": "code",
   "execution_count": 2,
   "metadata": {},
   "outputs": [],
   "source": [
    "# from openai import AsyncOpenAI\n",
    "import motor.motor_asyncio\n",
    "from dotenv import dotenv_values"
   ]
  },
  {
   "cell_type": "code",
   "execution_count": 3,
   "metadata": {},
   "outputs": [
    {
     "name": "stdout",
     "output_type": "stream",
     "text": [
      "{'version': '7.0.11', 'gitVersion': 'f451220f0df2b9dfe073f1521837f8ec5c208a8c', 'modules': ['enterprise'], 'allocator': 'tcmalloc', 'javascriptEngine': 'mozjs', 'sysInfo': 'deprecated', 'versionArray': [7, 0, 11, 0], 'bits': 64, 'debug': False, 'maxBsonObjectSize': 16777216, 'storageEngines': ['devnull', 'inMemory', 'queryable_wt', 'wiredTiger'], 'ok': 1.0, '$clusterTime': {'clusterTime': Timestamp(1718477718, 38), 'signature': {'hash': b'@\\xd202\\xf4\\xccl\\x98E\\xb6\\xe3\\xf3\\xd4;\\x08\\x9b\\xc4\\x08\\x00t', 'keyId': 7327016299177967635}}, 'operationTime': Timestamp(1718477718, 38)}\n"
     ]
    }
   ],
   "source": [
    "config = dotenv_values(\".env\")\n",
    "client = motor.motor_asyncio.AsyncIOMotorClient(config[\"ATLAS_DSN\"])\n",
    "# Ping the client to confirm\n",
    "print(await client.server_info())  #"
   ]
  },
  {
   "cell_type": "markdown",
   "metadata": {},
   "source": [
    "## Anatomic Locations\n"
   ]
  },
  {
   "cell_type": "code",
   "execution_count": 5,
   "metadata": {},
   "outputs": [
    {
     "data": {
      "text/plain": [
       "2901"
      ]
     },
     "execution_count": 5,
     "metadata": {},
     "output_type": "execute_result"
    }
   ],
   "source": [
    "anatomic_locations_raw = client[\"ontologies\"][\"anatomic_locations_raw\"]\n",
    "count = await anatomic_locations_raw.count_documents({})\n",
    "count"
   ]
  },
  {
   "cell_type": "markdown",
   "metadata": {},
   "source": [
    "### Loading JSON/CSV\n"
   ]
  },
  {
   "cell_type": "code",
   "execution_count": 45,
   "metadata": {},
   "outputs": [
    {
     "data": {
      "text/plain": [
       "2901"
      ]
     },
     "execution_count": 45,
     "metadata": {},
     "output_type": "execute_result"
    }
   ],
   "source": [
    "import json\n",
    "\n",
    "# Load the openimagingdatamodel/ontology_tools/data/updated_anatomic_locations.json file\n",
    "with open(\"openimagingdatamodel/ontology_tools/data/updated_anatomic_locations.json\") as f:\n",
    "    data = json.load(f)\n",
    "    body_parts = data[\"bodyParts\"]\n",
    "len(body_parts)"
   ]
  },
  {
   "cell_type": "code",
   "execution_count": 46,
   "metadata": {},
   "outputs": [
    {
     "name": "stdout",
     "output_type": "stream",
     "text": [
      "Duplicate common ID: RID342 (genital system of male human body), 4013890 and 4014361\n",
      "Duplicate common ID: RID342 (genital system of male human body), 4013890 and 4014403\n",
      "Duplicate common ID: RID34819 (adrenal vein), 4013447 and 4014863\n",
      "Duplicate common ID: RID1275 (left main bronchus), 4014246 and 4015017\n"
     ]
    }
   ],
   "source": [
    "# Load the openimagingdatamodel/ontology_tools/data/common_ids.csv file\n",
    "import csv\n",
    "\n",
    "common_ids = {}\n",
    "with open(\"openimagingdatamodel/ontology_tools/data/common_ids.csv\") as f:\n",
    "    reader = csv.reader(f)\n",
    "    # Skip the header\n",
    "    next(reader)\n",
    "    for row in reader:\n",
    "        if row[2] in common_ids:\n",
    "            if common_ids[row[2]] != row[0].strip():\n",
    "                print(f\"Duplicate common ID: {row[2]} ({row[1]}), {common_ids[row[2]]} and {row[0].strip()}\")\n",
    "        else:\n",
    "            common_ids[row[2]] = row[0].strip()"
   ]
  },
  {
   "cell_type": "code",
   "execution_count": 47,
   "metadata": {},
   "outputs": [],
   "source": [
    "import random"
   ]
  },
  {
   "cell_type": "code",
   "execution_count": 48,
   "metadata": {},
   "outputs": [
    {
     "data": {
      "text/plain": [
       "[{'radlexId': 'RID2142',\n",
       "  'description': 'brachioradialis muscle',\n",
       "  'region': 'Upper extremity',\n",
       "  'containedById': 'RID2107',\n",
       "  'leftId': 'RID43109',\n",
       "  'rightId': 'RID43108',\n",
       "  'synonyms': ['musculus brachioradialis', 'Musculus brachioradialis'],\n",
       "  'codes': [{'system': 'FMA', 'code': '38485'},\n",
       "   {'system': 'SNOMED', 'code': '72111005'}]},\n",
       " {'radlexId': 'RID48457',\n",
       "  'description': 'left tibialis anterior muscle',\n",
       "  'region': 'Lower extremity',\n",
       "  'containedById': 'RID2869_RID5824',\n",
       "  'unsidedId': 'RID2912',\n",
       "  'rightId': 'RID48456',\n",
       "  'synonyms': ['left tibialis anterior'],\n",
       "  'codes': [{'system': 'FMA', 'code': '22545'}]},\n",
       " {'radlexId': 'RID3129_RID2996_RID5825',\n",
       "  'description': 'right metatarsophalangeal joint of second toe',\n",
       "  'region': 'Lower extremity',\n",
       "  'containedById': 'RID28829_RID5825',\n",
       "  'unsidedId': 'RID3129_RID2996',\n",
       "  'leftId': 'RID3129_RID2996_RID5824',\n",
       "  'codes': [{'system': 'SNOMED', 'code': '23311000087100'}]}]"
      ]
     },
     "execution_count": 48,
     "metadata": {},
     "output_type": "execute_result"
    }
   ],
   "source": [
    "random.sample(body_parts, 3)"
   ]
  },
  {
   "cell_type": "code",
   "execution_count": 49,
   "metadata": {},
   "outputs": [
    {
     "data": {
      "text/plain": [
       "(2025, 876)"
      ]
     },
     "execution_count": 49,
     "metadata": {},
     "output_type": "execute_result"
    }
   ],
   "source": [
    "count_added, count_not_added = 0, 0\n",
    "for body_part in body_parts:\n",
    "    if \"commonIdd\" in body_part:\n",
    "        del body_part[\"commonIdd\"]\n",
    "    if body_part[\"radlexId\"] in common_ids:\n",
    "        count_added += 1\n",
    "        body_part[\"commonId\"] = common_ids[body_part[\"radlexId\"]]\n",
    "    else:\n",
    "        count_not_added += 1\n",
    "count_added, count_not_added"
   ]
  },
  {
   "cell_type": "code",
   "execution_count": null,
   "metadata": {},
   "outputs": [],
   "source": [
    "result = await anatomic_locations_raw.insert_many(body_parts)\n",
    "len(result.inserted_ids)"
   ]
  },
  {
   "cell_type": "markdown",
   "metadata": {},
   "source": [
    "### Processing Raw\n"
   ]
  },
  {
   "cell_type": "code",
   "execution_count": 6,
   "metadata": {},
   "outputs": [],
   "source": [
    "import random\n",
    "import re\n",
    "from pprint import pprint\n",
    "from typing import Annotated, Literal\n",
    "\n",
    "from annotated_types import MinLen\n",
    "from pydantic import BaseModel, BeforeValidator, ConfigDict, Field, ValidationError\n",
    "from pydantic.alias_generators import to_camel"
   ]
  },
  {
   "cell_type": "code",
   "execution_count": 39,
   "metadata": {},
   "outputs": [],
   "source": [
    "def check_anatomic_location_id(v: str):\n",
    "    v = v.strip()\n",
    "    match = re.match(r\"^RID\\d{2,}(_RID\\d{2,})*$\", v)\n",
    "    if not match:\n",
    "        raise ValueError(\"Invalid anatomic location ID\")\n",
    "    return v\n",
    "\n",
    "\n",
    "def check_numeric_string(v: str):\n",
    "    v = v.strip()\n",
    "    match = re.match(r\"^\\d{3,}$\", v)\n",
    "    if not match:\n",
    "        raise ValueError(\"Invalid numeric string\")\n",
    "    return v\n",
    "\n",
    "\n",
    "def check_compound_numeric_string(v: str):\n",
    "    v = v.strip()\n",
    "    match = re.match(r\"^\\d{3,}(_\\d{3,})*$\", v)\n",
    "    if not match:\n",
    "        raise ValueError(\"Invalid compound numeric strings\")\n",
    "    return v"
   ]
  },
  {
   "cell_type": "code",
   "execution_count": 40,
   "metadata": {},
   "outputs": [],
   "source": [
    "AnatomicLocationId = Annotated[str, BeforeValidator(check_anatomic_location_id)]\n",
    "NumericString = Annotated[str, BeforeValidator(check_numeric_string)]\n",
    "CompoundNumericString = Annotated[str, BeforeValidator(check_compound_numeric_string)]\n",
    "NonEmptyString = Annotated[str, MinLen(3)]\n",
    "Region = Annotated[\n",
    "    Literal[\"Body\", \"Head\", \"Neck\", \"Thorax\", \"Upper Extremity\", \"Breast\", \"Abdomen\", \"Pelvis\", \"Lower Extremity\"],\n",
    "    BeforeValidator(lambda v: v.title()),\n",
    "]"
   ]
  },
  {
   "cell_type": "code",
   "execution_count": 41,
   "metadata": {},
   "outputs": [],
   "source": [
    "class AnatomicLocationRef(BaseModel):\n",
    "    model_config = ConfigDict(alias_generator=to_camel, populate_by_name=True, validate_assignment=True)\n",
    "\n",
    "    id: AnatomicLocationId\n",
    "    display: NonEmptyString | None = None"
   ]
  },
  {
   "cell_type": "code",
   "execution_count": 42,
   "metadata": {},
   "outputs": [],
   "source": [
    "class Code(BaseModel):\n",
    "    model_config = ConfigDict(alias_generator=to_camel, populate_by_name=True, validate_assignment=True)\n",
    "\n",
    "    system: NonEmptyString\n",
    "    code: NonEmptyString\n",
    "    display: NonEmptyString | None = None"
   ]
  },
  {
   "cell_type": "code",
   "execution_count": 43,
   "metadata": {},
   "outputs": [],
   "source": [
    "class AnatomicLocation(BaseModel):\n",
    "    model_config = ConfigDict(\n",
    "        alias_generator=to_camel,\n",
    "        populate_by_name=True,\n",
    "        validate_assignment=True,\n",
    "    )\n",
    "\n",
    "    id: AnatomicLocationId = Field(alias=\"_id\")\n",
    "    acr_common_id: NumericString | None = None\n",
    "    snomed_id: CompoundNumericString | None = None\n",
    "    snomed_display: NonEmptyString | None = None\n",
    "    description: NonEmptyString\n",
    "    region: Region\n",
    "    contained_by_ref: AnatomicLocationRef | None = None\n",
    "    contains_refs: Annotated[list[AnatomicLocationRef], MinLen(1)] | None = None\n",
    "    synonyms: Annotated[list[str], MinLen(1)] | None = None\n",
    "    part_of_ref: AnatomicLocationRef | None = None\n",
    "    has_parts_refs: Annotated[list[AnatomicLocationRef], MinLen(1)] | None = None\n",
    "    left_ref: AnatomicLocationRef | None = None\n",
    "    right_ref: AnatomicLocationRef | None = None\n",
    "    unsided_ref: AnatomicLocationRef | None = None\n",
    "    sex_specific: Literal[\"Male\", \"Female\"] | None = None\n",
    "    codes: Annotated[list[Code], MinLen(1)] | None = None"
   ]
  },
  {
   "cell_type": "code",
   "execution_count": 80,
   "metadata": {},
   "outputs": [],
   "source": [
    "anatomic_locations_data = {}\n",
    "async for anatomic_location in anatomic_locations_raw.find({}):\n",
    "    anatomic_locations_data[anatomic_location[\"radlexId\"]] = anatomic_location"
   ]
  },
  {
   "cell_type": "code",
   "execution_count": 81,
   "metadata": {},
   "outputs": [],
   "source": [
    "# For each element in anatomic_locations_data, add its _id to a \"contains\" list of the named element\n",
    "# and to the \"has_parts\" list of that element\n",
    "for anatomic_location in anatomic_locations_data.values():\n",
    "    this_ref = (anatomic_location[\"radlexId\"], anatomic_location[\"description\"])\n",
    "    if \"containedById\" in anatomic_location:\n",
    "        contained_by_id = anatomic_location[\"containedById\"]\n",
    "        if contained_by_id in anatomic_locations_data:\n",
    "            if \"contains\" not in anatomic_locations_data[contained_by_id]:\n",
    "                anatomic_locations_data[contained_by_id][\"contains\"] = []\n",
    "            anatomic_locations_data[contained_by_id][\"contains\"].append(this_ref)\n",
    "        else:\n",
    "            print(f\"Contained by ID {contained_by_id} for {anatomic_location['radlexId']} not found\")\n",
    "    if \"partOfId\" in anatomic_location:\n",
    "        part_of_id = anatomic_location[\"partOfId\"]\n",
    "        if part_of_id in anatomic_locations_data:\n",
    "            if \"hasParts\" not in anatomic_locations_data[part_of_id]:\n",
    "                anatomic_locations_data[part_of_id][\"hasParts\"] = []\n",
    "            anatomic_locations_data[part_of_id][\"hasParts\"].append(this_ref)\n",
    "        else:\n",
    "            print(f\"Part of ID {part_of_id} for {anatomic_location['radlexId']} not found\")"
   ]
  },
  {
   "cell_type": "code",
   "execution_count": 84,
   "metadata": {},
   "outputs": [],
   "source": [
    "# Find the locations with invalid region values\n",
    "for anatomic_location in anatomic_locations_data.values():\n",
    "    region = anatomic_location.get(\"region\", None)\n",
    "    if region == \"Back\":\n",
    "        anatomic_location[\"region\"] = \"Thorax\"\n",
    "    if not region or region.title() not in [\n",
    "        \"Body\",\n",
    "        \"Head\",\n",
    "        \"Neck\",\n",
    "        \"Thorax\",\n",
    "        \"Upper Extremity\",\n",
    "        \"Breast\",\n",
    "        \"Abdomen\",\n",
    "        \"Pelvis\",\n",
    "        \"Lower Extremity\",\n",
    "    ]:\n",
    "        print(\n",
    "            f\"Invalid region value {anatomic_location['region']} for {anatomic_location['radlexId']} ({anatomic_location['description']})\"\n",
    "        )"
   ]
  },
  {
   "cell_type": "code",
   "execution_count": 86,
   "metadata": {},
   "outputs": [
    {
     "name": "stdout",
     "output_type": "stream",
     "text": [
      "{'_id': ObjectId('6669acb587b7161a0c6d2736'),\n",
      " 'codes': [{'code': '772137004', 'system': 'SNOMED'}],\n",
      " 'containedById': 'RID13303_RID5825',\n",
      " 'description': 'right middle ear cavity',\n",
      " 'leftId': 'RID10109_RID5824',\n",
      " 'radlexId': 'RID10109_RID5825',\n",
      " 'region': 'Head',\n",
      " 'unsidedId': 'RID10109'}\n"
     ]
    }
   ],
   "source": [
    "raw_data = anatomic_locations_data[\"RID10109_RID5825\"]\n",
    "pprint(raw_data)"
   ]
  },
  {
   "cell_type": "code",
   "execution_count": 58,
   "metadata": {},
   "outputs": [],
   "source": [
    "snomed_collection = client[\"ontologies\"][\"snomedct\"]"
   ]
  },
  {
   "cell_type": "code",
   "execution_count": 50,
   "metadata": {},
   "outputs": [],
   "source": [
    "# Gather all the SNOMED IDs into a single list\n",
    "snomed_ids = set()\n",
    "for anatomic_location in anatomic_locations_data.values():\n",
    "    if \"codes\" in anatomic_location:\n",
    "        for code in anatomic_location[\"codes\"]:\n",
    "            if code[\"system\"] == \"SNOMED\":\n",
    "                snomed_ids.add(code[\"code\"])\n",
    "                break"
   ]
  },
  {
   "cell_type": "code",
   "execution_count": 52,
   "metadata": {},
   "outputs": [],
   "source": [
    "# Get the SNOMED preferredTerm for each SNOMED ID and put them in a dictionary\n",
    "snomed_names = {}\n",
    "cursor = snomed_collection.find({\"conceptId\": {\"$in\": list(snomed_ids)}})\n",
    "async for snomed_data in cursor:\n",
    "    snomed_names[snomed_data[\"conceptId\"]] = snomed_data[\"preferredTerm\"]"
   ]
  },
  {
   "cell_type": "code",
   "execution_count": 64,
   "metadata": {},
   "outputs": [
    {
     "data": {
      "text/plain": [
       "{'16217661000119100', '16217701000119100', '75095003'}"
      ]
     },
     "execution_count": 64,
     "metadata": {},
     "output_type": "execute_result"
    }
   ],
   "source": [
    "# Get the snomed codes in snomed_ids but not in snomed_names\n",
    "missing_snomed_ids = snomed_ids - set(snomed_names.keys())\n",
    "missing_snomed_ids"
   ]
  },
  {
   "cell_type": "code",
   "execution_count": 90,
   "metadata": {},
   "outputs": [
    {
     "data": {
      "text/plain": [
       "[]"
      ]
     },
     "execution_count": 90,
     "metadata": {},
     "output_type": "execute_result"
    }
   ],
   "source": [
    "# find the raw data that give the missing snomed ids\n",
    "missing_snomed_data = []\n",
    "for anatomic_location in anatomic_locations_data.values():\n",
    "    if \"codes\" in anatomic_location:\n",
    "        for code in anatomic_location[\"codes\"]:\n",
    "            if code[\"system\"] == \"SNOMED\" and code[\"code\"] in missing_snomed_ids:\n",
    "                missing_snomed_data.append(anatomic_location)\n",
    "                break\n",
    "missing_snomed_data"
   ]
  },
  {
   "cell_type": "code",
   "execution_count": 88,
   "metadata": {},
   "outputs": [
    {
     "name": "stdout",
     "output_type": "stream",
     "text": [
      "Structure of left deltoid muscle Structure of right deltoid muscle Intervertebral disc structure of fifth cervical vertebra\n"
     ]
    }
   ],
   "source": [
    "async def get_snomed_name_from_id(snomed_id: str):\n",
    "    snomed_data = await snomed_collection.find_one({\"conceptId\": snomed_id})\n",
    "    return snomed_data[\"preferredTerm\"]\n",
    "\n",
    "\n",
    "left_deltoid = await get_snomed_name_from_id(\"16217701000119102\")\n",
    "right_deltoid = await get_snomed_name_from_id(\"16217661000119109\")\n",
    "c56_disc = await get_snomed_name_from_id(\"73959003\")\n",
    "print(left_deltoid, right_deltoid, c56_disc)"
   ]
  },
  {
   "cell_type": "code",
   "execution_count": 89,
   "metadata": {},
   "outputs": [],
   "source": [
    "snomed_errors = [\n",
    "    (\"RID43059\", \"16217661000119109\", right_deltoid),\n",
    "    (\"RID43060\", \"16217701000119102\", left_deltoid),\n",
    "    (\"RID50392_RID6185\", \"73959003\", c56_disc),\n",
    "]\n",
    "for radlex_id, snomed_id, snomed_name in snomed_errors:\n",
    "    location = anatomic_locations_data[radlex_id]\n",
    "    for code in location[\"codes\"]:\n",
    "        if code[\"system\"] == \"SNOMED\":\n",
    "            code[\"code\"] = snomed_id\n",
    "    snomed_names[snomed_id] = snomed_name"
   ]
  },
  {
   "cell_type": "code",
   "execution_count": 99,
   "metadata": {},
   "outputs": [
    {
     "name": "stdout",
     "output_type": "stream",
     "text": [
      "{'_id': ObjectId('6669acb587b7161a0c6d2998'),\n",
      " 'codes': [{'code': '74633', 'system': 'FMA'},\n",
      "           {'code': '37512009', 'system': 'SNOMED'},\n",
      "           {'code': 'A06.300.747.875 | A06.688.178.875 | A06.688.357.750.875 | '\n",
      "                    'A08.186.211.180.497.352.435.500.875 | '\n",
      "                    'A08.186.211.200.317.357.352.435.500.875 | A08.713.049.875 '\n",
      "                    '| A08.713.357.750.875',\n",
      "            'system': 'MESH'},\n",
      "           {'code': 'C1184201', 'system': 'UMLS'}],\n",
      " 'commonId': '4015539',\n",
      " 'containedById': 'RID6537',\n",
      " 'description': 'zone of neurohypophysis',\n",
      " 'partOfId': 'RID38674',\n",
      " 'radlexId': 'RID15527',\n",
      " 'region': 'Head',\n",
      " 'synonyms': ['subdivision of posterior lobe of pituitary gland',\n",
      "              'neurohypophysis zone']}\n"
     ]
    }
   ],
   "source": [
    "anatomic_location_ids = list(anatomic_locations_data.keys())\n",
    "\n",
    "\n",
    "def random_anatomic_location_data():\n",
    "    return anatomic_locations_data[random.choice(anatomic_location_ids)]\n",
    "\n",
    "\n",
    "pprint(random_anatomic_location_data())"
   ]
  },
  {
   "cell_type": "code",
   "execution_count": 100,
   "metadata": {},
   "outputs": [
    {
     "name": "stdout",
     "output_type": "stream",
     "text": [
      "{'_id': ObjectId('6669acb587b7161a0c6d224d'),\n",
      " 'codes': [{'code': '25202', 'system': 'FMA'},\n",
      "           {'code': '16982005', 'system': 'SNOMED'},\n",
      "           {'code': 'A01.378.800.750', 'system': 'MESH'}],\n",
      " 'commonId': '4015252',\n",
      " 'containedById': 'RID1850',\n",
      " 'contains': [('RID1860', 'scapula'),\n",
      "              ('RID40098', 'body of scapula'),\n",
      "              ('RID1854', 'clavicle'),\n",
      "              ('RID1862', 'acromion'),\n",
      "              ('RID1863', 'coracoid process'),\n",
      "              ('RID1905', 'glenohumeral joint'),\n",
      "              ('RID1895', 'acromioclavicular joint'),\n",
      "              ('RID1884', 'sternoclavicular joint'),\n",
      "              ('RID1892', 'costoclavicular ligament'),\n",
      "              ('RID1915', 'coracoacromial ligament'),\n",
      "              ('RID1901', 'coracoclavicular ligament'),\n",
      "              ('RID1944', 'tendon of long head of biceps brachii'),\n",
      "              ('RID1945', 'tendon of short head of biceps brachii'),\n",
      "              ('RID860', 'axillary artery'),\n",
      "              ('RID1014', 'axillary vein'),\n",
      "              ('RID7240', 'axillary nerve'),\n",
      "              ('RID1936', 'deltoid muscle'),\n",
      "              ('RID1940', 'subscapularis muscle'),\n",
      "              ('RID1941', 'supraspinatus muscle'),\n",
      "              ('RID1939', 'infraspinatus muscle'),\n",
      "              ('RID1942', 'teres minor muscle'),\n",
      "              ('RID2504', 'teres major muscle')],\n",
      " 'description': 'shoulder',\n",
      " 'leftId': 'RID39518_RID5824',\n",
      " 'radlexId': 'RID39518',\n",
      " 'region': 'Upper extremity',\n",
      " 'rightId': 'RID39518_RID5825'}\n"
     ]
    }
   ],
   "source": [
    "pprint(anatomic_locations_data[\"RID39518\"])"
   ]
  },
  {
   "cell_type": "code",
   "execution_count": 105,
   "metadata": {},
   "outputs": [],
   "source": [
    "def make_ref_from_key_if_key(data: dict[str, any], key: str) -> AnatomicLocationRef:\n",
    "    if key in data and data[key]:\n",
    "        return AnatomicLocationRef(id=data[key], display=anatomic_locations_data[data[key]][\"description\"])\n",
    "    return None\n",
    "\n",
    "\n",
    "def raw_json_to_anatomic_location(raw_data: dict[str, any]) -> AnatomicLocation:\n",
    "    try:\n",
    "        location = AnatomicLocation(\n",
    "            id=raw_data[\"radlexId\"], description=raw_data[\"description\"], region=raw_data[\"region\"]\n",
    "        )\n",
    "    except ValidationError as e:\n",
    "        print(raw_data)\n",
    "        raise e\n",
    "    if \"commonId\" in raw_data and raw_data[\"commonId\"]:\n",
    "        location.acr_common_id = raw_data[\"commonId\"]\n",
    "    if \"codes\" in raw_data and raw_data[\"codes\"]:\n",
    "        snomed_code_list = [code[\"code\"] for code in raw_data[\"codes\"] if code[\"system\"] == \"SNOMED\"]\n",
    "        if snomed_code_list:\n",
    "            location.snomed_id = snomed_code_list[0]\n",
    "            location.snomed_display = snomed_names[snomed_code_list[0]]\n",
    "        codes = [Code(**code) for code in raw_data[\"codes\"] if code[\"system\"] != \"SNOMED\"]\n",
    "        if codes:\n",
    "            location.codes = codes\n",
    "    used_ref_ids = [location.id]\n",
    "    if contained_by := make_ref_from_key_if_key(raw_data, \"containedById\"):\n",
    "        location.contained_by_ref = contained_by\n",
    "        used_ref_ids.append(contained_by.id)\n",
    "    if contains := raw_data.get(\"contains\"):\n",
    "        location.contains_refs = [AnatomicLocationRef(id=ref[0], display=ref[1]) for ref in contains]\n",
    "    if part_of := make_ref_from_key_if_key(raw_data, \"partOfId\"):\n",
    "        if part_of.id not in used_ref_ids:\n",
    "            location.part_of_ref = part_of\n",
    "        location.part_of_ref = part_of\n",
    "    if has_parts := raw_data.get(\"hasParts\"):\n",
    "        location.has_parts_refs = [AnatomicLocationRef(id=ref[0], display=ref[1]) for ref in has_parts]\n",
    "    if left := make_ref_from_key_if_key(raw_data, \"leftId\"):\n",
    "        location.left_ref = left\n",
    "        used_ref_ids.append(left.id)\n",
    "    if right := make_ref_from_key_if_key(raw_data, \"rightId\"):\n",
    "        location.right_ref = right\n",
    "        used_ref_ids.append(right.id)\n",
    "    if unsided := make_ref_from_key_if_key(raw_data, \"unsidedId\"):\n",
    "        location.unsided_ref = unsided\n",
    "        used_ref_ids.append(unsided.id)\n",
    "    if \"sexSpecific\" in raw_data and raw_data[\"sexSpecific\"]:\n",
    "        location.sex_specific = raw_data[\"sexSpecific\"]\n",
    "    if \"synonyms\" in raw_data and raw_data[\"synonyms\"]:\n",
    "        location.synonyms = raw_data[\"synonyms\"]\n",
    "    return location"
   ]
  },
  {
   "cell_type": "code",
   "execution_count": 108,
   "metadata": {},
   "outputs": [
    {
     "name": "stdout",
     "output_type": "stream",
     "text": [
      "{'_id': ObjectId('6669acb587b7161a0c6d228a'),\n",
      " 'codes': [{'code': '26002', 'system': 'FMA'}],\n",
      " 'commonId': '4014905',\n",
      " 'containedById': 'RID39518_RID5825',\n",
      " 'description': 'right coracoacromial ligament',\n",
      " 'leftId': 'RID40843',\n",
      " 'radlexId': 'RID40842',\n",
      " 'region': 'Upper extremity',\n",
      " 'synonyms': ['right coraco-acromial ligament'],\n",
      " 'unsidedId': 'RID1915'}\n",
      "{\n",
      "  \"_id\": \"RID40842\",\n",
      "  \"acrCommonId\": \"4014905\",\n",
      "  \"description\": \"right coracoacromial ligament\",\n",
      "  \"region\": \"Upper Extremity\",\n",
      "  \"containedByRef\": {\n",
      "    \"id\": \"RID39518_RID5825\",\n",
      "    \"display\": \"right shoulder\"\n",
      "  },\n",
      "  \"synonyms\": [\n",
      "    \"right coraco-acromial ligament\"\n",
      "  ],\n",
      "  \"leftRef\": {\n",
      "    \"id\": \"RID40843\",\n",
      "    \"display\": \"left coracoacromial ligament\"\n",
      "  },\n",
      "  \"unsidedRef\": {\n",
      "    \"id\": \"RID1915\",\n",
      "    \"display\": \"coracoacromial ligament\"\n",
      "  },\n",
      "  \"codes\": [\n",
      "    {\n",
      "      \"system\": \"FMA\",\n",
      "      \"code\": \"26002\"\n",
      "    }\n",
      "  ]\n",
      "}\n"
     ]
    }
   ],
   "source": [
    "raw_data = random_anatomic_location_data()\n",
    "pprint(raw_data)\n",
    "location = raw_json_to_anatomic_location(raw_data)\n",
    "print(location.model_dump_json(by_alias=True, indent=2, exclude_none=True))"
   ]
  },
  {
   "cell_type": "code",
   "execution_count": 115,
   "metadata": {},
   "outputs": [
    {
     "data": {
      "text/plain": [
       "2901"
      ]
     },
     "execution_count": 115,
     "metadata": {},
     "output_type": "execute_result"
    }
   ],
   "source": [
    "anatomic_locations_collection = client[\"ontologies\"][\"anatomic_locations\"]\n",
    "count = await anatomic_locations_collection.count_documents({})\n",
    "count"
   ]
  },
  {
   "cell_type": "code",
   "execution_count": 110,
   "metadata": {},
   "outputs": [
    {
     "data": {
      "text/plain": [
       "2901"
      ]
     },
     "execution_count": 110,
     "metadata": {},
     "output_type": "execute_result"
    }
   ],
   "source": [
    "anatomic_locations = [raw_json_to_anatomic_location(data) for data in anatomic_locations_data.values()]\n",
    "len(anatomic_locations)"
   ]
  },
  {
   "cell_type": "code",
   "execution_count": 112,
   "metadata": {},
   "outputs": [
    {
     "name": "stdout",
     "output_type": "stream",
     "text": [
      "<Future pending cb=[_chain_future.<locals>._call_check_cancel() at /opt/homebrew/Cellar/python@3.11/3.11.9/Frameworks/Python.framework/Versions/3.11/lib/python3.11/asyncio/futures.py:387]>\n"
     ]
    }
   ],
   "source": [
    "anatomic_locations_dicts = [location.dict(by_alias=True, exclude_none=True) for location in anatomic_locations]\n",
    "result = anatomic_locations_collection.insert_many(anatomic_locations_dicts)\n",
    "pprint(result)"
   ]
  },
  {
   "cell_type": "code",
   "execution_count": 114,
   "metadata": {},
   "outputs": [
    {
     "name": "stdout",
     "output_type": "stream",
     "text": [
      "InsertManyResult(['RID56', 'RID905', 'RID294', 'RID294_RID5824', 'RID294_RID5825', 'RID935', 'RID935_RID5824', 'RID935_RID5825', 'RID88', 'RID30324', 'RID30325', 'RID164', 'RID480', 'RID581', 'RID1394', 'RID168', 'RID580', 'RID34819', 'RID1183', 'RID1185', 'RID157', 'RID33652', 'RID237', 'RID582', 'RID1011', 'RID1011_RID5824', 'RID1011_RID5825', 'RID29895', 'RID29896', 'RID29897', 'RID29898', 'RID29899', 'RID29900', 'RID29903', 'RID29904', 'RID29905', 'RID29906', 'RID29907', 'RID29908', 'RID29914', 'RID29915', 'RID29916', 'RID29917', 'RID29918', 'RID29919', 'RID29928', 'RID29929', 'RID29930', 'RID29931', 'RID29932', 'RID29933', 'RID29934', 'RID29935', 'RID29936', 'RID29937', 'RID29938', 'RID29939', 'RID29940', 'RID29941', 'RID29942', 'RID29943', 'RID29944', 'RID29945', 'RID29946', 'RID29947', 'RID29948', 'RID29949', 'RID29950', 'RID29951', 'RID29952', 'RID29953', 'RID29954', 'RID29955', 'RID1246', 'RID1248', 'RID154', 'RID906', 'RID34571', 'RID2468', 'RID510', 'RID199', 'RID909', 'RID944', 'RID944_RID5824', 'RID944_RID5825', 'RID1193', 'RID1193_RID5824', 'RID1193_RID5825', 'RID919', 'RID201', 'RID161', 'RID35844', 'RID1524', 'RID134', 'RID30958', 'RID95', 'RID81', 'RID295', 'RID30346', 'RID30345', 'RID187', 'RID910', 'RID430', 'RID96', 'RID94', 'RID38068', 'RID38069', 'RID38070', 'RID38034', 'RID38035', 'RID38036', 'RID34801', 'RID34802', 'RID34803', 'RID34804', 'RID34805', 'RID34806', 'RID9080', 'RID1385', 'RID158', 'RID1179', 'RID153', 'RID150', 'RID939', 'RID1211', 'RID1178', 'RID945', 'RID1194', 'RID148', 'RID205', 'RID29662', 'RID29663', 'RID152', 'RID490', 'RID1390', 'RID193', 'RID486', 'RID908', 'RID916', 'RID1326', 'RID34918', 'RID1250', 'RID1275', 'RID993', 'RID37860', 'RID43896', 'RID1392', 'RID1333', 'RID1338', 'RID1315', 'RID34573', 'RID1301', 'RID975', 'RID2476', 'RID1384', 'RID1310', 'RID1395', 'RID7488', 'RID290', 'RID32830', 'RID32829', 'RID170', 'RID171', 'RID177', 'RID173', 'RID172', 'RID175', 'RID176', 'RID2507', 'RID1407', 'RID397', 'RID410', 'RID1363', 'RID1363_RID5824', 'RID1363_RID5825', 'RID1362', 'RID914', 'RID343', 'RID2553', 'RID974', 'RID1231', 'RID1396', 'RID122', 'RID163', 'RID936', 'RID1184', 'RID37993', 'RID37994', 'RID431', 'RID1387', 'RID194', 'RID544', 'RID920', 'RID918', 'RID1302', 'RID976', 'RID37859', 'RID43895', 'RID1389', 'RID357', 'RID50232', 'RID50233', 'RID28727', 'RID162', 'RID579', 'RID132', 'RID7741', 'RID86', 'RID921', 'RID160', 'RID1209', 'RID2473', 'RID114', 'RID773', 'RID927', 'RID1212', 'RID1010', 'RID151', 'RID879', 'RID34572', 'RID1243', 'RID1430', 'RID1247', 'RID159', 'RID1397', 'RID1327', 'RID1303', 'RID229', 'RID30844', 'RID30845', 'RID34890', 'RID204', 'RID302', 'RID325', 'RID39569', 'RID270', 'RID342', 'RID375', 'RID375_RID5824', 'RID375_RID5825', 'RID361', 'RID371', 'RID371_RID5824', 'RID371_RID5825', 'RID362', 'RID366', 'RID38996', 'RID38997', 'RID365', 'RID30036', 'RID30037', 'RID356', 'RID376', 'RID2509', 'RID1258', 'RID30008', 'RID32817', 'RID147', 'RID413', 'RID417', 'RID415', 'RID33180', 'RID200', 'RID2638', 'RID2638_RID5824', 'RID2638_RID5825', 'RID2639', 'RID2639_RID5824', 'RID2639_RID5825', 'RID2660', 'RID2660_RID5824', 'RID2660_RID5825', 'RID2743', 'RID49359', 'RID49360', 'RID2869', 'RID2869_RID5824', 'RID2869_RID5825', 'RID28545', 'RID28545_RID5824', 'RID28545_RID5825', 'RID28829', 'RID28829_RID5824', 'RID28829_RID5825', 'RID2691', 'RID48157', 'RID48158', 'RID48159', 'RID48160', 'RID48161', 'RID2692', 'RID48162', 'RID48163', 'RID2931', 'RID48164', 'RID48165', 'RID2934', 'RID2934_RID5824', 'RID2934_RID5825', 'RID2933', 'RID2933_RID5824', 'RID2933_RID5825', 'RID2932', 'RID48175', 'RID48176', 'RID2640', 'RID2640_RID5824', 'RID2640_RID5825', 'RID2531', 'RID2531_RID5824', 'RID2531_RID5825', 'RID2545', 'RID2545_RID5824', 'RID2545_RID5825', 'RID2564', 'RID2564_RID5824', 'RID2564_RID5825', 'RID2644', 'RID2644_RID5824', 'RID2644_RID5825', 'RID2567', 'RID2567_RID5824', 'RID2567_RID5825', 'RID2662', 'RID49026', 'RID49027', 'RID2664', 'RID2664_RID5824', 'RID2664_RID5825', 'RID2668', 'RID2668_RID5824', 'RID2668_RID5825', 'RID2652', 'RID2652_RID5824', 'RID2652_RID5825', 'RID2650', 'RID2650_RID5824', 'RID2650_RID5825', 'RID2651', 'RID2651_RID5824', 'RID2651_RID5825', 'RID2671', 'RID39754', 'RID39755', 'RID2673', 'RID39756', 'RID39757', 'RID41864', 'RID41865', 'RID41866', 'RID2683', 'RID49266', 'RID49267', 'RID2682', 'RID49284', 'RID49285', 'RID2688', 'RID39857', 'RID39858', 'RID2686', 'RID39859', 'RID39860', 'RID2751', 'RID49392', 'RID49393', 'RID2746', 'RID48530', 'RID48531', 'RID2848', 'RID48532', 'RID48533', 'RID2851', 'RID41143', 'RID41144', 'RID2849', 'RID48958', 'RID48959', 'RID2781', 'RID48971', 'RID48972', 'RID2784', 'RID48973', 'RID48974', 'RID2797', 'RID48950', 'RID48951', 'RID48947', 'RID48948', 'RID48949', 'RID2763', 'RID49364', 'RID49365', 'RID2772', 'RID49362', 'RID49363', 'RID2871', 'RID49436', 'RID49437', 'RID2872', 'RID2872_RID5824', 'RID2872_RID5825', 'RID2875', 'RID2875_RID5824', 'RID2875_RID5825', 'RID2885', 'RID49378', 'RID49379', 'RID2892', 'RID39648', 'RID39649', 'RID2889', 'RID39646', 'RID39647', 'RID39626', 'RID39627', 'RID39628', 'RID39629', 'RID39630', 'RID39631', 'RID2900', 'RID41869', 'RID41870', 'RID2745', 'RID49394', 'RID49395', 'RID2904', 'RID39871', 'RID39872', 'RID2883', 'RID39864', 'RID39865', 'RID3004', 'RID3004_RID5824', 'RID3004_RID5825', 'RID2959', 'RID2959_RID5824', 'RID2959_RID5825', 'RID2962', 'RID2962_RID5824', 'RID2962_RID5825', 'RID2949', 'RID2949_RID5824', 'RID2949_RID5825', 'RID2957', 'RID2957_RID5824', 'RID2957_RID5825', 'RID2952', 'RID2952_RID5824', 'RID2952_RID5825', 'RID2976', 'RID2976_RID5824', 'RID2976_RID5825', 'RID2973', 'RID2973_RID5824', 'RID2973_RID5825', 'RID2978', 'RID2978_RID5824', 'RID2978_RID5825', 'RID2983', 'RID2983_RID5824', 'RID2983_RID5825', 'RID2981', 'RID2981_RID5824', 'RID2981_RID5825', 'RID3184', 'RID3184_RID5824', 'RID3184_RID5825', 'RID3055', 'RID3055_RID5824', 'RID3055_RID5825', 'RID41191', 'RID41192', 'RID41193', 'RID41194', 'RID41195', 'RID41196', 'RID41197', 'RID41198', 'RID41199', 'RID41200', 'RID41201', 'RID41202', 'RID41203', 'RID41204', 'RID41205', 'RID3188', 'RID41186', 'RID41187', 'RID41175', 'RID41176', 'RID41177', 'RID3194', 'RID41178', 'RID41179', 'RID3192', 'RID41227', 'RID41228', 'RID3193', 'RID41225', 'RID41226', 'RID3197', 'RID41209', 'RID41210', 'RID41206', 'RID41207', 'RID41208', 'RID38808', 'RID38808_RID5824', 'RID38808_RID5825', 'RID38809', 'RID38809_RID5824', 'RID38809_RID5825', 'RID3022', 'RID3022_RID5824', 'RID3022_RID5825', 'RID3024', 'RID3024_RID5824', 'RID3024_RID5825', 'RID3015', 'RID3015_RID5824', 'RID3015_RID5825', 'RID3016', 'RID3016_RID5824', 'RID3016_RID5825', 'RID3020', 'RID3020_RID5824', 'RID3020_RID5825', 'RID3018', 'RID3018_RID5824', 'RID3018_RID5825', 'RID3023', 'RID3023_RID5824', 'RID3023_RID5825', 'RID3129_RID2993', 'RID3129_RID2993_RID5824', 'RID3129_RID2993_RID5825', 'RID3129_RID2996', 'RID3129_RID2996_RID5824', 'RID3129_RID2996_RID5825', 'RID3129_RID2997', 'RID3129_RID2997_RID5824', 'RID3129_RID2997_RID5825', 'RID3129_RID2998', 'RID3129_RID2998_RID5824', 'RID3129_RID2998_RID5825', 'RID3129_RID2999', 'RID3129_RID2999_RID5824', 'RID3129_RID2999_RID5825', 'RID34530_RID2993', 'RID34530_RID2993_RID5824', 'RID34530_RID2993_RID5825', 'RID3139_RID2996', 'RID3139_RID2996_RID5824', 'RID3139_RID2996_RID5825', 'RID3139_RID2997', 'RID3139_RID2997_RID5824', 'RID3139_RID2997_RID5825', 'RID3139_RID2998', 'RID3139_RID2998_RID5824', 'RID3139_RID2998_RID5825', 'RID3139_RID2999', 'RID3139_RID2999_RID5824', 'RID3139_RID2999_RID5825', 'RID3148_RID2996', 'RID3148_RID2996_RID5824', 'RID3148_RID2996_RID5825', 'RID3148_RID2997', 'RID3148_RID2997_RID5824', 'RID3148_RID2997_RID5825', 'RID3148_RID2998', 'RID3148_RID2998_RID5824', 'RID3148_RID2998_RID5825', 'RID3148_RID2999', 'RID3148_RID2999_RID5824', 'RID3148_RID2999_RID5825', 'RID2986_RID2993', 'RID2986_RID2993_RID5824', 'RID2986_RID2993_RID5825', 'RID2986_RID2996', 'RID2986_RID2996_RID5824', 'RID2986_RID2996_RID5825', 'RID2986_RID2997', 'RID2986_RID2997_RID5824', 'RID2986_RID2997_RID5825', 'RID2986_RID2998', 'RID2986_RID2998_RID5824', 'RID2986_RID2998_RID5825', 'RID13324', 'RID13324_RID5824', 'RID13324_RID5825', 'RID3000_RID2993', 'RID3000_RID2993_RID5824', 'RID3000_RID2993_RID5825', 'RID3000_RID2996', 'RID3000_RID2996_RID5824', 'RID3000_RID2996_RID5825', 'RID3000_RID2997', 'RID3000_RID2997_RID5824', 'RID3000_RID2997_RID5825', 'RID3000_RID2998', 'RID3000_RID2998_RID5824', 'RID3000_RID2998_RID5825', 'RID3000_RID2999', 'RID3000_RID2999_RID5824', 'RID3000_RID2999_RID5825', 'RID3001_RID2996', 'RID3001_RID2996_RID5824', 'RID3001_RID2996_RID5825', 'RID3001_RID2997', 'RID3001_RID2997_RID5824', 'RID3001_RID2997_RID5825', 'RID3001_RID2998', 'RID3001_RID2998_RID5824', 'RID3001_RID2998_RID5825', 'RID3001_RID2999', 'RID3001_RID2999_RID5824', 'RID3001_RID2999_RID5825', 'RID3002_RID2993', 'RID3002_RID2993_RID5824', 'RID3002_RID2993_RID5825', 'RID3002_RID2996', 'RID3002_RID2996_RID5824', 'RID3002_RID2996_RID5825', 'RID3002_RID2997', 'RID3002_RID2997_RID5824', 'RID3002_RID2997_RID5825', 'RID3002_RID2998', 'RID3002_RID2998_RID5824', 'RID3002_RID2998_RID5825', 'RID3002_RID2999', 'RID3002_RID2999_RID5824', 'RID3002_RID2999_RID5825', 'RID949', 'RID949_RID5824', 'RID949_RID5825', 'RID950', 'RID950_RID5824', 'RID950_RID5825', 'RID957', 'RID957_RID5824', 'RID957_RID5825', 'RID1195', 'RID1195_RID5824', 'RID1195_RID5825', 'RID958', 'RID958_RID5824', 'RID958_RID5825', 'RID961', 'RID961_RID5824', 'RID961_RID5825', 'RID1199', 'RID1199_RID5824', 'RID1199_RID5825', 'RID959', 'RID959_RID5824', 'RID959_RID5825', 'RID1197', 'RID1197_RID5824', 'RID1197_RID5825', 'RID1202', 'RID1202_RID5824', 'RID1202_RID5825', 'RID962', 'RID962_RID5824', 'RID962_RID5825', 'RID1201', 'RID1201_RID5824', 'RID1201_RID5825', 'RID971', 'RID971_RID5824', 'RID971_RID5825', 'RID1205', 'RID1205_RID5824', 'RID1205_RID5825', 'RID967', 'RID967_RID5824', 'RID967_RID5825', 'RID1207', 'RID1207_RID5824', 'RID1207_RID5825', 'RID964', 'RID964_RID5824', 'RID964_RID5825', 'RID1206', 'RID1206_RID5824', 'RID1206_RID5825', 'RID972', 'RID972_RID5824', 'RID972_RID5825', 'RID970', 'RID970_RID5824', 'RID970_RID5825', 'RID7321', 'RID25678', 'RID25679', 'RID7322', 'RID25680', 'RID25681', 'RID7330', 'RID25684', 'RID25685', 'RID7331', 'RID15362', 'RID15363', 'RID7348', 'RID7348_RID5824', 'RID7348_RID5825', 'RID7353', 'RID15808', 'RID15807', 'RID7359', 'RID15801', 'RID15800', 'RID7347', 'RID15368', 'RID15369', 'RID2629', 'RID2629_RID5824', 'RID2629_RID5825', 'RID2630', 'RID2630_RID5824', 'RID2630_RID5825', 'RID2631', 'RID2631_RID5824', 'RID2631_RID5825', 'RID2717', 'RID48228', 'RID48229', 'RID2718', 'RID48230', 'RID48231', 'RID2714', 'RID48226', 'RID48227', 'RID2709', 'RID48233', 'RID48234', 'RID2696', 'RID48209', 'RID48210', 'RID2707', 'RID48235', 'RID48236', 'RID30906', 'RID30907', 'RID30908', 'RID2703', 'RID2703_RID5824', 'RID2703_RID5825', 'RID2723', 'RID49024', 'RID49025', 'RID2700', 'RID2700_RID5824', 'RID2700_RID5825', 'RID2702', 'RID2702_RID5824', 'RID2702_RID5825', 'RID2699', 'RID2699_RID5824', 'RID2699_RID5825', 'RID2698', 'RID2698_RID5824', 'RID2698_RID5825', 'RID2710', 'RID48239', 'RID48240', 'RID2708', 'RID48237', 'RID48238', 'RID2711', 'RID48241', 'RID48242', 'RID48211', 'RID48212', 'RID48213', 'RID2920', 'RID48467', 'RID48468', 'RID2924', 'RID48469', 'RID48470', 'RID2912', 'RID48456', 'RID48457', 'RID2927', 'RID48480', 'RID48481', 'RID2918', 'RID48483', 'RID48484', 'RID2917', 'RID48485', 'RID48486', 'RID2913', 'RID48461', 'RID48462', 'RID2914', 'RID48458', 'RID48459', 'RID2929', 'RID48478', 'RID48479', 'RID2928', 'RID48476', 'RID48477', 'RID2915', 'RID48463', 'RID48464', 'RID3162', 'RID3162_RID5824', 'RID3162_RID5825', 'RID3163', 'RID3163_RID5824', 'RID3163_RID5825', 'RID3166', 'RID3166_RID5824', 'RID3166_RID5825', 'RID3173', 'RID3173_RID5824', 'RID3173_RID5825', 'RID3165', 'RID3165_RID5824', 'RID3165_RID5825', 'RID3176', 'RID3176_RID5824', 'RID3176_RID5825', 'RID3169', 'RID3169_RID5824', 'RID3169_RID5825', 'RID3172', 'RID3172_RID5824', 'RID3172_RID5825', 'RID3167', 'RID3167_RID5824', 'RID3167_RID5825', 'RID3181', 'RID3181_RID5824', 'RID3181_RID5825', 'RID3182', 'RID3182_RID5824', 'RID3182_RID5825', 'RID465', 'RID465_RID5824', 'RID465_RID5825', 'RID1850', 'RID1850_RID5824', 'RID1850_RID5825', 'RID39518', 'RID39518_RID5824', 'RID39518_RID5825', 'RID1968', 'RID1968_RID5824', 'RID1968_RID5825', 'RID2010', 'RID2010_RID5824', 'RID2010_RID5825', 'RID2107', 'RID2107_RID5824', 'RID2107_RID5825', 'RID2177', 'RID2177_RID5824', 'RID2177_RID5825', 'RID2318', 'RID2318_RID5824', 'RID2318_RID5825', 'RID38666', 'RID39955', 'RID39956', 'RID39957', 'RID39958', 'RID39959', 'RID2137', 'RID2137_RID5824', 'RID2137_RID5825', 'RID2135', 'RID2135_RID5824', 'RID2135_RID5825', 'RID1860', 'RID39671', 'RID39672', 'RID40098', 'RID40099', 'RID40100', 'RID1909', 'RID41025', 'RID41026', 'RID1854', 'RID41740', 'RID41741', 'RID1862', 'RID40003', 'RID40004', 'RID1863', 'RID40025', 'RID40026', 'RID1905', 'RID42240', 'RID42241', 'RID1895', 'RID42238', 'RID42239', 'RID1884', 'RID42236', 'RID42237', 'RID1892', 'RID1892_RID5824', 'RID1892_RID5825', 'RID1915', 'RID40842', 'RID40843', 'RID1901', 'RID42242', 'RID42243', 'RID1922', 'RID40834', 'RID40835', 'RID1921', 'RID40836', 'RID40837', 'RID1917', 'RID40838', 'RID40839', 'RID1916', 'RID1916_RID5824', 'RID1916_RID5825', 'RID1971', 'RID41945', 'RID41946', 'RID29093', 'RID39921', 'RID39922', 'RID1972', 'RID1972_RID5824', 'RID1972_RID5825', 'RID1973', 'RID1973_RID5824', 'RID1973_RID5825', 'RID1978', 'RID1978_RID5824', 'RID1978_RID5825', 'RID41789', 'RID41790', 'RID41791', 'RID1944', 'RID1944_RID5824', 'RID1944_RID5825', 'RID1945', 'RID1945_RID5824', 'RID1945_RID5825', 'RID1953', 'RID41116', 'RID41117', 'RID1949', 'RID41124', 'RID41125', 'RID1955', 'RID41100', 'RID41101', 'RID1951', 'RID41108', 'RID41109', 'RID1985', 'RID1985_RID5824', 'RID1985_RID5825', 'RID1984', 'RID1984_RID5824', 'RID1984_RID5825', 'RID1987', 'RID1987_RID5824', 'RID1987_RID5825', 'RID1990', 'RID39783', 'RID39784', 'RID2011', 'RID2011_RID5824', 'RID2011_RID5825', 'RID2086', 'RID2086_RID5824', 'RID2086_RID5825', 'RID2068', 'RID2068_RID5824', 'RID2068_RID5825', 'RID2044', 'RID2044_RID5824', 'RID2044_RID5825', 'RID2048', 'RID2048_RID5824', 'RID2048_RID5825', 'RID2035', 'RID40856', 'RID40855', 'RID2109', 'RID43018', 'RID43019', 'RID28590', 'RID28590_RID5824', 'RID28590_RID5825', 'RID39355', 'RID41792', 'RID41793', 'RID2113', 'RID42722', 'RID42723', 'RID2119', 'RID42720', 'RID42721', 'RID2125', 'RID43006', 'RID43007', 'RID39681', 'RID39682', 'RID39683', 'RID41794', 'RID41795', 'RID41796', 'RID42286', 'RID42286_RID5824', 'RID42286_RID5825', 'RID2132', 'RID42289', 'RID42290', 'RID2203', 'RID2203_RID5824', 'RID2203_RID5825', 'RID2230', 'RID2230_RID5824', 'RID2230_RID5825', 'RID40874', 'RID40875', 'RID40876', 'RID2257', 'RID2257_RID5824', 'RID2257_RID5825', 'RID2235', 'RID2235_RID5824', 'RID2235_RID5825', 'RID40937', 'RID40938', 'RID40939', 'RID2287', 'RID2287_RID5824', 'RID2287_RID5825', 'RID2267', 'RID40943', 'RID40944', 'RID40945', 'RID40946', 'RID40947', 'RID2229', 'RID2229_RID5824', 'RID2229_RID5825', 'RID2281', 'RID40872', 'RID40873', 'RID2259', 'RID2259_RID5824', 'RID2259_RID5825', 'RID2249', 'RID2249_RID5824', 'RID2249_RID5825', 'RID2247', 'RID2247_RID5824', 'RID2247_RID5825', 'RID2313', 'RID2313_RID5824', 'RID2313_RID5825', 'RID2309', 'RID2309_RID5824', 'RID2309_RID5825', 'RID2202', 'RID2202_RID5824', 'RID2202_RID5825', 'RID2181', 'RID2181_RID5824', 'RID2181_RID5825', 'RID2187', 'RID2187_RID5824', 'RID2187_RID5825', 'RID2189', 'RID2189_RID5824', 'RID2189_RID5825', 'RID2191', 'RID2191_RID5824', 'RID2191_RID5825', 'RID2193', 'RID2193_RID5824', 'RID2193_RID5825', 'RID2195', 'RID2195_RID5824', 'RID2195_RID5825', 'RID2197', 'RID2197_RID5824', 'RID2197_RID5825', 'RID2198', 'RID2198_RID5824', 'RID2198_RID5825', 'RID2200', 'RID2200_RID5824', 'RID2200_RID5825', 'RID41516', 'RID41517', 'RID41518', 'RID41519', 'RID41520', 'RID41521', 'RID41522', 'RID41523', 'RID41524', 'RID41525', 'RID41526', 'RID41527', 'RID2390', 'RID41500', 'RID41501', 'RID41494', 'RID41495', 'RID41496', 'RID2383', 'RID41581', 'RID41582', 'RID2374', 'RID41621', 'RID41622', 'RID2375', 'RID41631', 'RID41632', 'RID2378', 'RID41629', 'RID41630', 'RID2376', 'RID41589', 'RID41590', 'RID2377', 'RID41591', 'RID41592', 'RID2429', 'RID41633', 'RID41634', 'RID13338', 'RID41595', 'RID41596', 'RID41597', 'RID41598', 'RID41599', 'RID13340', 'RID41600', 'RID41601', 'RID41602', 'RID41603', 'RID41604', 'RID2381', 'RID41605', 'RID41606', 'RID2382', 'RID41613', 'RID41614', 'RID2320', 'RID2320_RID5824', 'RID2320_RID5825', 'RID34545', 'RID34545_RID5824', 'RID34545_RID5825', 'RID34546', 'RID34546_RID5824', 'RID34546_RID5825', 'RID34547', 'RID34547_RID5824', 'RID34547_RID5825', 'RID34548', 'RID34548_RID5824', 'RID34548_RID5825', 'RID34549', 'RID34549_RID5824', 'RID34549_RID5825', 'RID2332_RID2392', 'RID2332_RID2392_RID5824', 'RID2332_RID2392_RID5825', 'RID2332_RID2394', 'RID2332_RID2394_RID5824', 'RID2332_RID2394_RID5825', 'RID2332_RID2396', 'RID2332_RID2396_RID5824', 'RID2332_RID2396_RID5825', 'RID2332_RID2398', 'RID2332_RID2398_RID5824', 'RID2332_RID2398_RID5825', 'RID2332_RID2400', 'RID2332_RID2400_RID5824', 'RID2332_RID2400_RID5825', 'RID34533', 'RID34533_RID5824', 'RID34533_RID5825', 'RID2408_RID2394', 'RID2408_RID2394_RID5824', 'RID2408_RID2394_RID5825', 'RID2408_RID2396', 'RID2408_RID2396_RID5824', 'RID2408_RID2396_RID5825', 'RID2408_RID2398', 'RID2408_RID2398_RID5824', 'RID2408_RID2398_RID5825', 'RID2408_RID2400', 'RID2408_RID2400_RID5824', 'RID2408_RID2400_RID5825', 'RID2418_RID2394', 'RID2418_RID2394_RID5824', 'RID2418_RID2394_RID5825', 'RID2418_RID2396', 'RID2418_RID2396_RID5824', 'RID2418_RID2396_RID5825', 'RID2418_RID2398', 'RID2418_RID2398_RID5824', 'RID2418_RID2398_RID5825', 'RID2418_RID2400', 'RID2418_RID2400_RID5824', 'RID2418_RID2400_RID5825', 'RID2404_RID2392', 'RID2404_RID2392_RID5824', 'RID2404_RID2392_RID5825', 'RID2404_RID2394', 'RID2404_RID2394_RID5824', 'RID2404_RID2394_RID5825', 'RID2404_RID2396', 'RID2404_RID2396_RID5824', 'RID2404_RID2396_RID5825', 'RID2404_RID2398', 'RID2404_RID2398_RID5824', 'RID2404_RID2398_RID5825', 'RID2404_RID2400', 'RID2404_RID2400_RID5824', 'RID2404_RID2400_RID5825', 'RID2405_RID2394', 'RID2405_RID2394_RID5824', 'RID2405_RID2394_RID5825', 'RID2405_RID2396', 'RID2405_RID2396_RID5824', 'RID2405_RID2396_RID5825', 'RID2405_RID2398', 'RID2405_RID2398_RID5824', 'RID2405_RID2398_RID5825', 'RID2405_RID2400', 'RID2405_RID2400_RID5824', 'RID2405_RID2400_RID5825', 'RID2406_RID2392', 'RID2406_RID2392_RID5824', 'RID2406_RID2392_RID5825', 'RID2406_RID2394', 'RID2406_RID2394_RID5824', 'RID2406_RID2394_RID5825', 'RID2406_RID2396', 'RID2406_RID2396_RID5824', 'RID2406_RID2396_RID5825', 'RID2406_RID2398', 'RID2406_RID2398_RID5824', 'RID2406_RID2398_RID5825', 'RID2406_RID2400', 'RID2406_RID2400_RID5824', 'RID2406_RID2400_RID5825', 'RID860', 'RID45198', 'RID45199', 'RID1014', 'RID43899', 'RID43900', 'RID865', 'RID45200', 'RID45201', 'RID864', 'RID45078', 'RID45079', 'RID1015', 'RID1017', 'RID44009', 'RID44010', 'RID1016', 'RID43997', 'RID43998', 'RID39247', 'RID43999', 'RID44000', 'RID39248', 'RID44001', 'RID44002', 'RID866', 'RID45136', 'RID45137', 'RID1161', 'RID43988', 'RID43989', 'RID870', 'RID45096', 'RID45097', 'RID43978', 'RID43979', 'RID43980', 'RID867', 'RID871', 'RID7240', 'RID27730', 'RID27731', 'RID7243', 'RID27718', 'RID27719', 'RID7257', 'RID27728', 'RID27729', 'RID7246', 'RID27720', 'RID27721', 'RID7273', 'RID27722', 'RID27723', 'RID1936', 'RID43059', 'RID43060', 'RID1940', 'RID43069', 'RID43070', 'RID1941', 'RID43061', 'RID43062', 'RID1939', 'RID43063', 'RID43064', 'RID1942', 'RID43067', 'RID43068', 'RID2504', 'RID43065', 'RID43066', 'RID2004', 'RID43080', 'RID43081', 'RID1999', 'RID43084', 'RID43085', 'RID1996', 'RID43078', 'RID43079', 'RID2005', 'RID43082', 'RID43083', 'RID2151', 'RID43121', 'RID43122', 'RID2142', 'RID43108', 'RID43109', 'RID2164', 'RID43100', 'RID43101', 'RID2168', 'RID43102', 'RID43103', 'RID2161', 'RID43094', 'RID43095', 'RID2163', 'RID43098', 'RID43099', 'RID2171', 'RID43106', 'RID43107', 'RID2160', 'RID43092', 'RID43093', 'RID2162', 'RID43096', 'RID43097', 'RID2169', 'RID43104', 'RID43105', 'RID2149', 'RID43089', 'RID43090', 'RID2145', 'RID43110', 'RID43111', 'RID2144', 'RID43112', 'RID43113', 'RID2146', 'RID43119', 'RID43120', 'RID43114', 'RID43115', 'RID43116', 'RID2148', 'RID43117', 'RID43118', 'RID2154', 'RID43123', 'RID43124', 'RID2156', 'RID43127', 'RID43128', 'RID2155', 'RID43125', 'RID43126', 'RID2157', 'RID43129', 'RID43130', 'RID2358', 'RID43143', 'RID43144', 'RID2359', 'RID43145', 'RID43146', 'RID2360', 'RID43147', 'RID43148', 'RID2356', 'RID43141', 'RID43142', 'RID2346', 'RID43133', 'RID43134', 'RID2351', 'RID43139', 'RID43140', 'RID2347', 'RID43135', 'RID43136', 'RID2348', 'RID43137', 'RID43138', 'RID2362', 'RID43161', 'RID2364', 'RID1517', 'RID1517_RID5824', 'RID1517_RID5825', 'RID836', 'RID44829', 'RID44830', 'RID13091', 'RID13091_RID5824', 'RID13091_RID5825', 'RID30014', 'RID35951', 'RID49533', 'RID50378', 'RID49962', 'RID49921', 'RID49933', 'RID16280', 'RID13183', 'RID225', 'RID30781', 'RID7780', 'RID7780_RID5824', 'RID7780_RID5825', 'RID13374', 'RID13374_RID5824', 'RID13374_RID5825', 'RID31610', 'RID31611', 'RID31612', 'RID31607', 'RID31608', 'RID31609', 'RID2625', 'RID32248', 'RID32249', 'RID2626', 'RID32250', 'RID32251', 'RID29154', 'RID50392', 'RID28830', 'RID7745', 'RID7747', 'RID29160', 'RID29161', 'RID29224', 'RID29162', 'RID29163', 'RID29198', 'RID29199', 'RID29200', 'RID29201', 'RID29202', 'RID29203', 'RID29204', 'RID29205', 'RID29206', 'RID29207', 'RID29208', 'RID29209', 'RID29193', 'RID29194', 'RID29195', 'RID29196', 'RID29197', 'RID29188', 'RID29189', 'RID29190', 'RID29191', 'RID29192', 'RID2524', 'RID50392_RID6182', 'RID50392_RID6183', 'RID50392_RID6184', 'RID50392_RID6185', 'RID50392_RID6186', 'RID50392_RID6187', 'RID28830_RID6202', 'RID28830_RID6203', 'RID28830_RID6204', 'RID28830_RID6205', 'RID28830_RID6206', 'RID28591', 'RID28591_RID6151', 'RID28591_RID6151_RID5824', 'RID28591_RID6151_RID5825', 'RID28591_RID6152', 'RID28591_RID6152_RID5824', 'RID28591_RID6152_RID5825', 'RID28591_RID6153', 'RID28591_RID6153_RID5824', 'RID28591_RID6153_RID5825', 'RID28591_RID6154', 'RID28591_RID6154_RID5824', 'RID28591_RID6154_RID5825', 'RID28591_RID6155', 'RID28591_RID6155_RID5824', 'RID28591_RID6155_RID5825', 'RID28591_RID6156', 'RID28591_RID6156_RID5824', 'RID28591_RID6156_RID5825', 'RID28591_RID6157', 'RID28591_RID6157_RID5824', 'RID28591_RID6157_RID5825', 'RID28591_RID6158', 'RID28591_RID6158_RID5824', 'RID28591_RID6158_RID5825', 'RID28591_RID6159', 'RID28591_RID6159_RID5824', 'RID28591_RID6159_RID5825', 'RID28591_RID6160', 'RID28591_RID6160_RID5824', 'RID28591_RID6160_RID5825', 'RID28591_RID6161', 'RID28591_RID6161_RID5824', 'RID28591_RID6161_RID5825', 'RID28591_RID6162', 'RID28591_RID6162_RID5824', 'RID28591_RID6162_RID5825', 'RID228', 'RID1529', 'RID1529_RID5824', 'RID1529_RID5825', 'RID45811', 'RID182', 'RID922', 'RID923', 'RID38122', 'RID116', 'RID303', 'RID29245', 'RID137', 'RID144', 'RID146', 'RID39061', 'RID912', 'RID928', 'RID115', 'RID38296', 'RID38289', 'RID38291', 'RID38290', 'RID38297', 'RID38283', 'RID38284', 'RID38281', 'RID38298', 'RID911', 'RID925', 'RID931', 'RID934', 'RID940', 'RID929', 'RID1192', 'RID1169', 'RID7694', 'RID884', 'RID7201', 'RID27716', 'RID27717', 'RID44771', 'RID44772', 'RID44773', 'RID38762', 'RID38762_RID5824', 'RID38762_RID5825', 'RID211', 'RID31789', 'RID31790', 'RID28909', 'RID1526', 'RID1525', 'RID2493', 'RID43071', 'RID43072', 'RID2496', 'RID43073', 'RID43074', 'RID2502', 'RID43052', 'RID43053', 'RID30049', 'RID2500', 'RID43054', 'RID43055', 'RID2501', 'RID43056', 'RID43057', 'RID1937', 'RID43045', 'RID43046', 'RID32769', 'RID32770', 'RID32771', 'RID823', 'RID44769', 'RID44770', 'RID49536', 'RID16276', 'RID19173', 'RID19174', 'RID19175', 'RID43258', 'RID43260', 'RID43260_RID5824', 'RID43260_RID5825', 'RID1232', 'RID1238', 'RID43951', 'RID43952', 'RID43953', 'RID12187', 'RID27700', 'RID27701', 'RID28584', 'RID1216', 'RID1400', 'RID1401', 'RID39309', 'RID1404', 'RID2485', 'RID39500', 'RID39500_RID5824', 'RID39500_RID5825', 'RID40365', 'RID40366', 'RID40367', 'RID2636', 'RID2636_RID5824', 'RID2636_RID5825', 'RID953', 'RID953_RID5824', 'RID953_RID5825', 'RID7293', 'RID25606', 'RID25607', 'RID954', 'RID954_RID5824', 'RID954_RID5825', 'RID377', 'RID32691', 'RID31602', 'RID31603', 'RID31604', 'RID31596', 'RID31597', 'RID31598', 'RID31599', 'RID31600', 'RID31601', 'RID358', 'RID358_RID5824', 'RID358_RID5825', 'RID2632', 'RID2632_RID5824', 'RID2632_RID5825', 'RID40392', 'RID40393', 'RID40394', 'RID13315', 'RID13315_RID5824', 'RID13315_RID5825', 'RID13087', 'RID13087_RID5824', 'RID13087_RID5825', 'RID13086', 'RID13086_RID5824', 'RID13086_RID5825', 'RID956', 'RID956_RID5824', 'RID956_RID5825', 'RID942', 'RID947', 'RID947_RID5824', 'RID947_RID5825', 'RID948', 'RID948_RID5824', 'RID948_RID5825', 'RID1176', 'RID1176_RID5824', 'RID1176_RID5825', 'RID7312', 'RID27754', 'RID27755', 'RID33194', 'RID33195', 'RID33196', 'RID301', 'RID31695', 'RID31696', 'RID407', 'RID406', 'RID308', 'RID31686', 'RID315', 'RID30683', 'RID2594', 'RID322', 'RID30748', 'RID30749', 'RID1497', 'RID1499', 'RID1501', 'RID31912', 'RID28852', 'RID31997', 'RID28848', 'RID31919', 'RID28854', 'RID28855', 'RID31977', 'RID31968', 'RID34263', 'RID34263_RID5824', 'RID34263_RID5825', 'RID31959', 'RID453', 'RID32011', 'RID32012', 'RID32013', 'RID32018', 'RID32019', 'RID32020', 'RID31931', 'RID28857', 'RID466', 'RID466_RID5824', 'RID466_RID5825', 'RID1523', 'RID1477', 'RID456', 'RID1522', 'RID1522_RID5824', 'RID1522_RID5825', 'RID1490', 'RID1492', 'RID1494', 'RID28935', 'RID1521', 'RID1484', 'RID1486', 'RID1488', 'RID1465', 'RID1467', 'RID1469', 'RID1482', 'RID28847', 'RID32793', 'RID103', 'RID13209', 'RID32755', 'RID32809', 'RID32807', 'RID32808', 'RID32811', 'RID58', 'RID74', 'RID69', 'RID77', 'RID33237', 'RID33238', 'RID33243', 'RID33244', 'RID33240', 'RID33242', 'RID33241', 'RID33239', 'RID31748', 'RID32954', 'RID31555', 'RID34560', 'RID34559', 'RID34557', 'RID34558', 'RID29859', 'RID1208', 'RID34469', 'RID34470', 'RID35962', 'RID34884', 'RID7534', 'RID7535', 'RID7536', 'RID7537', 'RID7538', 'RID584', 'RID584_RID5824', 'RID584_RID5825', 'RID585', 'RID585_RID5824', 'RID585_RID5825', 'RID684', 'RID684_RID5824', 'RID684_RID5825', 'RID685', 'RID685_RID5824', 'RID685_RID5825', 'RID692', 'RID692_RID5824', 'RID692_RID5825', 'RID774', 'RID44620', 'RID44621', 'RID837', 'RID837_RID5824', 'RID837_RID5825', 'RID838', 'RID44842', 'RID44843', 'RID853', 'RID853_RID5824', 'RID853_RID5825', 'RID1020', 'RID44024', 'RID44025', 'RID1024', 'RID1024_RID5824', 'RID1024_RID5825', 'RID1018', 'RID43901', 'RID43902', 'RID43934', 'RID43935', 'RID43936', 'RID1037', 'RID1037_RID5824', 'RID1037_RID5825', 'RID1055', 'RID43903', 'RID43904', 'RID1079', 'RID1079_RID5824', 'RID1079_RID5825', 'RID7578', 'RID7579', 'RID7581', 'RID7583', 'RID7584', 'RID7587', 'RID6379_RID9080', 'RID6383_RID9080', 'RID9532', 'RID13211', 'RID9990', 'RID10003', 'RID10021', 'RID9938', 'RID7589', 'RID7565', 'RID7565_RID5824', 'RID7565_RID5825', 'RID7569', 'RID7569_RID5824', 'RID7569_RID5825', 'RID7572', 'RID7572_RID5824', 'RID7572_RID5825', 'RID7568', 'RID7568_RID5824', 'RID7568_RID5825', 'RID9943', 'RID7489', 'RID7500', 'RID7500_RID5824', 'RID7500_RID5825', 'RID7519', 'RID7519_RID5824', 'RID7519_RID5825', 'RID7520', 'RID7520_RID5824', 'RID7520_RID5825', 'RID7523', 'RID7523_RID5824', 'RID7523_RID5825', 'RID7524', 'RID7524_RID5824', 'RID7524_RID5825', 'RID7512', 'RID7512_RID5824', 'RID7512_RID5825', 'RID7516', 'RID7516_RID5824', 'RID7516_RID5825', 'RID7515', 'RID7515_RID5824', 'RID7515_RID5825', 'RID7517', 'RID7517_RID5824', 'RID7517_RID5825', 'RID7496', 'RID7496_RID5824', 'RID7496_RID5825', 'RID7497', 'RID7497_RID5824', 'RID7497_RID5825', 'RID7498', 'RID7498_RID5824', 'RID7498_RID5825', 'RID32236', 'RID32237', 'RID32238', 'RID32311', 'RID32312', 'RID32313', 'RID32308', 'RID32309', 'RID32310', 'RID32239', 'RID32240', 'RID32241', 'RID32314', 'RID32315', 'RID32316', 'RID32317', 'RID32318', 'RID32319', 'RID32274', 'RID32275', 'RID32276', 'RID32286', 'RID32287', 'RID32288', 'RID32297', 'RID32298', 'RID32299', 'RID32258', 'RID32259', 'RID32260', 'RID32255', 'RID32256', 'RID32257', 'RID7504', 'RID43050', 'RID43051', 'RID32245', 'RID32246', 'RID32247', 'RID32242', 'RID32243', 'RID32244', 'RID32277', 'RID32278', 'RID32279', 'RID32262', 'RID32263', 'RID32264', 'RID7815', 'RID7815_RID5824', 'RID7815_RID5825', 'RID32294', 'RID32295', 'RID32296', 'RID7649', 'RID7649_RID5824', 'RID7649_RID5825', 'RID7651', 'RID7651_RID5824', 'RID7651_RID5825', 'RID7643', 'RID7643_RID5824', 'RID7643_RID5825', 'RID7645', 'RID7645_RID5824', 'RID7645_RID5825', 'RID7647', 'RID7647_RID5824', 'RID7647_RID5825', 'RID7640', 'RID7640_RID5824', 'RID7640_RID5825', 'RID7657', 'RID7601', 'RID7590', 'RID7606', 'RID7619', 'RID7621', 'RID7563', 'RID7563_RID5824', 'RID7563_RID5825', 'RID7548', 'RID7548_RID5824', 'RID7548_RID5825', 'RID7553', 'RID7553_RID5824', 'RID7553_RID5825', 'RID7560', 'RID7560_RID5824', 'RID7560_RID5825', 'RID7556', 'RID7556_RID5824', 'RID7556_RID5825', 'RID7559', 'RID7559_RID5824', 'RID7559_RID5825', 'RID1516', 'RID1516_RID5824', 'RID1516_RID5825', 'RID9993', 'RID9993_RID5824', 'RID9993_RID5825', 'RID10010', 'RID10010_RID5824', 'RID10010_RID5825', 'RID9998', 'RID9998_RID5824', 'RID9998_RID5825', 'RID10008', 'RID10008_RID5824', 'RID10008_RID5825', 'RID13284', 'RID9573', 'RID9573_RID5824', 'RID9573_RID5825', 'RID9592', 'RID9592_RID5824', 'RID9592_RID5825', 'RID9725', 'RID9725_RID5824', 'RID9725_RID5825', 'RID9726', 'RID9726_RID5824', 'RID9726_RID5825', 'RID9675', 'RID9675_RID5824', 'RID9675_RID5825', 'RID9678', 'RID9678_RID5824', 'RID9678_RID5825', 'RID9606', 'RID9606_RID5824', 'RID9606_RID5825', 'RID9688', 'RID9688_RID5824', 'RID9688_RID5825', 'RID9635', 'RID9635_RID5824', 'RID9635_RID5825', 'RID9682', 'RID9682_RID5824', 'RID9682_RID5825', 'RID9651', 'RID9651_RID5824', 'RID9651_RID5825', 'RID9594', 'RID9594_RID5824', 'RID9594_RID5825', 'RID9624', 'RID9624_RID5824', 'RID9624_RID5825', 'RID9617', 'RID9617_RID5824', 'RID9617_RID5825', 'RID9761', 'RID39008', 'RID39009', 'RID10053', 'RID10053_RID5824', 'RID10053_RID5825', 'RID10054', 'RID10054_RID5824', 'RID10054_RID5825', 'RID13303', 'RID13303_RID5824', 'RID13303_RID5825', 'RID10199', 'RID10199_RID5824', 'RID10199_RID5825', 'RID10094', 'RID10094_RID5824', 'RID10094_RID5825', 'RID10100', 'RID10100_RID5824', 'RID10100_RID5825', 'RID10109', 'RID10109_RID5824', 'RID10109_RID5825', 'RID9419', 'RID9419_RID5824', 'RID9419_RID5825', 'RID10223', 'RID10223_RID5824', 'RID10223_RID5825', 'RID9392', 'RID9392_RID5824', 'RID9392_RID5825', 'RID10163', 'RID10163_RID5824', 'RID10163_RID5825', 'RID10165', 'RID10165_RID5824', 'RID10165_RID5825', 'RID10166', 'RID10166_RID5824', 'RID10166_RID5825', 'RID10167', 'RID10167_RID5824', 'RID10167_RID5825', 'RID10168', 'RID10168_RID5824', 'RID10168_RID5825', 'RID10169', 'RID10169_RID5824', 'RID10169_RID5825', 'RID10190', 'RID10190_RID5824', 'RID10190_RID5825', 'RID10191', 'RID10191_RID5824', 'RID10191_RID5825', 'RID10157', 'RID10157_RID5824', 'RID10157_RID5825', 'RID10159', 'RID10159_RID5824', 'RID10159_RID5825', 'RID10160', 'RID10160_RID5824', 'RID10160_RID5825', 'RID10161', 'RID10161_RID5824', 'RID10161_RID5825', 'RID10162', 'RID10162_RID5824', 'RID10162_RID5825', 'RID10197', 'RID10197_RID5824', 'RID10197_RID5825', 'RID10151', 'RID10151_RID5824', 'RID10151_RID5825', 'RID10153', 'RID10153_RID5824', 'RID10153_RID5825', 'RID10154', 'RID10154_RID5824', 'RID10154_RID5825', 'RID10155', 'RID10155_RID5824', 'RID10155_RID5825', 'RID10156', 'RID10156_RID5824', 'RID10156_RID5825', 'RID10202', 'RID10202_RID5824', 'RID10202_RID5825', 'RID12165', 'RID14618', 'RID14619', 'RID12154', 'RID14603', 'RID14604', 'RID10143', 'RID10143_RID5824', 'RID10143_RID5825', 'RID10214', 'RID10214_RID5824', 'RID10214_RID5825', 'RID10216', 'RID10216_RID5824', 'RID10216_RID5825', 'RID10218', 'RID10218_RID5824', 'RID10218_RID5825', 'RID10029', 'RID10039', 'RID9567', 'RID9535', 'RID9535_RID5824', 'RID9535_RID5825', 'RID9536', 'RID9536_RID5824', 'RID9536_RID5825', 'RID9537', 'RID9537_RID5824', 'RID9537_RID5825', 'RID9566', 'RID9566_RID5824', 'RID9566_RID5825', 'RID10049', 'RID10049_RID5824', 'RID10049_RID5825', 'RID10050', 'RID10050_RID5824', 'RID10050_RID5825', 'RID10051', 'RID10051_RID5824', 'RID10051_RID5825', 'RID9206', 'RID9206_RID5824', 'RID9206_RID5825', 'RID28571', 'RID28571_RID5824', 'RID28571_RID5825', 'RID7540', 'RID7576', 'RID9555', 'RID9555_RID5824', 'RID9555_RID5825', 'RID9557', 'RID9557_RID5824', 'RID9557_RID5825', 'RID9569', 'RID9569_RID5824', 'RID9569_RID5825', 'RID9561', 'RID9561_RID5824', 'RID9561_RID5825', 'RID9554', 'RID9554_RID5824', 'RID9554_RID5825', 'RID28600', 'RID648', 'RID36392', 'RID36393', 'RID650', 'RID650_RID5824', 'RID650_RID5825', 'RID651', 'RID651_RID5824', 'RID651_RID5825', 'RID656', 'RID36434', 'RID36435', 'RID649', 'RID652', 'RID652_RID5824', 'RID652_RID5825', 'RID674', 'RID674_RID5824', 'RID674_RID5825', 'RID655', 'RID655_RID5824', 'RID655_RID5825', 'RID661', 'RID36418', 'RID36419', 'RID665', 'RID36443', 'RID36444', 'RID666', 'RID666_RID5824', 'RID666_RID5825', 'RID671', 'RID671_RID5824', 'RID671_RID5825', 'RID680', 'RID680_RID5824', 'RID680_RID5825', 'RID682', 'RID682_RID5824', 'RID682_RID5825', 'RID668', 'RID668_RID5824', 'RID668_RID5825', 'RID670', 'RID670_RID5824', 'RID670_RID5825', 'RID669', 'RID669_RID5824', 'RID669_RID5825', 'RID673', 'RID36459', 'RID36460', 'RID36456', 'RID36457', 'RID36458', 'RID643', 'RID36541', 'RID36542', 'RID647', 'RID36600', 'RID36601', 'RID36488', 'RID36489', 'RID36490', 'RID676', 'RID676_RID5824', 'RID676_RID5825', 'RID36494', 'RID36495', 'RID36496', 'RID36497', 'RID36498', 'RID36499', 'RID35916', 'RID36500', 'RID36501', 'RID677', 'RID36502', 'RID36503', 'RID658', 'RID658_RID5824', 'RID658_RID5825', 'RID659', 'RID659_RID5824', 'RID659_RID5825', 'RID731', 'RID731_RID5824', 'RID731_RID5825', 'RID642', 'RID36504', 'RID36505', 'RID804', 'RID44716', 'RID44717', 'RID805', 'RID805_RID5824', 'RID805_RID5825', 'RID807', 'RID807_RID5824', 'RID807_RID5825', 'RID818', 'RID818_RID5824', 'RID818_RID5825', 'RID813', 'RID813_RID5824', 'RID813_RID5825', 'RID814', 'RID814_RID5824', 'RID814_RID5825', 'RID820', 'RID44757', 'RID44758', 'RID44723', 'RID44724', 'RID44725', 'RID810', 'RID810_RID5824', 'RID810_RID5825', 'RID811', 'RID811_RID5824', 'RID811_RID5825', 'RID812', 'RID44726', 'RID44727', 'RID679', 'RID36461', 'RID36462', 'RID711', 'RID711_RID5824', 'RID711_RID5825', 'RID44762', 'RID44763', 'RID44764', 'RID44765', 'RID44766', 'RID819', 'RID44755', 'RID44756', 'RID821', 'RID44750', 'RID44751', 'RID607', 'RID36254', 'RID36255', 'RID791', 'RID803', 'RID44670', 'RID44671', 'RID794', 'RID44689', 'RID44690', 'RID779', 'RID44640', 'RID44641', 'RID781', 'RID781_RID5824', 'RID781_RID5825', 'RID783', 'RID783_RID5824', 'RID783_RID5825', 'RID784', 'RID784_RID5824', 'RID784_RID5825', 'RID786', 'RID786_RID5824', 'RID786_RID5825', 'RID787', 'RID787_RID5824', 'RID787_RID5825', 'RID795', 'RID44691', 'RID44692', 'RID44660', 'RID44661', 'RID44662', 'RID793', 'RID793_RID5824', 'RID793_RID5825', 'RID789', 'RID44638', 'RID44639', 'RID696', 'RID696_RID5824', 'RID696_RID5825', 'RID701', 'RID701_RID5824', 'RID701_RID5825', 'RID734', 'RID734_RID5824', 'RID734_RID5825', 'RID36453', 'RID36454', 'RID36455', 'RID34446', 'RID34446_RID5824', 'RID34446_RID5825', 'RID36152', 'RID36152_RID5824', 'RID36152_RID5825', 'RID1124', 'RID36102', 'RID36103', 'RID36164', 'RID36165', 'RID36166', 'RID36147', 'RID36148', 'RID36149', 'RID36150', 'RID36151', 'RID36153', 'RID36154', 'RID36155', 'RID36161', 'RID36162', 'RID36163', 'RID1142', 'RID36190', 'RID36191', 'RID1132', 'RID36188', 'RID36189', 'RID1152', 'RID36159', 'RID36160', 'RID36674', 'RID36675', 'RID36676', 'RID36677', 'RID36678', 'RID36679', 'RID1127', 'RID1131', 'RID1129', 'RID1122', 'RID1122_RID5824', 'RID1122_RID5825', 'RID1092', 'RID1092_RID5824', 'RID1092_RID5825', 'RID1094', 'RID1094_RID5824', 'RID1094_RID5825', 'RID1119', 'RID1119_RID5824', 'RID1119_RID5825', 'RID1121', 'RID1121_RID5824', 'RID1121_RID5825', 'RID1093', 'RID1093_RID5824', 'RID1093_RID5825', 'RID1126', 'RID39320', 'RID39321', 'RID1095', 'RID36055', 'RID36056', 'RID1117', 'RID36100', 'RID36101', 'RID9912', 'RID9912_RID5824', 'RID9912_RID5825', 'RID9908', 'RID9908_RID5824', 'RID9908_RID5825', 'RID9911', 'RID9911_RID5824', 'RID9911_RID5825', 'RID9905', 'RID9905_RID5824', 'RID9905_RID5825', 'RID9887', 'RID9887_RID5824', 'RID9887_RID5825', 'RID9875', 'RID9875_RID5824', 'RID9875_RID5825', 'RID9869', 'RID9869_RID5824', 'RID9869_RID5825', 'RID9854', 'RID9854_RID5824', 'RID9854_RID5825', 'RID9863', 'RID9863_RID5824', 'RID9863_RID5825', 'RID9864', 'RID9864_RID5824', 'RID9864_RID5825', 'RID9860', 'RID9860_RID5824', 'RID9860_RID5825', 'RID9867', 'RID9867_RID5824', 'RID9867_RID5825', 'RID9853', 'RID9853_RID5824', 'RID9853_RID5825', 'RID9866', 'RID9866_RID5824', 'RID9866_RID5825', 'RID9857', 'RID9862', 'RID9862_RID5824', 'RID9862_RID5825', 'RID9881', 'RID9881_RID5824', 'RID9881_RID5825', 'RID9880', 'RID9880_RID5824', 'RID9880_RID5825', 'RID9873', 'RID9855', 'RID9855_RID5824', 'RID9855_RID5825', 'RID9706', 'RID9706_RID5824', 'RID9706_RID5825', 'RID9701', 'RID9701_RID5824', 'RID9701_RID5825', 'RID9702', 'RID9702_RID5824', 'RID9702_RID5825', 'RID9703', 'RID9703_RID5824', 'RID9703_RID5825', 'RID9704', 'RID9704_RID5824', 'RID9704_RID5825', 'RID9709', 'RID9709_RID5824', 'RID9709_RID5825', 'RID9707', 'RID9707_RID5824', 'RID9707_RID5825', 'RID9718', 'RID9718_RID5824', 'RID9718_RID5825', 'RID9900', 'RID9900_RID5824', 'RID9900_RID5825', 'RID9901', 'RID9901_RID5824', 'RID9901_RID5825', 'RID9902', 'RID9902_RID5824', 'RID9902_RID5825', 'RID9894', 'RID9894_RID5824', 'RID9894_RID5825', 'RID9895', 'RID9895_RID5824', 'RID9895_RID5825', 'RID9896', 'RID9896_RID5824', 'RID9896_RID5825', 'RID9897', 'RID9897_RID5824', 'RID9897_RID5825', 'RID9898', 'RID9898_RID5824', 'RID9898_RID5825', 'RID9899', 'RID9899_RID5824', 'RID9899_RID5825', 'RID9903', 'RID9903_RID5824', 'RID9903_RID5825', 'RID9710', 'RID9710_RID5824', 'RID9710_RID5825', 'RID9750', 'RID9750_RID5824', 'RID9750_RID5825', 'RID9751', 'RID9751_RID5824', 'RID9751_RID5825', 'RID39003', 'RID39004', 'RID39005', 'RID9968', 'RID39006', 'RID39007', 'RID28744', 'RID38998', 'RID38999', 'RID9989', 'RID9989_RID5824', 'RID9989_RID5825', 'RID9196', 'RID28731', 'RID9919', 'RID9805', 'RID9806', 'RID9807', 'RID10148', 'RID9814', 'RID28599', 'RID9590', 'RID9590_RID5824', 'RID9590_RID5825', 'RID9591', 'RID9591_RID5824', 'RID9591_RID5825', 'RID9779', 'RID9779_RID5824', 'RID9779_RID5825', 'RID9361', 'RID9361_RID5824', 'RID9361_RID5825', 'RID9470', 'RID9199', 'RID9202', 'RID9458', 'RID9207', 'RID9330', 'RID9281', 'RID9332', 'RID9471', 'RID9280', 'RID9236', 'RID9082', 'RID28576', 'RID9083', 'RID9110', 'RID9115', 'RID9578', 'RID9364', 'RID9415', 'RID9286', 'RID9335', 'RID9501', 'RID9262', 'RID9246', 'RID9247', 'RID9248', 'RID9252', 'RID9261', 'RID9271', 'RID9320', 'RID9298', 'RID7091', 'RID7527', 'RID9510', 'RID9316', 'RID6434', 'RID6389_RID6434', 'RID6381_RID6434', 'RID6437', 'RID6677', 'RID6768', 'RID6728', 'RID6781', 'RID6770', 'RID34068', 'RID34069', 'RID6681', 'RID14141', 'RID14142', 'RID6815', 'RID7196', 'RID27708', 'RID27709', 'RID7449', 'RID23087', 'RID23088', 'RID726', 'RID726_RID5824', 'RID726_RID5825', 'RID718', 'RID15522', 'RID15527', 'RID9940', 'RID9942', 'RID9970', 'RID7094', 'RID6641', 'RID22696', 'RID22697', 'RID22698', 'RID12003', 'RID22694', 'RID22695', 'RID6523', 'RID26776', 'RID26777', 'RID49873', 'RID6440', 'RID13862', 'RID13863', 'RID6493', 'RID13866', 'RID13867', 'RID6476', 'RID13864', 'RID13865', 'RID6502', 'RID13868', 'RID13869', 'RID6537', 'RID9279', 'RID9106', 'RID5825_RID9279_RID5827_RID9127', 'RID5825_RID9279_RID39121_RID9127', 'RID5825_RID9279_RID9126', 'RID5825_RID9279_RID5996_RID9129', 'RID5825_RID9279_RID5998_RID9129', 'RID5825_RID9279_RID5996_RID9128', 'RID5825_RID9279_RID5998_RID9128', 'RID5825_RID9279_RID6000_RID9128', 'RID5824_RID9279_RID5827_RID9127', 'RID5824_RID9279_RID39121_RID9127', 'RID5824_RID9279_RID9126', 'RID5824_RID9279_RID5996_RID9129', 'RID5824_RID9279_RID5998_RID9129', 'RID5824_RID9279_RID5996_RID9128', 'RID5824_RID9279_RID5998_RID9128', 'RID5824_RID9279_RID6000_RID9128', 'RID5825_RID9106_RID5827_RID9127', 'RID5825_RID9106_RID39121_RID9127', 'RID5825_RID9106_RID9126', 'RID5825_RID9106_RID5996_RID9129', 'RID5825_RID9106_RID5998_RID9129', 'RID5825_RID9106_RID5996_RID9128', 'RID5825_RID9106_RID5998_RID9128', 'RID5825_RID9106_RID6000_RID9128', 'RID5824_RID9106_RID5827_RID9127', 'RID5824_RID9106_RID39121_RID9127', 'RID5824_RID9106_RID9126', 'RID5824_RID9106_RID5996_RID9129', 'RID5824_RID9106_RID5998_RID9129', 'RID5824_RID9106_RID5996_RID9128', 'RID5824_RID9106_RID5998_RID9128', 'RID5824_RID9106_RID6000_RID9128', 'RID9131_RID5825_RID9279_RID5827_RID9127', 'RID9131_RID5825_RID9279_RID39121_RID9127', 'RID9131_RID5825_RID9279_RID9126', 'RID9131_RID5825_RID9279_RID5996_RID9128', 'RID9131_RID5825_RID9279_RID5998_RID9128', 'RID9131_RID5824_RID9279_RID5827_RID9127', 'RID9131_RID5824_RID9279_RID39121_RID9127', 'RID9131_RID5824_RID9279_RID9126', 'RID9131_RID5824_RID9279_RID5996_RID9128', 'RID9131_RID5824_RID9279_RID5998_RID9128', 'RID9131_RID5825_RID9106_RID5827_RID9127', 'RID9131_RID5825_RID9106_RID39121_RID9127', 'RID9131_RID5825_RID9106_RID9126', 'RID9131_RID5825_RID9106_RID5996_RID9128', 'RID9131_RID5825_RID9106_RID5998_RID9128', 'RID9131_RID5824_RID9106_RID5827_RID9127', 'RID9131_RID5824_RID9106_RID39121_RID9127', 'RID9131_RID5824_RID9106_RID9126', 'RID9131_RID5824_RID9106_RID5996_RID9128', 'RID9131_RID5824_RID9106_RID5998_RID9128', 'RID6456', 'RID6457', 'RID6458', 'RID6459', 'RID6482', 'RID6545', 'RID21019', 'RID21020', 'RID6576', 'RID6566', 'RID6578', 'RID13495', 'RID13496', 'RID6911', 'RID6914', 'RID6915', 'RID6916', 'RID6917', 'RID6918', 'RID36630', 'RID36631', 'RID6919', 'RID38674', 'RID6639', 'RID6661', 'RID6665', 'RID6674', 'RID7124', 'RID13788', 'RID13789', 'RID7125', 'RID13806', 'RID13807', 'RID7126', 'RID13798', 'RID13799', 'RID7127', 'RID13800', 'RID13801', 'RID7128', 'RID13802', 'RID13803', 'RID7137', 'RID7171', 'RID7174', 'RID7178', 'RID7147', 'RID7361', 'RID17726', 'RID7099', 'RID12024', 'RID6897', 'RID18077', 'RID18078', 'RID6895', 'RID18079', 'RID18080', 'RID6893', 'RID18081', 'RID18082', 'RID13857', 'RID13858', 'RID13859', 'RID6941', 'RID17020', 'RID17021', 'RID6942', 'RID17023', 'RID17024', 'RID17028', 'RID17029', 'RID17030', 'RID17025', 'RID17026', 'RID17027', 'RID6908', 'RID17040', 'RID17041', 'RID6549', 'RID20917', 'RID20918', 'RID6551', 'RID21014', 'RID21015', 'RID21016', 'RID21017', 'RID21018', 'RID9558', 'RID6391', 'RID6391_RID5824', 'RID6391_RID5825', 'RID6392', 'RID6392_RID5824', 'RID6392_RID5825', 'RID6393', 'RID6393_RID5824', 'RID6393_RID5825', 'RID6394', 'RID6394_RID5824', 'RID6394_RID5825', 'RID321', 'RID321_RID5824', 'RID321_RID5825'], acknowledged=True)\n"
     ]
    }
   ],
   "source": [
    "pprint(await result)"
   ]
  },
  {
   "cell_type": "code",
   "execution_count": 117,
   "metadata": {},
   "outputs": [
    {
     "name": "stdout",
     "output_type": "stream",
     "text": [
      "{'_id': 'RID10109_RID5825',\n",
      " 'containedByRef': {'display': 'right middle ear', 'id': 'RID13303_RID5825'},\n",
      " 'description': 'right middle ear cavity',\n",
      " 'leftRef': {'display': 'left middle ear cavity', 'id': 'RID10109_RID5824'},\n",
      " 'region': 'Head',\n",
      " 'snomedDisplay': 'Structure of tympanic cavity of right ear',\n",
      " 'snomedId': '772137004',\n",
      " 'unsidedRef': {'display': 'middle ear cavity', 'id': 'RID10109'}}\n"
     ]
    }
   ],
   "source": [
    "location_data = await anatomic_locations_collection.find_one({\"_id\": \"RID10109_RID5825\"})\n",
    "pprint(location_data)"
   ]
  },
  {
   "cell_type": "code",
   "execution_count": 118,
   "metadata": {},
   "outputs": [
    {
     "name": "stdout",
     "output_type": "stream",
     "text": [
      "{\n",
      "  \"_id\": \"RID10109_RID5825\",\n",
      "  \"snomedId\": \"772137004\",\n",
      "  \"snomedDisplay\": \"Structure of tympanic cavity of right ear\",\n",
      "  \"description\": \"right middle ear cavity\",\n",
      "  \"region\": \"Head\",\n",
      "  \"containedByRef\": {\n",
      "    \"id\": \"RID13303_RID5825\",\n",
      "    \"display\": \"right middle ear\"\n",
      "  },\n",
      "  \"leftRef\": {\n",
      "    \"id\": \"RID10109_RID5824\",\n",
      "    \"display\": \"left middle ear cavity\"\n",
      "  },\n",
      "  \"unsidedRef\": {\n",
      "    \"id\": \"RID10109\",\n",
      "    \"display\": \"middle ear cavity\"\n",
      "  }\n",
      "}\n"
     ]
    }
   ],
   "source": [
    "location = AnatomicLocation(**location_data)\n",
    "print(location.model_dump_json(by_alias=True, indent=2, exclude_none=True))"
   ]
  },
  {
   "cell_type": "code",
   "execution_count": 119,
   "metadata": {},
   "outputs": [
    {
     "name": "stdout",
     "output_type": "stream",
     "text": [
      "AnatomicLocation(id='RID10109_RID5825', acr_common_id=None, snomed_id='772137004', snomed_display='Structure of tympanic cavity of right ear', description='right middle ear cavity', region='Head', contained_by_ref=AnatomicLocationRef(id='RID13303_RID5825', display='right middle ear'), contains_refs=None, synonyms=None, part_of_ref=None, has_parts_refs=None, left_ref=AnatomicLocationRef(id='RID10109_RID5824', display='left middle ear cavity'), right_ref=None, unsided_ref=AnatomicLocationRef(id='RID10109', display='middle ear cavity'), sex_specific=None, codes=None)\n"
     ]
    }
   ],
   "source": [
    "pprint(location)"
   ]
  },
  {
   "cell_type": "markdown",
   "metadata": {},
   "source": [
    "### Adding Definitions\n"
   ]
  },
  {
   "cell_type": "code",
   "execution_count": null,
   "metadata": {},
   "outputs": [
    {
     "data": {
      "text/plain": [
       "46761"
      ]
     },
     "metadata": {},
     "output_type": "display_data"
    }
   ],
   "source": [
    "from openimagingdatamodel.ontology_tools.radlex_concept_repo import RadLexConceptRepo\n",
    "\n",
    "radlex_collection = db[\"radlex\"]\n",
    "radlex_repo = RadLexConceptRepo(radlex_collection)\n",
    "count = radlex_repo.get_count()\n",
    "count"
   ]
  },
  {
   "cell_type": "code",
   "execution_count": null,
   "metadata": {},
   "outputs": [
    {
     "data": {
      "text/plain": [
       "2901"
      ]
     },
     "metadata": {},
     "output_type": "display_data"
    }
   ],
   "source": [
    "# Get all the IDs in the anatomic locations collection\n",
    "anatomic_location_ids = [location[\"_id\"] for location in collection.find({})]\n",
    "len(anatomic_location_ids)"
   ]
  },
  {
   "cell_type": "code",
   "execution_count": null,
   "metadata": {},
   "outputs": [],
   "source": [
    "# Get all the RadLex concepts with IDs in the list of anatomic_location_ids and have a definition field set\n",
    "radlex_concepts = radlex_collection.find(\n",
    "    {\"_id\": {\"$in\": anatomic_location_ids}, \"definition\": {\"$exists\": True}}, {\"_id\": 1, \"definition\": 1}\n",
    ")\n",
    "definitions = {concept[\"_id\"]: concept[\"definition\"] for concept in radlex_concepts}"
   ]
  },
  {
   "cell_type": "code",
   "execution_count": null,
   "metadata": {},
   "outputs": [],
   "source": [
    "from pymongo import UpdateOne\n",
    "\n",
    "# Update the anatomic locations collection with the definitions\n",
    "updates = []\n",
    "for location_id, definition in definitions.items():\n",
    "    updates.append(UpdateOne({\"_id\": location_id}, {\"$set\": {\"definition\": definition}}))\n",
    "\n",
    "result = collection.bulk_write(updates)\n",
    "result.modified_count"
   ]
  },
  {
   "cell_type": "markdown",
   "metadata": {},
   "source": [
    "### Create ancestorRefs\n"
   ]
  }
 ],
 "metadata": {
  "kernelspec": {
   "display_name": ".venv",
   "language": "python",
   "name": "python3"
  },
  "language_info": {
   "codemirror_mode": {
    "name": "ipython",
    "version": 3
   },
   "file_extension": ".py",
   "mimetype": "text/x-python",
   "name": "python",
   "nbconvert_exporter": "python",
   "pygments_lexer": "ipython3",
   "version": "3.11.9"
  }
 },
 "nbformat": 4,
 "nbformat_minor": 2
}
