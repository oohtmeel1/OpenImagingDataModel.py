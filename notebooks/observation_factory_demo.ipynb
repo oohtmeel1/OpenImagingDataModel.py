{
 "cells": [
  {
   "cell_type": "markdown",
   "metadata": {},
   "source": [
    "## Create from Scratch\n"
   ]
  },
  {
   "cell_type": "code",
   "execution_count": null,
   "metadata": {},
   "outputs": [],
   "source": [
    "from openimagingdatamodel.cde_set.finding_model import FindingModel\n",
    "from openimagingdatamodel.cde_set.set_factory import SetFactory"
   ]
  },
  {
   "cell_type": "code",
   "execution_count": 2,
   "metadata": {
    "metadata": {}
   },
   "outputs": [],
   "source": [
    "pulmonary_nodule_finding_model = {\n",
    "    \"finding_name\": \"Pulmonary Nodule\",\n",
    "    \"description\": \"Pulmonary Nodule\",\n",
    "    \"attributes\": [\n",
    "        {\n",
    "            \"name\": \"Composition\",\n",
    "            \"type\": \"choice\",\n",
    "            \"values\": [\n",
    "                \"solid\",\n",
    "                \"ground glass\",\n",
    "                \"part-solid\",\n",
    "                \"fat density\",\n",
    "                \"calcification\",\n",
    "                \"cavitation\",\n",
    "                \"cystic lucencies\",\n",
    "                \"air bronchograms\",\n",
    "                \"indeterminate\",\n",
    "                \"unknown\",\n",
    "            ],\n",
    "        },\n",
    "        {\n",
    "            \"name\": \"Size\",\n",
    "            \"description\": \"Average diameter in mm\",\n",
    "            \"type\": \"numeric\",\n",
    "            \"unit\": \"mm\",\n",
    "            \"minimum\": 2,\n",
    "        },\n",
    "        {\n",
    "            \"name\": \"Solid component size\",\n",
    "            \"type\": \"numeric\",\n",
    "            \"unit\": \"mm\",\n",
    "            \"minimum\": 2,\n",
    "        },\n",
    "        {\n",
    "            \"name\": \"Location\",\n",
    "            \"type\": \"choice\",\n",
    "            \"values\": [\n",
    "                \"indeterminate\",\n",
    "                \"left lung\",\n",
    "                \"left upper lobe\",\n",
    "                \"lingula\",\n",
    "                \"left lower lobe\",\n",
    "                \"right lung\",\n",
    "                \"right upper lobe\",\n",
    "                \"middle lobe\",\n",
    "                \"right lower lobe\",\n",
    "                \"unknown\",\n",
    "            ],\n",
    "        },\n",
    "        {\n",
    "            \"name\": \"Morphology\",\n",
    "            \"type\": \"choice\",\n",
    "            \"values\": [\n",
    "                \"smooth\",\n",
    "                \"lobulated\",\n",
    "                \"Ill-defined\",\n",
    "                \"spiculated\",\n",
    "                \"perifissural\",\n",
    "                \"indeterminate\",\n",
    "                \"unknown\",\n",
    "            ],\n",
    "        },\n",
    "        {\n",
    "            \"name\": \"Plurality\",\n",
    "            \"type\": \"choice\",\n",
    "            \"values\": [\n",
    "                \"single\",\n",
    "                \"multiple\",\n",
    "            ],\n",
    "        },\n",
    "        {\n",
    "            \"name\": \"Microcystic component\",\n",
    "            \"type\": \"choice\",\n",
    "            \"values\": [\n",
    "                \"present\",\n",
    "                \"absent\",\n",
    "                \"indeterminate\",\n",
    "                \"unknown\",\n",
    "            ],\n",
    "        },\n",
    "        {\n",
    "            \"name\": \"Volume\",\n",
    "            \"type\": \"numeric\",\n",
    "            \"unit\": \"mm3\",\n",
    "            \"minimum\": 1,\n",
    "            \"maximum\": 150_000,\n",
    "        },\n",
    "        {\n",
    "            \"name\": \"Change from priors\",\n",
    "            \"type\": \"choice\",\n",
    "            \"values\": [\n",
    "                \"no priors\",\n",
    "                \"unchanged for less than 6 months\",\n",
    "                \"unchanged for 6-12 months\",\n",
    "                \"unchanged for 12-24 months\",\n",
    "                \"unchanged for more than 24 months\",\n",
    "                \"larger since prior\",\n",
    "                \"smaller since prior\",\n",
    "            ],\n",
    "        },\n",
    "        {\n",
    "            \"name\": \"Suspicious appearance\",\n",
    "            \"type\": \"choice\",\n",
    "            \"values\": [\n",
    "                \"yes\",\n",
    "                \"no\",\n",
    "                \"indeterminate\",\n",
    "            ],\n",
    "        },\n",
    "        {\n",
    "            \"name\": \"Min density\",\n",
    "            \"description\": \"Minimum - 1000, max +1000\",\n",
    "            \"type\": \"numeric\",\n",
    "            \"unit\": \"HU\",\n",
    "            \"minimum\": -1000,\n",
    "            \"maximum\": 1000,\n",
    "        },\n",
    "        {\n",
    "            \"name\": \"Max density\",\n",
    "            \"description\": \"Minimum - 1000, max +1000\",\n",
    "            \"type\": \"numeric\",\n",
    "            \"unit\": \"HU\",\n",
    "            \"minimum\": -1000,\n",
    "            \"maximum\": 1000,\n",
    "        },\n",
    "        {\n",
    "            \"name\": \"Presence\",\n",
    "            \"type\": \"choice\",\n",
    "            \"values\": [\n",
    "                \"absent\",\n",
    "                \"present\",\n",
    "                \"unknown\",\n",
    "                \"indeterminate\",\n",
    "            ],\n",
    "        },\n",
    "    ],\n",
    "}\n",
    "for attribute in pulmonary_nodule_finding_model[\"attributes\"]:\n",
    "    if attribute[\"type\"] == \"numeric\":\n",
    "        continue\n",
    "    new_values = [{\"name\": val} for val in attribute[\"values\"]]\n",
    "    attribute[\"values\"] = new_values\n",
    "\n",
    "pulmonary_nodule_finding_model = FindingModel.model_validate(pulmonary_nodule_finding_model)"
   ]
  },
  {
   "cell_type": "code",
   "execution_count": 3,
   "metadata": {
    "metadata": {}
   },
   "outputs": [],
   "source": [
    "pulmonary_nodule_set = SetFactory.create_set_from_finding_model(pulmonary_nodule_finding_model)"
   ]
  },
  {
   "cell_type": "code",
   "execution_count": 4,
   "metadata": {
    "metadata": {}
   },
   "outputs": [],
   "source": [
    "cde_set_id_mapping = {\n",
    "    \"set_id\": \"RDES195\",\n",
    "    \"element_ids\": {\n",
    "        \"Composition\": \"RDE1301\",\n",
    "        \"Size\": \"RDE1302\",\n",
    "        \"Solid component size\": \"RDE1303\",\n",
    "        \"Location\": \"RDE1304\",\n",
    "        \"Morphology\": \"RDE1305\",\n",
    "        \"Plurality\": \"RDE1306\",\n",
    "        \"Microcystic component\": \"RDE1307\",\n",
    "        \"Volume\": \"RDE1705\",\n",
    "        \"Change from priors\": \"RDE1706\",\n",
    "        \"Suspicious appearance\": \"RDE1707\",\n",
    "        \"Min density\": \"RDE1708\",\n",
    "        \"Max density\": \"RDE1709\",\n",
    "        \"Presence\": \"RDE1717\",\n",
    "    },\n",
    "}\n",
    "SetFactory.update_set_ids_from_mapping(pulmonary_nodule_set, cde_set_id_mapping)"
   ]
  },
  {
   "cell_type": "markdown",
   "metadata": {},
   "source": [
    "### Write to Files\n"
   ]
  },
  {
   "cell_type": "code",
   "execution_count": 6,
   "metadata": {
    "metadata": {}
   },
   "outputs": [],
   "source": [
    "# Write the finding model to file \"pulmonary_nodule_finding_model.json\"\n",
    "with open(\"pulmonary_nodule_finding_model.json\", \"w\") as f:\n",
    "    f.write(pulmonary_nodule_finding_model.model_dump_json(indent=2, by_alias=True, exclude_none=True))"
   ]
  },
  {
   "cell_type": "code",
   "execution_count": 9,
   "metadata": {
    "metadata": {}
   },
   "outputs": [],
   "source": [
    "import json\n",
    "\n",
    "with open(\"pulmonary_nodule_id_mapping.json\", \"w\") as f:\n",
    "    json.dump(cde_set_id_mapping, f, indent=2)"
   ]
  },
  {
   "cell_type": "code",
   "execution_count": 6,
   "metadata": {
    "metadata": {}
   },
   "outputs": [],
   "source": [
    "# write pulmonary nodule set JSON to file \"RDES195_pulmonary_nodule.cde.json\"\n",
    "with open(\"RDES195_pulmonary_nodule.cde.json\", \"w\") as f:\n",
    "    f.write(pulmonary_nodule_set.model_dump_json(indent=2, by_alias=True, exclude_none=True))"
   ]
  },
  {
   "cell_type": "markdown",
   "metadata": {
    "metadata": {}
   },
   "source": [
    "## Create Observation using Set\n"
   ]
  },
  {
   "cell_type": "code",
   "execution_count": 9,
   "metadata": {
    "metadata": {}
   },
   "outputs": [],
   "source": [
    "from openimagingdatamodel.cde_set.set import CDESet\n",
    "from openimagingdatamodel.observation.observation_factory import ObservationFactory"
   ]
  },
  {
   "cell_type": "code",
   "execution_count": 10,
   "metadata": {
    "metadata": {}
   },
   "outputs": [],
   "source": [
    "with open(\"RDES195_pulmonary_nodule.cde.json\", \"r\") as f:\n",
    "    pulmonary_nodule_set = CDESet.model_validate_json(f.read())"
   ]
  },
  {
   "cell_type": "code",
   "execution_count": 11,
   "metadata": {
    "metadata": {}
   },
   "outputs": [],
   "source": [
    "observation = ObservationFactory.create_observation(pulmonary_nodule_set)"
   ]
  },
  {
   "cell_type": "code",
   "execution_count": 4,
   "metadata": {
    "metadata": {}
   },
   "outputs": [
    {
     "name": "stdout",
     "output_type": "stream",
     "text": [
      "{\n",
      "  \"resourceType\": \"Observation\",\n",
      "  \"id\": \"pulmonary_nodule_HKed4TuG3N\",\n",
      "  \"identifier\": [\n",
      "    {\n",
      "      \"system\": \"urn:dicom:uid\",\n",
      "      \"value\": \"urn:oid:2.25.146479325246256051400405536510397218276\"\n",
      "    }\n",
      "  ],\n",
      "  \"code\": {\n",
      "    \"coding\": [\n",
      "      {\n",
      "        \"system\": \"https://www.radelement.org\",\n",
      "        \"code\": \"RDES195\",\n",
      "        \"display\": \"Pulmonary Nodule\"\n",
      "      }\n",
      "    ]\n",
      "  },\n",
      "  \"status\": \"preliminary\",\n",
      "  \"component\": []\n",
      "}\n"
     ]
    }
   ],
   "source": [
    "print(observation.model_dump_json(indent=2, by_alias=True, exclude_none=True))"
   ]
  },
  {
   "cell_type": "code",
   "execution_count": 15,
   "metadata": {
    "metadata": {}
   },
   "outputs": [
    {
     "ename": "SyntaxError",
     "evalue": "unmatched ')' (1983810696.py, line 1)",
     "output_type": "error",
     "traceback": [
      "\u001b[0;36m  Cell \u001b[0;32mIn[15], line 1\u001b[0;36m\u001b[0m\n\u001b[0;31m    pulmonary_nodule_set.get_element(\"Composition\"))\u001b[0m\n\u001b[0m                                                   ^\u001b[0m\n\u001b[0;31mSyntaxError\u001b[0m\u001b[0;31m:\u001b[0m unmatched ')'\n"
     ]
    }
   ],
   "source": [
    "pulmonary_nodule_set.get_element(\"Composition\"))"
   ]
  },
  {
   "cell_type": "code",
   "execution_count": 7,
   "metadata": {
    "metadata": {}
   },
   "outputs": [
    {
     "ename": "TypeError",
     "evalue": "unhashable type: 'CDESet'",
     "output_type": "error",
     "traceback": [
      "\u001b[0;31m---------------------------------------------------------------------------\u001b[0m",
      "\u001b[0;31mTypeError\u001b[0m                                 Traceback (most recent call last)",
      "Cell \u001b[0;32mIn[7], line 1\u001b[0m\n\u001b[0;32m----> 1\u001b[0m \u001b[43mpulmonary_nodule_set\u001b[49m\u001b[38;5;241;43m.\u001b[39;49m\u001b[43mget_element\u001b[49m\u001b[43m(\u001b[49m\u001b[38;5;124;43m\"\u001b[39;49m\u001b[38;5;124;43mPresence\u001b[39;49m\u001b[38;5;124;43m\"\u001b[39;49m\u001b[43m)\u001b[49m\n",
      "\u001b[0;31mTypeError\u001b[0m: unhashable type: 'CDESet'"
     ]
    }
   ],
   "source": [
    "pulmonary_nodule_set.get_element(\"Presence\")"
   ]
  },
  {
   "cell_type": "code",
   "execution_count": null,
   "metadata": {},
   "outputs": [],
   "source": []
  }
 ],
 "metadata": {
  "kernelspec": {
   "display_name": ".venv",
   "language": "python",
   "name": "python3"
  },
  "language_info": {
   "codemirror_mode": {
    "name": "ipython",
    "version": 3
   },
   "file_extension": ".py",
   "mimetype": "text/x-python",
   "name": "python",
   "nbconvert_exporter": "python",
   "pygments_lexer": "ipython3",
   "version": "3.11.8"
  }
 },
 "nbformat": 4,
 "nbformat_minor": 2
}
