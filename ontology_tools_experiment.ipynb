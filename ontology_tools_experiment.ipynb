{
 "cells": [
  {
   "cell_type": "code",
   "execution_count": 1,
   "metadata": {},
   "outputs": [
    {
     "ename": "ModuleNotFoundError",
     "evalue": "No module named 'openimagingdatamodel.radlex_importer'",
     "output_type": "error",
     "traceback": [
      "\u001b[1;31m---------------------------------------------------------------------------\u001b[0m",
      "\u001b[1;31mModuleNotFoundError\u001b[0m                       Traceback (most recent call last)",
      "Cell \u001b[1;32mIn[1], line 2\u001b[0m\n\u001b[0;32m      1\u001b[0m \u001b[38;5;66;03m# import local modules\u001b[39;00m\n\u001b[1;32m----> 2\u001b[0m \u001b[38;5;28;01mfrom\u001b[39;00m \u001b[38;5;21;01mopenimagingdatamodel\u001b[39;00m\u001b[38;5;21;01m.\u001b[39;00m\u001b[38;5;21;01mradlex_importer\u001b[39;00m \u001b[38;5;28;01mimport\u001b[39;00m transform_radlex\n\u001b[0;32m      5\u001b[0m \u001b[38;5;66;03m# import MongoDB modules\u001b[39;00m\n\u001b[0;32m      6\u001b[0m \u001b[38;5;28;01mimport\u001b[39;00m \u001b[38;5;21;01mmotor\u001b[39;00m\u001b[38;5;21;01m.\u001b[39;00m\u001b[38;5;21;01mmotor_asyncio\u001b[39;00m\n",
      "\u001b[1;31mModuleNotFoundError\u001b[0m: No module named 'openimagingdatamodel.radlex_importer'"
     ]
    }
   ],
   "source": [
    "# import local modules\n",
    "from openimagingdatamodel.radlex_importer import transform_radlex\n",
    "\n",
    "\n",
    "# import MongoDB modules\n",
    "import motor.motor_asyncio\n",
    "from dotenv import dotenv_values"
   ]
  },
  {
   "cell_type": "code",
   "execution_count": 7,
   "metadata": {},
   "outputs": [
    {
     "name": "stdout",
     "output_type": "stream",
     "text": [
      "Count of documents in the collection: 46761\n"
     ]
    }
   ],
   "source": [
    "# establish connection to MongoDB\n",
    "config = dotenv_values(\".env\")\n",
    "client = motor.motor_asyncio.AsyncIOMotorClient(config[\"ATLAS_DSN\"])\n",
    "db = client[\"ontologies\"]\n",
    "collection = db[\"RadLex\"]\n",
    "# Get the count of documents in the collection to confirm that the data was loaded\n",
    "count = await collection.count_documents({})\n",
    "print(f\"Count of documents in the collection: {count}\")"
   ]
  },
  {
   "cell_type": "code",
   "execution_count": 8,
   "metadata": {},
   "outputs": [],
   "source": [
    "# Access the ontologies database and \"RadLex\" collection\n",
    "doc = await collection.find_one()"
   ]
  },
  {
   "cell_type": "code",
   "execution_count": 9,
   "metadata": {},
   "outputs": [
    {
     "name": "stdout",
     "output_type": "stream",
     "text": [
      "{'_id': ObjectId('65f84ed1f80fad5323c79c1f'), 'Class ID': 'http://radlex.org/RID/RID35591', 'Preferred Label': 'string-of-pearls sign of bowel', 'Definitions': 'Oblique or horizontal row of air bubbles visible on abdominal radiograph; almost always indicates small bowel obstruction; air is trapped between valvulae conniventes along the superior wall of the intestine.', 'Obsolete': False, 'Parents': 'http://radlex.org/RID/RID29023', 'http://data': {'bioontology': {'org/metadata/prefixIRI': 'RID35591'}}, 'http://radlex': {'org/RID/Anatomical_Site': 'http://radlex.org/RID/RID132', 'org/RID/Comment': 'http://radiology.rsna.org/cgi/content/full/214/1/157', 'org/RID/Definition': 'Oblique or horizontal row of air bubbles visible on abdominal radiograph; almost always indicates small bowel obstruction; air is trapped between valvulae conniventes along the superior wall of the intestine.', 'org/RID/May_Be_Caused_By': 'http://radlex.org/RID/RID4962', 'org/RID/Preferred_name': 'string-of-pearls sign of bowel', 'org/RID/Preferred_name_German': 'string-of-pearls sign of bowel (EN)', 'org/RID/Related_modality': 'http://radlex.org/RID/RID10345', 'org/RID/Source': 'Radiology 2000; 214:157-158'}}\n"
     ]
    }
   ],
   "source": [
    "print(doc)"
   ]
  },
  {
   "cell_type": "code",
   "execution_count": null,
   "metadata": {},
   "outputs": [],
   "source": []
  },
  {
   "cell_type": "markdown",
   "metadata": {},
   "source": [
    "### Code to try transformation before writing to MongoDB"
   ]
  },
  {
   "cell_type": "code",
   "execution_count": 10,
   "metadata": {},
   "outputs": [
    {
     "name": "stdout",
     "output_type": "stream",
     "text": [
      "{\n",
      "  \"id\": \"RID35591\",\n",
      "  \"preferredLabel\": \"string-of-pearls sign of bowel\",\n",
      "  \"synonyms\": null,\n",
      "  \"parent\": \"RID29023\",\n",
      "  \"definition\": \"Oblique or horizontal row of air bubbles visible on abdominal radiograph; almost always indicates small bowel obstruction; air is trapped between valvulae conniventes along the superior wall of the intestine.\",\n",
      "  \"radlexProperties\": {\n",
      "    \"anatomicalSite\": \"RID132\",\n",
      "    \"comment\": \"157\",\n",
      "    \"definition\": \"Oblique or horizontal row of air bubbles visible on abdominal radiograph; almost always indicates small bowel obstruction; air is trapped between valvulae conniventes along the superior wall of the intestine.\",\n",
      "    \"mayBeCausedBy\": \"RID4962\",\n",
      "    \"is_A\": null,\n",
      "    \"source\": \"Radiology 2000; 214:157-158\",\n",
      "    \"relatedModality\": \"RID10345\",\n",
      "    \"preferredName\": \"string-of-pearls sign of bowel\",\n",
      "    \"preferredNameGerman\": \"string-of-pearls sign of bowel (EN)\"\n",
      "  }\n",
      "}\n"
     ]
    }
   ],
   "source": [
    "t_doc = transform_radlex(doc)\n",
    "\n",
    "print(t_doc.model_dump_json(indent=2))\n",
    "\n"
   ]
  },
  {
   "cell_type": "code",
   "execution_count": 6,
   "metadata": {},
   "outputs": [
    {
     "name": "stdout",
     "output_type": "stream",
     "text": [
      "{\n",
      "  \"id\": \"RID35591\",\n",
      "  \"preferredLabel\": \"string-of-pearls sign of bowel\",\n",
      "  \"synonyms\": null,\n",
      "  \"parent\": \"RID29023\",\n",
      "  \"definition\": \"Oblique or horizontal row of air bubbles visible on abdominal radiograph; almost always indicates small bowel obstruction; air is trapped between valvulae conniventes along the superior wall of the intestine.\",\n",
      "  \"radlexProperties\": {\n",
      "    \"anatomicalSite\": \"RID132\",\n",
      "    \"comment\": \"157\",\n",
      "    \"definition\": \"Oblique or horizontal row of air bubbles visible on abdominal radiograph; almost always indicates small bowel obstruction; air is trapped between valvulae conniventes along the superior wall of the intestine.\",\n",
      "    \"mayBeCausedBy\": \"RID4962\",\n",
      "    \"is_A\": null,\n",
      "    \"source\": \"Radiology 2000; 214:157-158\",\n",
      "    \"relatedModality\": \"RID10345\",\n",
      "    \"preferredName\": \"string-of-pearls sign of bowel\",\n",
      "    \"preferredNameGerman\": \"string-of-pearls sign of bowel (EN)\"\n",
      "  }\n",
      "}\n",
      "{\n",
      "  \"id\": \"RID45335\",\n",
      "  \"preferredLabel\": \"peripheral segment of nerve to left sternocleidomastoid\",\n",
      "  \"synonyms\": null,\n",
      "  \"parent\": \"RID45333\",\n",
      "  \"definition\": \"\",\n",
      "  \"radlexProperties\": {\n",
      "    \"anatomicalSite\": null,\n",
      "    \"comment\": null,\n",
      "    \"definition\": null,\n",
      "    \"mayBeCausedBy\": null,\n",
      "    \"is_A\": null,\n",
      "    \"source\": null,\n",
      "    \"relatedModality\": null,\n",
      "    \"preferredName\": \"peripheral segment of nerve to left sternocleidomastoid\",\n",
      "    \"preferredNameGerman\": \"peripheres Segment des Nervs zum linken Musculus sternocleidomastoideus\"\n",
      "  }\n",
      "}\n",
      "{\n",
      "  \"id\": \"RID30121\",\n",
      "  \"preferredLabel\": \"surface of cardia of stomach\",\n",
      "  \"synonyms\": null,\n",
      "  \"parent\": \"RID30094\",\n",
      "  \"definition\": \"\",\n",
      "  \"radlexProperties\": {\n",
      "    \"anatomicalSite\": null,\n",
      "    \"comment\": null,\n",
      "    \"definition\": null,\n",
      "    \"mayBeCausedBy\": null,\n",
      "    \"is_A\": null,\n",
      "    \"source\": null,\n",
      "    \"relatedModality\": null,\n",
      "    \"preferredName\": \"surface of cardia of stomach\",\n",
      "    \"preferredNameGerman\": \"Oberfläche der Kardia des Magens\"\n",
      "  }\n",
      "}\n",
      "{\n",
      "  \"id\": \"RID38411\",\n",
      "  \"preferredLabel\": \"postcentral branch of spinal branch of left third lumbar artery\",\n",
      "  \"synonyms\": null,\n",
      "  \"parent\": \"RID38409\",\n",
      "  \"definition\": \"\",\n",
      "  \"radlexProperties\": {\n",
      "    \"anatomicalSite\": null,\n",
      "    \"comment\": null,\n",
      "    \"definition\": null,\n",
      "    \"mayBeCausedBy\": null,\n",
      "    \"is_A\": null,\n",
      "    \"source\": null,\n",
      "    \"relatedModality\": null,\n",
      "    \"preferredName\": \"postcentral branch of spinal branch of left third lumbar artery\",\n",
      "    \"preferredNameGerman\": \"Ramus postcentralis des Ramus spinalis der linken Arteria lumbalis III\"\n",
      "  }\n",
      "}\n",
      "{\n",
      "  \"id\": \"RID30527\",\n",
      "  \"preferredLabel\": \"solitary lymphoid follicle of cecum\",\n",
      "  \"synonyms\": null,\n",
      "  \"parent\": \"RID30526\",\n",
      "  \"definition\": \"\",\n",
      "  \"radlexProperties\": {\n",
      "    \"anatomicalSite\": null,\n",
      "    \"comment\": null,\n",
      "    \"definition\": null,\n",
      "    \"mayBeCausedBy\": null,\n",
      "    \"is_A\": null,\n",
      "    \"source\": null,\n",
      "    \"relatedModality\": null,\n",
      "    \"preferredName\": \"solitary lymphoid follicle of cecum\",\n",
      "    \"preferredNameGerman\": \"solitärer Lymphfollikel des Caecums\"\n",
      "  }\n",
      "}\n",
      "{\n",
      "  \"id\": \"RID32592\",\n",
      "  \"preferredLabel\": \"superior pancreatic lymphatic vessel\",\n",
      "  \"synonyms\": null,\n",
      "  \"parent\": \"RID32591\",\n",
      "  \"definition\": \"\",\n",
      "  \"radlexProperties\": {\n",
      "    \"anatomicalSite\": null,\n",
      "    \"comment\": null,\n",
      "    \"definition\": null,\n",
      "    \"mayBeCausedBy\": null,\n",
      "    \"is_A\": null,\n",
      "    \"source\": null,\n",
      "    \"relatedModality\": null,\n",
      "    \"preferredName\": \"superior pancreatic lymphatic vessel\",\n",
      "    \"preferredNameGerman\": \"oberes pankreatisches Lymphgefäß\"\n",
      "  }\n",
      "}\n",
      "{\n",
      "  \"id\": \"RID10188\",\n",
      "  \"preferredLabel\": \"stapedius\",\n",
      "  \"synonyms\": null,\n",
      "  \"parent\": \"RID10185\",\n",
      "  \"definition\": \"The stapedius muscle arises from the wall of the middle ear and is inserted into the neck of the stapes. Its action is to pull the head of the stapes backward. [MeSH]\",\n",
      "  \"radlexProperties\": {\n",
      "    \"anatomicalSite\": null,\n",
      "    \"comment\": null,\n",
      "    \"definition\": \"The stapedius muscle arises from the wall of the middle ear and is inserted into the neck of the stapes. Its action is to pull the head of the stapes backward. [MeSH]\",\n",
      "    \"mayBeCausedBy\": null,\n",
      "    \"is_A\": null,\n",
      "    \"source\": null,\n",
      "    \"relatedModality\": null,\n",
      "    \"preferredName\": \"stapedius\",\n",
      "    \"preferredNameGerman\": \"Musculus stapedius\"\n",
      "  }\n",
      "}\n",
      "{\n",
      "  \"id\": \"RID22326\",\n",
      "  \"preferredLabel\": \"trunk of superficial transverse perineal muscle branch of perineal nerve\",\n",
      "  \"synonyms\": null,\n",
      "  \"parent\": \"RID22325\",\n",
      "  \"definition\": \"\",\n",
      "  \"radlexProperties\": {\n",
      "    \"anatomicalSite\": null,\n",
      "    \"comment\": null,\n",
      "    \"definition\": null,\n",
      "    \"mayBeCausedBy\": null,\n",
      "    \"is_A\": null,\n",
      "    \"source\": null,\n",
      "    \"relatedModality\": null,\n",
      "    \"preferredName\": \"trunk of superficial transverse perineal muscle branch of perineal nerve\",\n",
      "    \"preferredNameGerman\": \"Truncus des Ramus des Nervus perinealis zum Musculus transversus perinei superficialis\"\n",
      "  }\n",
      "}\n",
      "{\n",
      "  \"id\": \"RID27427\",\n",
      "  \"preferredLabel\": \"t4 segment of ventral gray column of spinal cord\",\n",
      "  \"synonyms\": [\n",
      "    \"t4 segment of anterior gray column of spinal cord\"\n",
      "  ],\n",
      "  \"parent\": \"RID27417\",\n",
      "  \"definition\": \"\",\n",
      "  \"radlexProperties\": {\n",
      "    \"anatomicalSite\": null,\n",
      "    \"comment\": null,\n",
      "    \"definition\": null,\n",
      "    \"mayBeCausedBy\": null,\n",
      "    \"is_A\": null,\n",
      "    \"source\": null,\n",
      "    \"relatedModality\": null,\n",
      "    \"preferredName\": \"t4 segment of ventral gray column of spinal cord\",\n",
      "    \"preferredNameGerman\": \"Segment T4 der Vordersäule des Rückenmarks\"\n",
      "  }\n",
      "}\n",
      "{\n",
      "  \"id\": \"RID427\",\n",
      "  \"preferredLabel\": \"root of mesentery\",\n",
      "  \"synonyms\": [\n",
      "    \"radix mesenterii,mesentery root,radix mesenterii\"\n",
      "  ],\n",
      "  \"parent\": \"RID29797\",\n",
      "  \"definition\": \"\",\n",
      "  \"radlexProperties\": {\n",
      "    \"anatomicalSite\": null,\n",
      "    \"comment\": null,\n",
      "    \"definition\": null,\n",
      "    \"mayBeCausedBy\": null,\n",
      "    \"is_A\": null,\n",
      "    \"source\": null,\n",
      "    \"relatedModality\": null,\n",
      "    \"preferredName\": \"root of mesentery\",\n",
      "    \"preferredNameGerman\": \"Mesenterialwurzel\"\n",
      "  }\n",
      "}\n"
     ]
    }
   ],
   "source": [
    "# Check multiple documents\n",
    "docs = await collection.find({}).to_list(length=10)\n",
    "for doc in docs:\n",
    "    t = Transform(doc)\n",
    "    t_doc = t.transform_func()\n",
    "    print(t_doc.model_dump_json(indent=2))"
   ]
  },
  {
   "cell_type": "code",
   "execution_count": null,
   "metadata": {},
   "outputs": [],
   "source": []
  },
  {
   "cell_type": "code",
   "execution_count": null,
   "metadata": {},
   "outputs": [],
   "source": []
  },
  {
   "cell_type": "code",
   "execution_count": null,
   "metadata": {},
   "outputs": [],
   "source": []
  },
  {
   "cell_type": "code",
   "execution_count": null,
   "metadata": {},
   "outputs": [],
   "source": []
  },
  {
   "cell_type": "markdown",
   "metadata": {},
   "source": [
    "# Code to write transformed RadLex to new 'radlex' collection in MongoDB"
   ]
  },
  {
   "cell_type": "code",
   "execution_count": 4,
   "metadata": {},
   "outputs": [
    {
     "ename": "NameError",
     "evalue": "name 'radlex_old' is not defined",
     "output_type": "error",
     "traceback": [
      "\u001b[1;31m---------------------------------------------------------------------------\u001b[0m",
      "\u001b[1;31mNameError\u001b[0m                                 Traceback (most recent call last)",
      "Cell \u001b[1;32mIn[4], line 6\u001b[0m\n\u001b[0;32m      2\u001b[0m transformed_docs \u001b[38;5;241m=\u001b[39m []\n\u001b[0;32m      5\u001b[0m \u001b[38;5;66;03m# iterate over documents in \"RadLex\" collection\u001b[39;00m\n\u001b[1;32m----> 6\u001b[0m \u001b[38;5;28;01mfor\u001b[39;00m doc \u001b[38;5;129;01min\u001b[39;00m \u001b[43mradlex_old\u001b[49m\u001b[38;5;241m.\u001b[39mfind():\n\u001b[0;32m      7\u001b[0m     \u001b[38;5;66;03m# Transform the document\u001b[39;00m\n\u001b[0;32m      8\u001b[0m     transformed_doc \u001b[38;5;241m=\u001b[39m Transform(doc)\n\u001b[0;32m      9\u001b[0m     \u001b[38;5;66;03m# Append the transformed document to the list\u001b[39;00m\n",
      "\u001b[1;31mNameError\u001b[0m: name 'radlex_old' is not defined"
     ]
    }
   ],
   "source": [
    "# Create a list to store the transformed documents\n",
    "transformed_docs = []\n",
    "\n",
    "\n",
    "# iterate over documents in \"RadLex\" collection\n",
    "#for doc in radlex_old.find():\n",
    "    # Transform the document\n",
    "    transformed_doc = Transform(doc)\n",
    "    # Append the transformed document to the list\n",
    "    transformed_docs.append(transformed_doc)"
   ]
  },
  {
   "cell_type": "code",
   "execution_count": null,
   "metadata": {},
   "outputs": [],
   "source": [
    "# Access the new \"radlex\" collection in MongoDB\n",
    "radlex_new = db['radlex']\n",
    "\n",
    "\n",
    "\n",
    "# write the transformed documents to the new \"radlex\" collection\n",
    "radlex_new.insert_many(transformed_docs)"
   ]
  }
 ],
 "metadata": {
  "kernelspec": {
   "display_name": "Python 3",
   "language": "python",
   "name": "python3"
  },
  "language_info": {
   "codemirror_mode": {
    "name": "ipython",
    "version": 3
   },
   "file_extension": ".py",
   "mimetype": "text/x-python",
   "name": "python",
   "nbconvert_exporter": "python",
   "pygments_lexer": "ipython3",
   "version": "3.11.9"
  }
 },
 "nbformat": 4,
 "nbformat_minor": 2
}
