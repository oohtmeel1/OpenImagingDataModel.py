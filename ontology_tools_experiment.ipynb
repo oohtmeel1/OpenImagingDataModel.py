{
 "cells": [
  {
   "cell_type": "code",
   "execution_count": 1,
   "metadata": {},
   "outputs": [],
   "source": [
    "# import local modules\n",
    "# import MongoDB modules\n",
    "import motor.motor_asyncio\n",
    "from dotenv import dotenv_values\n",
    "from openimagingdatamodel.ontology_tools import RadLexConcept, transform_radlex"
   ]
  },
  {
   "cell_type": "code",
   "execution_count": 2,
   "metadata": {},
   "outputs": [
    {
     "name": "stdout",
     "output_type": "stream",
     "text": [
      "Count of documents in the collection: 46761\n"
     ]
    }
   ],
   "source": [
    "# establish connection to MongoDB\n",
    "config = dotenv_values(\".env\")\n",
    "client = motor.motor_asyncio.AsyncIOMotorClient(config[\"ATLAS_DSN\"])\n",
    "db = client[\"ontologies\"]\n",
    "collection = db[\"RadLex\"]\n",
    "# Get the count of documents in the collection to confirm that the data was loaded\n",
    "count = await collection.count_documents({})\n",
    "print(f\"Count of documents in the collection: {count}\")"
   ]
  },
  {
   "cell_type": "code",
   "execution_count": 3,
   "metadata": {},
   "outputs": [],
   "source": [
    "# Access the ontologies database and \"RadLex\" collection\n",
    "doc = await collection.find_one()"
   ]
  },
  {
   "cell_type": "code",
   "execution_count": 4,
   "metadata": {},
   "outputs": [
    {
     "name": "stdout",
     "output_type": "stream",
     "text": [
      "{'_id': ObjectId('65f84ed1f80fad5323c79c1f'), 'Class ID': 'http://radlex.org/RID/RID35591', 'Preferred Label': 'string-of-pearls sign of bowel', 'Definitions': 'Oblique or horizontal row of air bubbles visible on abdominal radiograph; almost always indicates small bowel obstruction; air is trapped between valvulae conniventes along the superior wall of the intestine.', 'Obsolete': False, 'Parents': 'http://radlex.org/RID/RID29023', 'http://data': {'bioontology': {'org/metadata/prefixIRI': 'RID35591'}}, 'http://radlex': {'org/RID/Anatomical_Site': 'http://radlex.org/RID/RID132', 'org/RID/Comment': 'http://radiology.rsna.org/cgi/content/full/214/1/157', 'org/RID/Definition': 'Oblique or horizontal row of air bubbles visible on abdominal radiograph; almost always indicates small bowel obstruction; air is trapped between valvulae conniventes along the superior wall of the intestine.', 'org/RID/May_Be_Caused_By': 'http://radlex.org/RID/RID4962', 'org/RID/Preferred_name': 'string-of-pearls sign of bowel', 'org/RID/Preferred_name_German': 'string-of-pearls sign of bowel (EN)', 'org/RID/Related_modality': 'http://radlex.org/RID/RID10345', 'org/RID/Source': 'Radiology 2000; 214:157-158'}}\n"
     ]
    }
   ],
   "source": [
    "print(doc)"
   ]
  },
  {
   "cell_type": "markdown",
   "metadata": {},
   "source": [
    "### Code to try transformation before writing to MongoDB\n"
   ]
  },
  {
   "cell_type": "code",
   "execution_count": 5,
   "metadata": {},
   "outputs": [
    {
     "name": "stdout",
     "output_type": "stream",
     "text": [
      "{\n",
      "  \"id\": \"RID35591\",\n",
      "  \"preferred_label\": \"string-of-pearls sign of bowel\",\n",
      "  \"synonyms\": null,\n",
      "  \"parent\": \"RID29023\",\n",
      "  \"definition\": \"Oblique or horizontal row of air bubbles visible on abdominal radiograph; almost always indicates small bowel obstruction; air is trapped between valvulae conniventes along the superior wall of the intestine.\",\n",
      "  \"radlex_properties\": {\n",
      "    \"anatomical_site\": \"RID132\",\n",
      "    \"comment\": \"157\",\n",
      "    \"definition\": \"Oblique or horizontal row of air bubbles visible on abdominal radiograph; almost always indicates small bowel obstruction; air is trapped between valvulae conniventes along the superior wall of the intestine.\",\n",
      "    \"may_be_caused_by\": \"RID4962\",\n",
      "    \"preferred_name\": \"string-of-pearls sign of bowel\",\n",
      "    \"preferred_name_german\": \"string-of-pearls sign of bowel (EN)\",\n",
      "    \"related_modality\": \"RID10345\",\n",
      "    \"source\": \"Radiology 2000; 214:157-158\"\n",
      "  }\n",
      "}\n"
     ]
    }
   ],
   "source": [
    "t_doc = transform_radlex(doc)\n",
    "print(t_doc.model_dump_json(indent=2))"
   ]
  },
  {
   "cell_type": "code",
   "execution_count": 6,
   "metadata": {},
   "outputs": [
    {
     "name": "stdout",
     "output_type": "stream",
     "text": [
      "{\n",
      "  \"id\": \"RID35591\",\n",
      "  \"preferred_label\": \"string-of-pearls sign of bowel\",\n",
      "  \"synonyms\": null,\n",
      "  \"parent\": \"RID29023\",\n",
      "  \"definition\": \"Oblique or horizontal row of air bubbles visible on abdominal radiograph; almost always indicates small bowel obstruction; air is trapped between valvulae conniventes along the superior wall of the intestine.\",\n",
      "  \"radlex_properties\": {\n",
      "    \"anatomical_site\": \"RID132\",\n",
      "    \"comment\": \"157\",\n",
      "    \"definition\": \"Oblique or horizontal row of air bubbles visible on abdominal radiograph; almost always indicates small bowel obstruction; air is trapped between valvulae conniventes along the superior wall of the intestine.\",\n",
      "    \"may_be_caused_by\": \"RID4962\",\n",
      "    \"preferred_name\": \"string-of-pearls sign of bowel\",\n",
      "    \"preferred_name_german\": \"string-of-pearls sign of bowel (EN)\",\n",
      "    \"related_modality\": \"RID10345\",\n",
      "    \"source\": \"Radiology 2000; 214:157-158\"\n",
      "  }\n",
      "}\n",
      "{\n",
      "  \"id\": \"RID45335\",\n",
      "  \"preferred_label\": \"peripheral segment of nerve to left sternocleidomastoid\",\n",
      "  \"synonyms\": null,\n",
      "  \"parent\": \"RID45333\",\n",
      "  \"definition\": \"\",\n",
      "  \"radlex_properties\": {\n",
      "    \"fmaid\": \"288509\",\n",
      "    \"has_regional_part\": \"RID22021\",\n",
      "    \"preferred_name\": \"peripheral segment of nerve to left sternocleidomastoid\",\n",
      "    \"preferred_name_german\": \"peripheres Segment des Nervs zum linken Musculus sternocleidomastoideus\",\n",
      "    \"regional_part_of\": \"RID27715\"\n",
      "  }\n",
      "}\n",
      "{\n",
      "  \"id\": \"RID30121\",\n",
      "  \"preferred_label\": \"surface of cardia of stomach\",\n",
      "  \"synonyms\": null,\n",
      "  \"parent\": \"RID30094\",\n",
      "  \"definition\": \"\",\n",
      "  \"radlex_properties\": {\n",
      "    \"fmaid\": \"17490\",\n",
      "    \"preferred_name\": \"surface of cardia of stomach\",\n",
      "    \"preferred_name_german\": \"Oberfläche der Kardia des Magens\"\n",
      "  }\n",
      "}\n",
      "{\n",
      "  \"id\": \"RID38411\",\n",
      "  \"preferred_label\": \"postcentral branch of spinal branch of left third lumbar artery\",\n",
      "  \"synonyms\": null,\n",
      "  \"parent\": \"RID38409\",\n",
      "  \"definition\": \"\",\n",
      "  \"radlex_properties\": {\n",
      "    \"fmaid\": \"15206\",\n",
      "    \"preferred_name\": \"postcentral branch of spinal branch of left third lumbar artery\",\n",
      "    \"preferred_name_german\": \"Ramus postcentralis des Ramus spinalis der linken Arteria lumbalis III\"\n",
      "  }\n",
      "}\n",
      "{\n",
      "  \"id\": \"RID30527\",\n",
      "  \"preferred_label\": \"solitary lymphoid follicle of cecum\",\n",
      "  \"synonyms\": null,\n",
      "  \"parent\": \"RID30526\",\n",
      "  \"definition\": \"\",\n",
      "  \"radlex_properties\": {\n",
      "    \"fmaid\": \"15682\",\n",
      "    \"preferred_name\": \"solitary lymphoid follicle of cecum\",\n",
      "    \"preferred_name_german\": \"solitärer Lymphfollikel des Caecums\"\n",
      "  }\n",
      "}\n",
      "{\n",
      "  \"id\": \"RID32592\",\n",
      "  \"preferred_label\": \"superior pancreatic lymphatic vessel\",\n",
      "  \"synonyms\": null,\n",
      "  \"parent\": \"RID32591\",\n",
      "  \"definition\": \"\",\n",
      "  \"radlex_properties\": {\n",
      "    \"fmaid\": \"234783\",\n",
      "    \"preferred_name\": \"superior pancreatic lymphatic vessel\",\n",
      "    \"preferred_name_german\": \"oberes pankreatisches Lymphgefäß\"\n",
      "  }\n",
      "}\n",
      "{\n",
      "  \"id\": \"RID10188\",\n",
      "  \"preferred_label\": \"stapedius\",\n",
      "  \"synonyms\": null,\n",
      "  \"parent\": \"RID10185\",\n",
      "  \"definition\": \"The stapedius muscle arises from the wall of the middle ear and is inserted into the neck of the stapes. Its action is to pull the head of the stapes backward. [MeSH]\",\n",
      "  \"radlex_properties\": {\n",
      "    \"definition\": \"The stapedius muscle arises from the wall of the middle ear and is inserted into the neck of the stapes. Its action is to pull the head of the stapes backward. [MeSH]\",\n",
      "    \"preferred_name\": \"stapedius\",\n",
      "    \"preferred_name_german\": \"Musculus stapedius\",\n",
      "    \"umls_id\": \"C0038151\"\n",
      "  }\n",
      "}\n",
      "{\n",
      "  \"id\": \"RID22326\",\n",
      "  \"preferred_label\": \"trunk of superficial transverse perineal muscle branch of perineal nerve\",\n",
      "  \"synonyms\": null,\n",
      "  \"parent\": \"RID22325\",\n",
      "  \"definition\": \"\",\n",
      "  \"radlex_properties\": {\n",
      "    \"fmaid\": \"78765\",\n",
      "    \"preferred_name\": \"trunk of superficial transverse perineal muscle branch of perineal nerve\",\n",
      "    \"preferred_name_german\": \"Truncus des Ramus des Nervus perinealis zum Musculus transversus perinei superficialis\"\n",
      "  }\n",
      "}\n",
      "{\n",
      "  \"id\": \"RID27427\",\n",
      "  \"preferred_label\": \"t4 segment of ventral gray column of spinal cord\",\n",
      "  \"synonyms\": [\n",
      "    \"t4 segment of anterior gray column of spinal cord\"\n",
      "  ],\n",
      "  \"parent\": \"RID27417\",\n",
      "  \"definition\": \"\",\n",
      "  \"radlex_properties\": {\n",
      "    \"fmaid\": \"267343\",\n",
      "    \"part_of\": \"RID27414\",\n",
      "    \"preferred_name\": \"t4 segment of ventral gray column of spinal cord\",\n",
      "    \"preferred_name_german\": \"Segment T4 der Vordersäule des Rückenmarks\",\n",
      "    \"regional_part_of\": \"RID27414\",\n",
      "    \"synonym\": \"t4 segment of anterior gray column of spinal cord\"\n",
      "  }\n",
      "}\n",
      "{\n",
      "  \"id\": \"RID427\",\n",
      "  \"preferred_label\": \"root of mesentery\",\n",
      "  \"synonyms\": [\n",
      "    \"radix mesenterii\",\n",
      "    \"mesentery root\",\n",
      "    \"radix mesenterii\"\n",
      "  ],\n",
      "  \"parent\": \"RID29797\",\n",
      "  \"definition\": \"\",\n",
      "  \"radlex_properties\": {\n",
      "    \"fmaid\": \"21057\",\n",
      "    \"preferred_name\": \"root of mesentery\",\n",
      "    \"preferred_name_german\": \"Mesenterialwurzel\",\n",
      "    \"synonym\": \"radix mesenterii|mesentery root\",\n",
      "    \"synonym_german\": \"radix mesenterii\"\n",
      "  }\n",
      "}\n"
     ]
    }
   ],
   "source": [
    "# Check multiple documents\n",
    "docs = await collection.find({}).to_list(length=10)\n",
    "for doc in docs:\n",
    "    t_doc = transform_radlex(doc)\n",
    "    print(t_doc.model_dump_json(indent=2))"
   ]
  },
  {
   "cell_type": "code",
   "execution_count": null,
   "metadata": {},
   "outputs": [],
   "source": []
  },
  {
   "cell_type": "code",
   "execution_count": null,
   "metadata": {},
   "outputs": [],
   "source": []
  },
  {
   "cell_type": "code",
   "execution_count": null,
   "metadata": {},
   "outputs": [],
   "source": []
  },
  {
   "cell_type": "code",
   "execution_count": null,
   "metadata": {},
   "outputs": [],
   "source": []
  },
  {
   "cell_type": "markdown",
   "metadata": {},
   "source": [
    "# Code to write transformed RadLex to new 'radlex' collection in MongoDB\n"
   ]
  },
  {
   "cell_type": "code",
   "execution_count": 4,
   "metadata": {},
   "outputs": [
    {
     "ename": "NameError",
     "evalue": "name 'radlex_old' is not defined",
     "output_type": "error",
     "traceback": [
      "\u001b[1;31m---------------------------------------------------------------------------\u001b[0m",
      "\u001b[1;31mNameError\u001b[0m                                 Traceback (most recent call last)",
      "Cell \u001b[1;32mIn[4], line 6\u001b[0m\n\u001b[0;32m      2\u001b[0m transformed_docs \u001b[38;5;241m=\u001b[39m []\n\u001b[0;32m      5\u001b[0m \u001b[38;5;66;03m# iterate over documents in \"RadLex\" collection\u001b[39;00m\n\u001b[1;32m----> 6\u001b[0m \u001b[38;5;28;01mfor\u001b[39;00m doc \u001b[38;5;129;01min\u001b[39;00m \u001b[43mradlex_old\u001b[49m\u001b[38;5;241m.\u001b[39mfind():\n\u001b[0;32m      7\u001b[0m     \u001b[38;5;66;03m# Transform the document\u001b[39;00m\n\u001b[0;32m      8\u001b[0m     transformed_doc \u001b[38;5;241m=\u001b[39m Transform(doc)\n\u001b[0;32m      9\u001b[0m     \u001b[38;5;66;03m# Append the transformed document to the list\u001b[39;00m\n",
      "\u001b[1;31mNameError\u001b[0m: name 'radlex_old' is not defined"
     ]
    }
   ],
   "source": [
    "# Create a list to store the transformed documents\n",
    "transformed_docs = []\n",
    "\n",
    "\n",
    "# iterate over documents in \"RadLex\" collection\n",
    "#for doc in radlex_old.find():\n",
    "    # Transform the document\n",
    "    transformed_doc = Transform(doc)\n",
    "    # Append the transformed document to the list\n",
    "    transformed_docs.append(transformed_doc)"
   ]
  },
  {
   "cell_type": "code",
   "execution_count": null,
   "metadata": {},
   "outputs": [],
   "source": [
    "# Access the new \"radlex\" collection in MongoDB\n",
    "radlex_new = db[\"radlex\"]\n",
    "\n",
    "\n",
    "# write the transformed documents to the new \"radlex\" collection\n",
    "radlex_new.insert_many(transformed_docs)"
   ]
  }
 ],
 "metadata": {
  "kernelspec": {
   "display_name": "Python 3",
   "language": "python",
   "name": "python3"
  },
  "language_info": {
   "codemirror_mode": {
    "name": "ipython",
    "version": 3
   },
   "file_extension": ".py",
   "mimetype": "text/x-python",
   "name": "python",
   "nbconvert_exporter": "python",
   "pygments_lexer": "ipython3",
   "version": "3.11.8"
  }
 },
 "nbformat": 4,
 "nbformat_minor": 2
}
