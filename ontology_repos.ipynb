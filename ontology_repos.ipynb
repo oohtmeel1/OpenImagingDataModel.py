{
 "cells": [
  {
   "cell_type": "code",
   "execution_count": 1,
   "metadata": {},
   "outputs": [],
   "source": [
    "import random\n",
    "import motor.motor_asyncio\n",
    "from dotenv import dotenv_values\n",
    "from openimagingdatamodel.ontology_tools.radlex_concept import RadLexConcept\n",
    "from openimagingdatamodel.ontology_tools.snomedct_concept import SnomedCTConcept"
   ]
  },
  {
   "cell_type": "markdown",
   "metadata": {},
   "source": [
    "## Setup\n"
   ]
  },
  {
   "cell_type": "code",
   "execution_count": 2,
   "metadata": {},
   "outputs": [
    {
     "name": "stdout",
     "output_type": "stream",
     "text": [
      "{'version': '7.0.11', 'gitVersion': 'f451220f0df2b9dfe073f1521837f8ec5c208a8c', 'modules': ['enterprise'], 'allocator': 'tcmalloc', 'javascriptEngine': 'mozjs', 'sysInfo': 'deprecated', 'versionArray': [7, 0, 11, 0], 'bits': 64, 'debug': False, 'maxBsonObjectSize': 16777216, 'storageEngines': ['devnull', 'inMemory', 'queryable_wt', 'wiredTiger'], 'ok': 1.0, '$clusterTime': {'clusterTime': Timestamp(1717160847, 14), 'signature': {'hash': b'\\x9c*\\x82\\x0c\\x82\\x0bD\\x08\\xcf\\xd9\\x17w\\xeb\\xf3\\xb1\\x88f.v!', 'keyId': 7327016299177967635}}, 'operationTime': Timestamp(1717160847, 14)}\n"
     ]
    }
   ],
   "source": [
    "config = dotenv_values(\".env\")\n",
    "client = motor.motor_asyncio.AsyncIOMotorClient(config[\"ATLAS_DSN\"])\n",
    "# Ping the client to confirm\n",
    "print(await client.server_info())  #"
   ]
  },
  {
   "cell_type": "code",
   "execution_count": 3,
   "metadata": {},
   "outputs": [
    {
     "name": "stdout",
     "output_type": "stream",
     "text": [
      "RADLEX_COUNT: 46761\n",
      "SNOMEDCT_COUNT: 508540\n"
     ]
    }
   ],
   "source": [
    "db = client[\"ontologies\"]\n",
    "radlex_collection = db[\"radlex\"]\n",
    "RADLEX_COUNT = await radlex_collection.count_documents({})\n",
    "print(f\"RADLEX_COUNT: {RADLEX_COUNT}\")\n",
    "snomedct_collection = db[\"snomedct\"]\n",
    "SNOMEDCT_COUNT = await snomedct_collection.count_documents({})\n",
    "print(f\"SNOMEDCT_COUNT: {SNOMEDCT_COUNT}\")"
   ]
  },
  {
   "cell_type": "markdown",
   "metadata": {},
   "source": [
    "## SnomedCT Doc\n"
   ]
  },
  {
   "cell_type": "code",
   "execution_count": 4,
   "metadata": {},
   "outputs": [
    {
     "name": "stdout",
     "output_type": "stream",
     "text": [
      "{'_id': '440839009', 'conceptId': '440839009', 'effectiveDate': '2009-01-31', 'modules': ['SNOMED-CT-core'], 'languageCode': 'en', 'preferredTerm': 'Turicibacter sanguinis', 'terms': [], 'semanticTags': ['organism'], 'caseSignificance': 'sensitive', 'definitions': None}\n"
     ]
    }
   ],
   "source": [
    "raw_doc = await snomedct_collection.find_one({}, skip=random.randint(0, SNOMEDCT_COUNT))\n",
    "print(raw_doc)"
   ]
  },
  {
   "cell_type": "code",
   "execution_count": 5,
   "metadata": {},
   "outputs": [],
   "source": [
    "doc = SnomedCTConcept(**raw_doc)"
   ]
  },
  {
   "cell_type": "code",
   "execution_count": 6,
   "metadata": {},
   "outputs": [
    {
     "name": "stdout",
     "output_type": "stream",
     "text": [
      "{\n",
      "  \"concept_id\": \"440839009\",\n",
      "  \"effective_date\": \"2009-01-31\",\n",
      "  \"modules\": [\n",
      "    \"SNOMED-CT-core\"\n",
      "  ],\n",
      "  \"language_code\": \"en\",\n",
      "  \"preferred_term\": \"Turicibacter sanguinis\",\n",
      "  \"terms\": [],\n",
      "  \"case_significance\": \"sensitive\",\n",
      "  \"definitions\": null\n",
      "}\n"
     ]
    }
   ],
   "source": [
    "print(doc.model_dump_json(indent=2))"
   ]
  },
  {
   "cell_type": "markdown",
   "metadata": {},
   "source": [
    "## RadLex Doc\n"
   ]
  },
  {
   "cell_type": "code",
   "execution_count": 7,
   "metadata": {},
   "outputs": [
    {
     "name": "stdout",
     "output_type": "stream",
     "text": [
      "{'_id': 'RID20925', 'preferredLabel': 'right lateral dorsal nucleus', 'parent': 'RID6608', 'radlexProperties': {'fmaid': '73015', 'preferredNameGerman': 'rechter Nucleus dorsalis lateralis', 'talairach': '788'}}\n"
     ]
    }
   ],
   "source": [
    "raw_doc = await radlex_collection.find_one({}, skip=random.randint(0, RADLEX_COUNT))\n",
    "print(raw_doc)"
   ]
  },
  {
   "cell_type": "code",
   "execution_count": 8,
   "metadata": {},
   "outputs": [
    {
     "name": "stdout",
     "output_type": "stream",
     "text": [
      "{\n",
      "  \"id\": \"RID20925\",\n",
      "  \"preferred_label\": \"right lateral dorsal nucleus\",\n",
      "  \"synonyms\": null,\n",
      "  \"parent\": \"RID6608\",\n",
      "  \"definition\": null,\n",
      "  \"radlex_properties\": {\n",
      "    \"fmaid\": \"73015\",\n",
      "    \"preferredNameGerman\": \"rechter Nucleus dorsalis lateralis\",\n",
      "    \"talairach\": \"788\"\n",
      "  }\n",
      "}\n"
     ]
    }
   ],
   "source": [
    "doc = RadLexConcept(**raw_doc)\n",
    "print(doc.model_dump_json(indent=2))"
   ]
  },
  {
   "cell_type": "markdown",
   "metadata": {},
   "source": [
    "## SNOMED CT Repo\n"
   ]
  },
  {
   "cell_type": "code",
   "execution_count": 7,
   "metadata": {},
   "outputs": [],
   "source": [
    "from openimagingdatamodel.ontology_tools.snomedct_concept_repo import SnomedCTConceptRepo"
   ]
  },
  {
   "cell_type": "code",
   "execution_count": 8,
   "metadata": {},
   "outputs": [
    {
     "name": "stdout",
     "output_type": "stream",
     "text": [
      "{\n",
      "  \"concept_id\": \"113907005\",\n",
      "  \"effective_date\": \"2003-07-31\",\n",
      "  \"modules\": [\n",
      "    \"SNOMED-CT-core\"\n",
      "  ],\n",
      "  \"language_code\": \"en\",\n",
      "  \"preferred_term\": \"Peptostreptococcus harei\",\n",
      "  \"terms\": [],\n",
      "  \"case_significance\": \"sensitive\",\n",
      "  \"definitions\": null\n",
      "}\n"
     ]
    }
   ],
   "source": [
    "snomed_repo = SnomedCTConceptRepo(snomedct_collection)\n",
    "doc = await snomed_repo.get_concept(\"113907005\")\n",
    "print(doc.model_dump_json(indent=2))"
   ]
  },
  {
   "cell_type": "code",
   "execution_count": 9,
   "metadata": {},
   "outputs": [],
   "source": [
    "heart_docs = await snomed_repo.get_search_results(\"heart\", 20)"
   ]
  },
  {
   "cell_type": "code",
   "execution_count": 10,
   "metadata": {},
   "outputs": [
    {
     "name": "stdout",
     "output_type": "stream",
     "text": [
      "{\n",
      "  \"concept_id\": \"85830006\",\n",
      "  \"preferred_term\": \"Repair of heart valve\",\n",
      "  \"semantic_tags\": [\n",
      "    \"procedure\"\n",
      "  ],\n",
      "  \"score\": 8.759529113769531\n",
      "}\n",
      "{\n",
      "  \"concept_id\": \"716661006\",\n",
      "  \"preferred_term\": \"Childhood neoplasm of heart\",\n",
      "  \"semantic_tags\": [\n",
      "    \"disorder\"\n",
      "  ],\n",
      "  \"score\": 8.428897857666016\n",
      "}\n",
      "{\n",
      "  \"concept_id\": \"715403006\",\n",
      "  \"preferred_term\": \"Adult heart tumor\",\n",
      "  \"semantic_tags\": [\n",
      "    \"disorder\"\n",
      "  ],\n",
      "  \"score\": 8.357369422912598\n",
      "}\n",
      "{\n",
      "  \"concept_id\": \"427565006\",\n",
      "  \"preferred_term\": \"Absent fetal heart rate variability\",\n",
      "  \"semantic_tags\": [\n",
      "    \"finding\"\n",
      "  ],\n",
      "  \"score\": 8.307586669921875\n",
      "}\n",
      "{\n",
      "  \"concept_id\": \"232971009\",\n",
      "  \"preferred_term\": \"Heart and heart-lung transplant\",\n",
      "  \"semantic_tags\": [\n",
      "    \"procedure\"\n",
      "  ],\n",
      "  \"score\": 7.662195205688477\n",
      "}\n",
      "{\n",
      "  \"concept_id\": \"387842002\",\n",
      "  \"preferred_term\": \"Neoplasm of heart\",\n",
      "  \"semantic_tags\": [\n",
      "    \"disorder\"\n",
      "  ],\n",
      "  \"score\": 7.362870216369629\n",
      "}\n",
      "{\n",
      "  \"concept_id\": \"32413006\",\n",
      "  \"preferred_term\": \"Transplantation of heart\",\n",
      "  \"semantic_tags\": [\n",
      "    \"procedure\"\n",
      "  ],\n",
      "  \"score\": 7.242796897888184\n",
      "}\n",
      "{\n",
      "  \"concept_id\": \"361158001\",\n",
      "  \"preferred_term\": \"Prosthetic heart\",\n",
      "  \"semantic_tags\": [\n",
      "    \"physical object\"\n",
      "  ],\n",
      "  \"score\": 7.2244110107421875\n",
      "}\n",
      "{\n",
      "  \"concept_id\": \"302509004\",\n",
      "  \"preferred_term\": \"Entire heart\",\n",
      "  \"semantic_tags\": [\n",
      "    \"body structure\"\n",
      "  ],\n",
      "  \"score\": 7.188138008117676\n",
      "}\n",
      "{\n",
      "  \"concept_id\": \"126730001\",\n",
      "  \"preferred_term\": \"Neoplasm of heart AND/OR pericardium\",\n",
      "  \"semantic_tags\": [\n",
      "    \"disorder\"\n",
      "  ],\n",
      "  \"score\": 7.160367965698242\n",
      "}\n",
      "{\n",
      "  \"concept_id\": \"253266009\",\n",
      "  \"preferred_term\": \"Heart rotated to left\",\n",
      "  \"semantic_tags\": [\n",
      "    \"finding\"\n",
      "  ],\n",
      "  \"score\": 7.059700965881348\n",
      "}\n",
      "{\n",
      "  \"concept_id\": \"195038000\",\n",
      "  \"preferred_term\": \"(Conduction disorders (& [of heart])) or (heart block)\",\n",
      "  \"semantic_tags\": [\n",
      "    \"disorder\"\n",
      "  ],\n",
      "  \"score\": 7.042590618133545\n",
      "}\n",
      "{\n",
      "  \"concept_id\": \"88610006\",\n",
      "  \"preferred_term\": \"Heart murmur\",\n",
      "  \"semantic_tags\": [\n",
      "    \"finding\"\n",
      "  ],\n",
      "  \"score\": 6.973377227783203\n",
      "}\n",
      "{\n",
      "  \"concept_id\": \"470754002\",\n",
      "  \"preferred_term\": \"Neoplasm of fetal heart\",\n",
      "  \"semantic_tags\": [\n",
      "    \"disorder\"\n",
      "  ],\n",
      "  \"score\": 6.946621894836426\n",
      "}\n",
      "{\n",
      "  \"concept_id\": \"118797008\",\n",
      "  \"preferred_term\": \"Procedure on heart\",\n",
      "  \"semantic_tags\": [\n",
      "    \"procedure\"\n",
      "  ],\n",
      "  \"score\": 6.941465377807617\n",
      "}\n",
      "{\n",
      "  \"concept_id\": \"42531007\",\n",
      "  \"preferred_term\": \"Microinfarct of heart\",\n",
      "  \"semantic_tags\": [\n",
      "    \"disorder\"\n",
      "  ],\n",
      "  \"score\": 6.941465377807617\n",
      "}\n",
      "{\n",
      "  \"concept_id\": \"81266008\",\n",
      "  \"preferred_term\": \"Heart revascularization\",\n",
      "  \"semantic_tags\": [\n",
      "    \"procedure\"\n",
      "  ],\n",
      "  \"score\": 6.941465377807617\n",
      "}\n",
      "{\n",
      "  \"concept_id\": \"40403005\",\n",
      "  \"preferred_term\": \"Catheterization of right heart\",\n",
      "  \"semantic_tags\": [\n",
      "    \"procedure\"\n",
      "  ],\n",
      "  \"score\": 6.884099960327148\n",
      "}\n",
      "{\n",
      "  \"concept_id\": \"164898000\",\n",
      "  \"preferred_term\": \"ECG: heart block\",\n",
      "  \"semantic_tags\": [\n",
      "    \"finding\"\n",
      "  ],\n",
      "  \"score\": 6.881630897521973\n",
      "}\n",
      "{\n",
      "  \"concept_id\": \"128238001\",\n",
      "  \"preferred_term\": \"Chronic heart disease\",\n",
      "  \"semantic_tags\": [\n",
      "    \"disorder\"\n",
      "  ],\n",
      "  \"score\": 6.871787071228027\n",
      "}\n"
     ]
    }
   ],
   "source": [
    "for doc in heart_docs:\n",
    "    print(doc.model_dump_json(indent=2))"
   ]
  },
  {
   "cell_type": "code",
   "execution_count": null,
   "metadata": {},
   "outputs": [],
   "source": []
  }
 ],
 "metadata": {
  "kernelspec": {
   "display_name": ".venv",
   "language": "python",
   "name": "python3"
  },
  "language_info": {
   "codemirror_mode": {
    "name": "ipython",
    "version": 3
   },
   "file_extension": ".py",
   "mimetype": "text/x-python",
   "name": "python",
   "nbconvert_exporter": "python",
   "pygments_lexer": "ipython3",
   "version": "3.11.8"
  }
 },
 "nbformat": 4,
 "nbformat_minor": 2
}
